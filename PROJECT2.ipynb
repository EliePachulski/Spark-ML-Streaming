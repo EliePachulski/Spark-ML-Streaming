{
 "cells": [
  {
   "cell_type": "markdown",
   "metadata": {
    "application/vnd.databricks.v1+cell": {
     "cellMetadata": {
      "byteLimit": 2048000,
      "rowLimit": 10000
     },
     "inputWidgets": {},
     "nuid": "9bf6f18a-5511-453d-a283-4e3de2276f24",
     "showTitle": false,
     "tableResultSettingsMap": {},
     "title": ""
    }
   },
   "source": [
    "# Project 2 - Notebook\n",
    "\n",
    "Please make sure your solution is divided into multiple code cells, explained clearly and properly, and most importantly, pretty.\n"
   ]
  },
  {
   "cell_type": "code",
   "execution_count": 0,
   "metadata": {
    "application/vnd.databricks.v1+cell": {
     "cellMetadata": {
      "byteLimit": 2048000,
      "rowLimit": 10000
     },
     "inputWidgets": {},
     "nuid": "d4dffdc6-9b10-4156-84e3-2aa633287766",
     "showTitle": false,
     "tableResultSettingsMap": {},
     "title": ""
    }
   },
   "outputs": [],
   "source": [
    "from pyspark.sql.types import *\n",
    "from pyspark.sql.functions import *\n",
    "import os,time\n",
    "from pyspark.sql import SparkSession\n",
    " \n",
    "spark = SparkSession.builder.appName(\"my_project_2\").getOrCreate()"
   ]
  },
  {
   "cell_type": "markdown",
   "metadata": {
    "application/vnd.databricks.v1+cell": {
     "cellMetadata": {
      "byteLimit": 2048000,
      "rowLimit": 10000
     },
     "inputWidgets": {},
     "nuid": "2c4ef082-3c15-445c-b5cf-bdcfecb5eb47",
     "showTitle": false,
     "tableResultSettingsMap": {},
     "title": ""
    }
   },
   "source": [
    "## Read Sub Demographic data"
   ]
  },
  {
   "cell_type": "code",
   "execution_count": 0,
   "metadata": {
    "application/vnd.databricks.v1+cell": {
     "cellMetadata": {
      "byteLimit": 2048000,
      "rowLimit": 10000
     },
     "inputWidgets": {},
     "nuid": "9ca687de-044e-4965-9866-2be25a8d6bde",
     "showTitle": false,
     "tableResultSettingsMap": {},
     "title": ""
    }
   },
   "outputs": [
    {
     "output_type": "stream",
     "name": "stdout",
     "output_type": "stream",
     "text": [
      "root\n |-- household_id: long (nullable = true)\n |-- household_size: integer (nullable = true)\n |-- num_adults: integer (nullable = true)\n |-- num_generations: integer (nullable = true)\n |-- marital_status: string (nullable = true)\n |-- race_code: string (nullable = true)\n |-- dwelling_type: string (nullable = true)\n |-- home_owner_status: string (nullable = true)\n |-- length_residence: integer (nullable = true)\n |-- home_market_value: double (nullable = true)\n |-- net_worth: double (nullable = true)\n |-- gender_individual: string (nullable = true)\n |-- education_highest: string (nullable = true)\n\n"
     ]
    },
    {
     "output_type": "display_data",
     "data": {
      "text/html": [
       "<style scoped>\n",
       "  .table-result-container {\n",
       "    max-height: 300px;\n",
       "    overflow: auto;\n",
       "  }\n",
       "  table, th, td {\n",
       "    border: 1px solid black;\n",
       "    border-collapse: collapse;\n",
       "  }\n",
       "  th, td {\n",
       "    padding: 5px;\n",
       "  }\n",
       "  th {\n",
       "    text-align: left;\n",
       "  }\n",
       "</style><div class='table-result-container'><table class='table-result'><thead style='background-color: white'><tr><th>household_id</th><th>household_size</th><th>num_adults</th><th>num_generations</th><th>marital_status</th><th>race_code</th><th>dwelling_type</th><th>home_owner_status</th><th>length_residence</th><th>home_market_value</th><th>net_worth</th><th>gender_individual</th><th>education_highest</th></tr></thead><tbody><tr><td>85</td><td>2</td><td>1</td><td>2</td><td>B</td><td>W</td><td>S</td><td>O</td><td>15</td><td>0.125</td><td>0.05</td><td>F</td><td>1</td></tr><tr><td>2073</td><td>1</td><td>1</td><td>2</td><td>M</td><td>H</td><td>S</td><td>O</td><td>15</td><td>0.15</td><td>0.1</td><td>F</td><td>1</td></tr><tr><td>2523</td><td>7</td><td>6</td><td>3</td><td>M</td><td>W</td><td>S</td><td>O</td><td>15</td><td>0.1</td><td>0.1</td><td>M</td><td>2</td></tr><tr><td>2717</td><td>3</td><td>2</td><td>2</td><td>S</td><td>W</td><td>S</td><td>O</td><td>11</td><td>0.125</td><td>0.2</td><td>M</td><td>3</td></tr><tr><td>3364</td><td>2</td><td>2</td><td>2</td><td>M</td><td>W</td><td>S</td><td>O</td><td>15</td><td>0.1</td><td>0.1</td><td>M</td><td>1</td></tr><tr><td>4046</td><td>4</td><td>3</td><td>3</td><td>M</td><td>W</td><td>S</td><td>O</td><td>6</td><td>0.075</td><td>0.05</td><td>F</td><td>1</td></tr><tr><td>4303</td><td>1</td><td>1</td><td>1</td><td>S</td><td>W</td><td>S</td><td>O</td><td>15</td><td>0.15</td><td>0.2</td><td>M</td><td>1</td></tr><tr><td>4559</td><td>3</td><td>2</td><td>2</td><td>S</td><td>W</td><td>S</td><td>O</td><td>12</td><td>0.175</td><td>0.2</td><td>F</td><td>2</td></tr><tr><td>5277</td><td>3</td><td>2</td><td>2</td><td>M</td><td>W</td><td>S</td><td>R</td><td>15</td><td>0.125</td><td>0.02</td><td>M</td><td>2</td></tr><tr><td>5440</td><td>1</td><td>1</td><td>1</td><td>S</td><td>W</td><td>S</td><td>O</td><td>8</td><td>0.225</td><td>0.2</td><td>F</td><td>1</td></tr></tbody></table></div>"
      ]
     },
     "metadata": {
      "application/vnd.databricks.v1+output": {
       "addedWidgets": {},
       "aggData": [],
       "aggError": "",
       "aggOverflow": false,
       "aggSchema": [],
       "aggSeriesLimitReached": false,
       "aggType": "",
       "arguments": {},
       "columnCustomDisplayInfos": {},
       "data": [
        [
         85,
         2,
         1,
         2,
         "B",
         "W",
         "S",
         "O",
         15,
         0.125,
         0.05,
         "F",
         "1"
        ],
        [
         2073,
         1,
         1,
         2,
         "M",
         "H",
         "S",
         "O",
         15,
         0.15,
         0.1,
         "F",
         "1"
        ],
        [
         2523,
         7,
         6,
         3,
         "M",
         "W",
         "S",
         "O",
         15,
         0.1,
         0.1,
         "M",
         "2"
        ],
        [
         2717,
         3,
         2,
         2,
         "S",
         "W",
         "S",
         "O",
         11,
         0.125,
         0.2,
         "M",
         "3"
        ],
        [
         3364,
         2,
         2,
         2,
         "M",
         "W",
         "S",
         "O",
         15,
         0.1,
         0.1,
         "M",
         "1"
        ],
        [
         4046,
         4,
         3,
         3,
         "M",
         "W",
         "S",
         "O",
         6,
         0.075,
         0.05,
         "F",
         "1"
        ],
        [
         4303,
         1,
         1,
         1,
         "S",
         "W",
         "S",
         "O",
         15,
         0.15,
         0.2,
         "M",
         "1"
        ],
        [
         4559,
         3,
         2,
         2,
         "S",
         "W",
         "S",
         "O",
         12,
         0.175,
         0.2,
         "F",
         "2"
        ],
        [
         5277,
         3,
         2,
         2,
         "M",
         "W",
         "S",
         "R",
         15,
         0.125,
         0.02,
         "M",
         "2"
        ],
        [
         5440,
         1,
         1,
         1,
         "S",
         "W",
         "S",
         "O",
         8,
         0.225,
         0.2,
         "F",
         "1"
        ]
       ],
       "datasetInfos": [],
       "dbfsResultPath": null,
       "isJsonSchema": true,
       "metadata": {},
       "overflow": false,
       "plotOptions": {
        "customPlotOptions": {},
        "displayType": "table",
        "pivotAggregation": null,
        "pivotColumns": null,
        "xColumns": null,
        "yColumns": null
       },
       "removedWidgets": [],
       "schema": [
        {
         "metadata": "{}",
         "name": "household_id",
         "type": "\"long\""
        },
        {
         "metadata": "{}",
         "name": "household_size",
         "type": "\"integer\""
        },
        {
         "metadata": "{}",
         "name": "num_adults",
         "type": "\"integer\""
        },
        {
         "metadata": "{}",
         "name": "num_generations",
         "type": "\"integer\""
        },
        {
         "metadata": "{}",
         "name": "marital_status",
         "type": "\"string\""
        },
        {
         "metadata": "{}",
         "name": "race_code",
         "type": "\"string\""
        },
        {
         "metadata": "{}",
         "name": "dwelling_type",
         "type": "\"string\""
        },
        {
         "metadata": "{}",
         "name": "home_owner_status",
         "type": "\"string\""
        },
        {
         "metadata": "{}",
         "name": "length_residence",
         "type": "\"integer\""
        },
        {
         "metadata": "{}",
         "name": "home_market_value",
         "type": "\"double\""
        },
        {
         "metadata": "{}",
         "name": "net_worth",
         "type": "\"double\""
        },
        {
         "metadata": "{}",
         "name": "gender_individual",
         "type": "\"string\""
        },
        {
         "metadata": "{}",
         "name": "education_highest",
         "type": "\"string\""
        }
       ],
       "type": "table"
      }
     },
     "output_type": "display_data"
    }
   ],
   "source": [
    "demographic_df = spark.read.parquet(\"dbfs:/FileStore/project_b_data/proj_B_demographic/\")\n",
    "demographic_df.printSchema()\n",
    "display(demographic_df.limit(10))"
   ]
  },
  {
   "cell_type": "markdown",
   "metadata": {
    "application/vnd.databricks.v1+cell": {
     "cellMetadata": {
      "byteLimit": 2048000,
      "rowLimit": 10000
     },
     "inputWidgets": {},
     "nuid": "52414b4f-3283-4a0a-81b3-71593e9a8c98",
     "showTitle": false,
     "tableResultSettingsMap": {},
     "title": ""
    }
   },
   "source": [
    "## Read Static Viewing Data"
   ]
  },
  {
   "cell_type": "code",
   "execution_count": 0,
   "metadata": {
    "application/vnd.databricks.v1+cell": {
     "cellMetadata": {
      "byteLimit": 2048000,
      "rowLimit": 10000
     },
     "inputWidgets": {},
     "nuid": "6694dd5d-7c68-40c4-9f15-1ae50b45c428",
     "showTitle": false,
     "tableResultSettingsMap": {},
     "title": ""
    }
   },
   "outputs": [
    {
     "output_type": "stream",
     "name": "stdout",
     "output_type": "stream",
     "text": [
      "root\n |-- device_id: string (nullable = true)\n |-- event_date: string (nullable = true)\n |-- event_time: string (nullable = true)\n |-- station_num: integer (nullable = true)\n |-- prog_code: string (nullable = true)\n |-- household_id: integer (nullable = true)\n\n"
     ]
    },
    {
     "output_type": "display_data",
     "data": {
      "text/html": [
       "<style scoped>\n",
       "  .table-result-container {\n",
       "    max-height: 300px;\n",
       "    overflow: auto;\n",
       "  }\n",
       "  table, th, td {\n",
       "    border: 1px solid black;\n",
       "    border-collapse: collapse;\n",
       "  }\n",
       "  th, td {\n",
       "    padding: 5px;\n",
       "  }\n",
       "  th {\n",
       "    text-align: left;\n",
       "  }\n",
       "</style><div class='table-result-container'><table class='table-result'><thead style='background-color: white'><tr><th>device_id</th><th>event_date</th><th>event_time</th><th>station_num</th><th>prog_code</th><th>household_id</th></tr></thead><tbody><tr><td>001bd74cc8d1</td><td>20150120</td><td>181338</td><td>75523</td><td>EP000009110053</td><td>3783713</td></tr><tr><td>10ea5940d694</td><td>20150120</td><td>181338</td><td>11218</td><td>MV001054110000</td><td>3787015</td></tr><tr><td>44e08ed80c35</td><td>20150120</td><td>181338</td><td>11713</td><td>SH004464010000</td><td>43921</td></tr><tr><td>0000048de4f2</td><td>20150120</td><td>181338</td><td>65626</td><td>MV000506130000</td><td>3672067</td></tr><tr><td>0000059867a7</td><td>20150120</td><td>181338</td><td>58812</td><td>EP019199930005</td><td>3645541</td></tr><tr><td>000011ff9ba9</td><td>20150120</td><td>181338</td><td>18510</td><td>EP010855880111</td><td>3642303</td></tr><tr><td>00000254e5f6</td><td>20150120</td><td>181338</td><td>35513</td><td>EP000369550087</td><td>3825751</td></tr><tr><td>000002bd8a47</td><td>20150120</td><td>181338</td><td>10035</td><td>EP013413450102</td><td>2971023</td></tr><tr><td>000003c4c597</td><td>20150120</td><td>181338</td><td>59337</td><td>MV000744670000</td><td>2358722</td></tr><tr><td>00407bba00fe</td><td>20150120</td><td>181338</td><td>14771</td><td>EP015899250028</td><td>2838674</td></tr></tbody></table></div>"
      ]
     },
     "metadata": {
      "application/vnd.databricks.v1+output": {
       "addedWidgets": {},
       "aggData": [],
       "aggError": "",
       "aggOverflow": false,
       "aggSchema": [],
       "aggSeriesLimitReached": false,
       "aggType": "",
       "arguments": {},
       "columnCustomDisplayInfos": {},
       "data": [
        [
         "001bd74cc8d1",
         "20150120",
         "181338",
         75523,
         "EP000009110053",
         3783713
        ],
        [
         "10ea5940d694",
         "20150120",
         "181338",
         11218,
         "MV001054110000",
         3787015
        ],
        [
         "44e08ed80c35",
         "20150120",
         "181338",
         11713,
         "SH004464010000",
         43921
        ],
        [
         "0000048de4f2",
         "20150120",
         "181338",
         65626,
         "MV000506130000",
         3672067
        ],
        [
         "0000059867a7",
         "20150120",
         "181338",
         58812,
         "EP019199930005",
         3645541
        ],
        [
         "000011ff9ba9",
         "20150120",
         "181338",
         18510,
         "EP010855880111",
         3642303
        ],
        [
         "00000254e5f6",
         "20150120",
         "181338",
         35513,
         "EP000369550087",
         3825751
        ],
        [
         "000002bd8a47",
         "20150120",
         "181338",
         10035,
         "EP013413450102",
         2971023
        ],
        [
         "000003c4c597",
         "20150120",
         "181338",
         59337,
         "MV000744670000",
         2358722
        ],
        [
         "00407bba00fe",
         "20150120",
         "181338",
         14771,
         "EP015899250028",
         2838674
        ]
       ],
       "datasetInfos": [],
       "dbfsResultPath": null,
       "isJsonSchema": true,
       "metadata": {},
       "overflow": false,
       "plotOptions": {
        "customPlotOptions": {},
        "displayType": "table",
        "pivotAggregation": null,
        "pivotColumns": null,
        "xColumns": null,
        "yColumns": null
       },
       "removedWidgets": [],
       "schema": [
        {
         "metadata": "{}",
         "name": "device_id",
         "type": "\"string\""
        },
        {
         "metadata": "{}",
         "name": "event_date",
         "type": "\"string\""
        },
        {
         "metadata": "{}",
         "name": "event_time",
         "type": "\"string\""
        },
        {
         "metadata": "{}",
         "name": "station_num",
         "type": "\"integer\""
        },
        {
         "metadata": "{}",
         "name": "prog_code",
         "type": "\"string\""
        },
        {
         "metadata": "{}",
         "name": "household_id",
         "type": "\"integer\""
        }
       ],
       "type": "table"
      }
     },
     "output_type": "display_data"
    }
   ],
   "source": [
    "schema = StructType([\n",
    "    StructField(\"device_id\", StringType(), True),\n",
    "    StructField(\"event_date\", StringType(), True),\n",
    "    StructField(\"event_time\", StringType(), True),     \n",
    "    StructField(\"station_num\", IntegerType(), True),\n",
    "    StructField(\"prog_code\", StringType(), True),\n",
    "    StructField(\"household_id\", IntegerType(), True)\n",
    "])\n",
    "\n",
    "viewing_static_df = spark.read.schema(schema).option(\"header\", True).csv(\"dbfs:/FileStore/project_b_data/viewing_static_csv/\")\n",
    "\n",
    "viewing_static_df.printSchema()\n",
    "display(viewing_static_df.limit(10))"
   ]
  },
  {
   "cell_type": "markdown",
   "metadata": {
    "application/vnd.databricks.v1+cell": {
     "cellMetadata": {
      "byteLimit": 2048000,
      "rowLimit": 10000
     },
     "inputWidgets": {},
     "nuid": "6c926b32-0694-4710-86f9-f3fa6f26a064",
     "showTitle": false,
     "tableResultSettingsMap": {},
     "title": ""
    }
   },
   "source": [
    "## Static Data Analysis (65 points)"
   ]
  },
  {
   "cell_type": "markdown",
   "metadata": {
    "application/vnd.databricks.v1+cell": {
     "cellMetadata": {
      "byteLimit": 2048000,
      "rowLimit": 10000
     },
     "inputWidgets": {},
     "nuid": "c4a58974-4dfc-4be4-9c5d-cf35961fe7a9",
     "showTitle": false,
     "tableResultSettingsMap": {},
     "title": ""
    }
   },
   "source": [
    "### Feature Extraction"
   ]
  },
  {
   "cell_type": "markdown",
   "metadata": {
    "application/vnd.databricks.v1+cell": {
     "cellMetadata": {
      "byteLimit": 2048000,
      "rowLimit": 10000
     },
     "inputWidgets": {},
     "nuid": "c7a9445d-0871-4d06-bbd2-dbe9d3f6d582",
     "showTitle": false,
     "tableResultSettingsMap": {},
     "title": ""
    }
   },
   "source": [
    " **Normalization of numeric columns**\n",
    "\n",
    "This block manually normalizes all numeric columns using min-max scaling.  \n",
    "For each numeric column, the minimum and maximum values are calculated, and a new scaled version of the column is created using the formula `(x - min) / (max - min)`.  \n",
    "All scaled columns are then added to the DataFrame.  \n",
    "\n",
    "An example with `household_size` and `home_market_value` is shown to compare the original and normalized values.\n"
   ]
  },
  {
   "cell_type": "code",
   "execution_count": 0,
   "metadata": {
    "application/vnd.databricks.v1+cell": {
     "cellMetadata": {
      "byteLimit": 2048000,
      "rowLimit": 10000
     },
     "inputWidgets": {},
     "nuid": "bac96aef-f4aa-497f-8141-58aa204b4c89",
     "showTitle": false,
     "tableResultSettingsMap": {},
     "title": ""
    }
   },
   "outputs": [],
   "source": [
    "\n",
    "# Define the list of numeric columns to normalize\n",
    "num_cols = ['household_size', 'num_adults', 'num_generations',\n",
    "            'length_residence', 'home_market_value', 'net_worth']\n",
    "\n",
    "# Compute min and max for each numeric column and store in a dictionary\n",
    "min_max_values = {}\n",
    "for col_name in num_cols:\n",
    "    # Calculate minimum value for the column\n",
    "    min_val = demographic_df.agg(min(col(col_name))).first()[0]\n",
    "    # Calculate maximum value for the column\n",
    "    max_val = demographic_df.agg(max(col(col_name))).first()[0]\n",
    "    # Store the min and max as a tuple in the dictionary\n",
    "    min_max_values[col_name] = (min_val, max_val)\n",
    "\n",
    "# Create a new DataFrame with normalized numeric columns\n",
    "demo_normalized_df = demographic_df\n",
    "for col_name in num_cols:\n",
    "    min_val, max_val = min_max_values[col_name]\n",
    "    scaled_col = f\"{col_name}_scaled\"  # Name for the new scaled column\n",
    "    # Add a new column with normalized values using min-max scaling\n",
    "    demo_normalized_df = demo_normalized_df.withColumn(\n",
    "        scaled_col,\n",
    "        (col(col_name) - min_val) / (max_val - min_val)\n",
    "    )\n",
    "\n",
    "# Prepare a list of all the new scaled column names\n",
    "scaled_cols = [f\"{col}_scaled\" for col in num_cols]\n"
   ]
  },
  {
   "cell_type": "code",
   "execution_count": 0,
   "metadata": {
    "application/vnd.databricks.v1+cell": {
     "cellMetadata": {
      "byteLimit": 2048000,
      "rowLimit": 10000
     },
     "inputWidgets": {},
     "nuid": "534404fc-e5eb-4dad-ae87-883e02fd1c07",
     "showTitle": false,
     "tableResultSettingsMap": {},
     "title": ""
    }
   },
   "outputs": [
    {
     "output_type": "stream",
     "name": "stdout",
     "output_type": "stream",
     "text": [
      "household_size: min = 1, max = 9\nhome_market_value: min = 0.001, max = 1.0\n"
     ]
    },
    {
     "output_type": "display_data",
     "data": {
      "text/html": [
       "<style scoped>\n",
       "  .table-result-container {\n",
       "    max-height: 300px;\n",
       "    overflow: auto;\n",
       "  }\n",
       "  table, th, td {\n",
       "    border: 1px solid black;\n",
       "    border-collapse: collapse;\n",
       "  }\n",
       "  th, td {\n",
       "    padding: 5px;\n",
       "  }\n",
       "  th {\n",
       "    text-align: left;\n",
       "  }\n",
       "</style><div class='table-result-container'><table class='table-result'><thead style='background-color: white'><tr><th>household_size</th><th>household_size_scaled</th><th>home_market_value</th><th>home_market_value_scaled</th></tr></thead><tbody><tr><td>2</td><td>0.125</td><td>0.125</td><td>0.12412412412412413</td></tr><tr><td>1</td><td>0.0</td><td>0.15</td><td>0.14914914914914915</td></tr><tr><td>7</td><td>0.75</td><td>0.1</td><td>0.0990990990990991</td></tr><tr><td>3</td><td>0.25</td><td>0.125</td><td>0.12412412412412413</td></tr><tr><td>2</td><td>0.125</td><td>0.1</td><td>0.0990990990990991</td></tr></tbody></table></div>"
      ]
     },
     "metadata": {
      "application/vnd.databricks.v1+output": {
       "addedWidgets": {},
       "aggData": [],
       "aggError": "",
       "aggOverflow": false,
       "aggSchema": [],
       "aggSeriesLimitReached": false,
       "aggType": "",
       "arguments": {},
       "columnCustomDisplayInfos": {},
       "data": [
        [
         2,
         0.125,
         0.125,
         0.12412412412412413
        ],
        [
         1,
         0.0,
         0.15,
         0.14914914914914915
        ],
        [
         7,
         0.75,
         0.1,
         0.0990990990990991
        ],
        [
         3,
         0.25,
         0.125,
         0.12412412412412413
        ],
        [
         2,
         0.125,
         0.1,
         0.0990990990990991
        ]
       ],
       "datasetInfos": [],
       "dbfsResultPath": null,
       "isJsonSchema": true,
       "metadata": {},
       "overflow": false,
       "plotOptions": {
        "customPlotOptions": {},
        "displayType": "table",
        "pivotAggregation": null,
        "pivotColumns": null,
        "xColumns": null,
        "yColumns": null
       },
       "removedWidgets": [],
       "schema": [
        {
         "metadata": "{}",
         "name": "household_size",
         "type": "\"integer\""
        },
        {
         "metadata": "{}",
         "name": "household_size_scaled",
         "type": "\"double\""
        },
        {
         "metadata": "{}",
         "name": "home_market_value",
         "type": "\"double\""
        },
        {
         "metadata": "{}",
         "name": "home_market_value_scaled",
         "type": "\"double\""
        }
       ],
       "type": "table"
      }
     },
     "output_type": "display_data"
    }
   ],
   "source": [
    "\n",
    "print(f\"household_size: min = {min_max_values['household_size'][0]}, max = {min_max_values['household_size'][1]}\")\n",
    "print(f\"home_market_value: min = {min_max_values['home_market_value'][0]}, max = {min_max_values['home_market_value'][1]}\")\n",
    "display(demo_normalized_df.select(\"household_size\", \"household_size_scaled\",\"home_market_value\",\"home_market_value_scaled\").limit(5))"
   ]
  },
  {
   "cell_type": "markdown",
   "metadata": {
    "application/vnd.databricks.v1+cell": {
     "cellMetadata": {
      "byteLimit": 2048000,
      "rowLimit": 10000
     },
     "inputWidgets": {},
     "nuid": "016d7f20-9bd0-4015-b3d7-55c5df7283a8",
     "showTitle": false,
     "tableResultSettingsMap": {},
     "title": ""
    }
   },
   "source": [
    "**Indexing, one-hot encoding, and feature vector assembly**\n",
    "\n",
    "In this block, all categorical columns are processed using a StringIndexer to convert each category into a numeric index. Each index is then transformed into a binary vector using a OneHotEncoder to avoid introducing a false order in the data. \n",
    "\n",
    "The final feature vector combines all normalized numeric columns (`scaled_cols`) with all one-hot encoded categorical columns. A VectorAssembler is used to merge everything into a single `features` column that can be used for PCA or clustering.\n",
    "\n",
    "The pipeline is built with the indexers, encoders, and assembler, then fitted and applied to the normalized demographic DataFrame. A `display` shows the resulting DataFrame like required and another one shows only ID and features vector for clarty.\n"
   ]
  },
  {
   "cell_type": "code",
   "execution_count": 0,
   "metadata": {
    "application/vnd.databricks.v1+cell": {
     "cellMetadata": {
      "byteLimit": 2048000,
      "rowLimit": 10000
     },
     "inputWidgets": {},
     "nuid": "ec5afa13-fe05-4f6c-858b-923b020a3801",
     "showTitle": false,
     "tableResultSettingsMap": {},
     "title": ""
    }
   },
   "outputs": [
    {
     "output_type": "display_data",
     "data": {
      "text/html": [
       "<style scoped>\n",
       "  .table-result-container {\n",
       "    max-height: 300px;\n",
       "    overflow: auto;\n",
       "  }\n",
       "  table, th, td {\n",
       "    border: 1px solid black;\n",
       "    border-collapse: collapse;\n",
       "  }\n",
       "  th, td {\n",
       "    padding: 5px;\n",
       "  }\n",
       "  th {\n",
       "    text-align: left;\n",
       "  }\n",
       "</style><div class='table-result-container'><table class='table-result'><thead style='background-color: white'><tr><th>household_id</th><th>household_size</th><th>num_adults</th><th>num_generations</th><th>marital_status</th><th>race_code</th><th>dwelling_type</th><th>home_owner_status</th><th>length_residence</th><th>home_market_value</th><th>net_worth</th><th>gender_individual</th><th>education_highest</th><th>household_size_scaled</th><th>num_adults_scaled</th><th>num_generations_scaled</th><th>length_residence_scaled</th><th>home_market_value_scaled</th><th>net_worth_scaled</th><th>marital_status_index</th><th>race_code_index</th><th>dwelling_type_index</th><th>home_owner_status_index</th><th>gender_individual_index</th><th>education_highest_index</th><th>marital_status_ohe</th><th>race_code_ohe</th><th>dwelling_type_ohe</th><th>home_owner_status_ohe</th><th>gender_individual_ohe</th><th>education_highest_ohe</th><th>features</th></tr></thead><tbody><tr><td>85</td><td>2</td><td>1</td><td>2</td><td>B</td><td>W</td><td>S</td><td>O</td><td>15</td><td>0.125</td><td>0.05</td><td>F</td><td>1</td><td>0.125</td><td>0.0</td><td>0.5</td><td>1.0</td><td>0.12412412412412413</td><td>0.05</td><td>3.0</td><td>0.0</td><td>0.0</td><td>0.0</td><td>1.0</td><td>0.0</td><td>Map(vectorType -> sparse, length -> 3, indices -> List(), values -> List())</td><td>Map(vectorType -> sparse, length -> 3, indices -> List(0), values -> List(1.0))</td><td>Map(vectorType -> sparse, length -> 1, indices -> List(0), values -> List(1.0))</td><td>Map(vectorType -> sparse, length -> 1, indices -> List(0), values -> List(1.0))</td><td>Map(vectorType -> sparse, length -> 1, indices -> List(), values -> List())</td><td>Map(vectorType -> sparse, length -> 3, indices -> List(0), values -> List(1.0))</td><td>Map(vectorType -> sparse, length -> 18, indices -> List(0, 2, 3, 4, 5, 9, 12, 13, 15), values -> List(0.125, 0.5, 1.0, 0.12412412412412413, 0.05, 1.0, 1.0, 1.0, 1.0))</td></tr><tr><td>2073</td><td>1</td><td>1</td><td>2</td><td>M</td><td>H</td><td>S</td><td>O</td><td>15</td><td>0.15</td><td>0.1</td><td>F</td><td>1</td><td>0.0</td><td>0.0</td><td>0.5</td><td>1.0</td><td>0.14914914914914915</td><td>0.1</td><td>0.0</td><td>2.0</td><td>0.0</td><td>0.0</td><td>1.0</td><td>0.0</td><td>Map(vectorType -> sparse, length -> 3, indices -> List(0), values -> List(1.0))</td><td>Map(vectorType -> sparse, length -> 3, indices -> List(2), values -> List(1.0))</td><td>Map(vectorType -> sparse, length -> 1, indices -> List(0), values -> List(1.0))</td><td>Map(vectorType -> sparse, length -> 1, indices -> List(0), values -> List(1.0))</td><td>Map(vectorType -> sparse, length -> 1, indices -> List(), values -> List())</td><td>Map(vectorType -> sparse, length -> 3, indices -> List(0), values -> List(1.0))</td><td>Map(vectorType -> sparse, length -> 18, indices -> List(2, 3, 4, 5, 6, 11, 12, 13, 15), values -> List(0.5, 1.0, 0.14914914914914915, 0.1, 1.0, 1.0, 1.0, 1.0, 1.0))</td></tr><tr><td>2523</td><td>7</td><td>6</td><td>3</td><td>M</td><td>W</td><td>S</td><td>O</td><td>15</td><td>0.1</td><td>0.1</td><td>M</td><td>2</td><td>0.75</td><td>1.0</td><td>1.0</td><td>1.0</td><td>0.0990990990990991</td><td>0.1</td><td>0.0</td><td>0.0</td><td>0.0</td><td>0.0</td><td>0.0</td><td>1.0</td><td>Map(vectorType -> sparse, length -> 3, indices -> List(0), values -> List(1.0))</td><td>Map(vectorType -> sparse, length -> 3, indices -> List(0), values -> List(1.0))</td><td>Map(vectorType -> sparse, length -> 1, indices -> List(0), values -> List(1.0))</td><td>Map(vectorType -> sparse, length -> 1, indices -> List(0), values -> List(1.0))</td><td>Map(vectorType -> sparse, length -> 1, indices -> List(0), values -> List(1.0))</td><td>Map(vectorType -> sparse, length -> 3, indices -> List(1), values -> List(1.0))</td><td>Map(vectorType -> dense, length -> 18, values -> List(0.75, 1.0, 1.0, 1.0, 0.0990990990990991, 0.1, 1.0, 0.0, 0.0, 1.0, 0.0, 0.0, 1.0, 1.0, 1.0, 0.0, 1.0, 0.0))</td></tr><tr><td>2717</td><td>3</td><td>2</td><td>2</td><td>S</td><td>W</td><td>S</td><td>O</td><td>11</td><td>0.125</td><td>0.2</td><td>M</td><td>3</td><td>0.25</td><td>0.2</td><td>0.5</td><td>0.7333333333333333</td><td>0.12412412412412413</td><td>0.2</td><td>1.0</td><td>0.0</td><td>0.0</td><td>0.0</td><td>0.0</td><td>2.0</td><td>Map(vectorType -> sparse, length -> 3, indices -> List(1), values -> List(1.0))</td><td>Map(vectorType -> sparse, length -> 3, indices -> List(0), values -> List(1.0))</td><td>Map(vectorType -> sparse, length -> 1, indices -> List(0), values -> List(1.0))</td><td>Map(vectorType -> sparse, length -> 1, indices -> List(0), values -> List(1.0))</td><td>Map(vectorType -> sparse, length -> 1, indices -> List(0), values -> List(1.0))</td><td>Map(vectorType -> sparse, length -> 3, indices -> List(2), values -> List(1.0))</td><td>Map(vectorType -> dense, length -> 18, values -> List(0.25, 0.2, 0.5, 0.7333333333333333, 0.12412412412412413, 0.2, 0.0, 1.0, 0.0, 1.0, 0.0, 0.0, 1.0, 1.0, 1.0, 0.0, 0.0, 1.0))</td></tr><tr><td>3364</td><td>2</td><td>2</td><td>2</td><td>M</td><td>W</td><td>S</td><td>O</td><td>15</td><td>0.1</td><td>0.1</td><td>M</td><td>1</td><td>0.125</td><td>0.2</td><td>0.5</td><td>1.0</td><td>0.0990990990990991</td><td>0.1</td><td>0.0</td><td>0.0</td><td>0.0</td><td>0.0</td><td>0.0</td><td>0.0</td><td>Map(vectorType -> sparse, length -> 3, indices -> List(0), values -> List(1.0))</td><td>Map(vectorType -> sparse, length -> 3, indices -> List(0), values -> List(1.0))</td><td>Map(vectorType -> sparse, length -> 1, indices -> List(0), values -> List(1.0))</td><td>Map(vectorType -> sparse, length -> 1, indices -> List(0), values -> List(1.0))</td><td>Map(vectorType -> sparse, length -> 1, indices -> List(0), values -> List(1.0))</td><td>Map(vectorType -> sparse, length -> 3, indices -> List(0), values -> List(1.0))</td><td>Map(vectorType -> dense, length -> 18, values -> List(0.125, 0.2, 0.5, 1.0, 0.0990990990990991, 0.1, 1.0, 0.0, 0.0, 1.0, 0.0, 0.0, 1.0, 1.0, 1.0, 1.0, 0.0, 0.0))</td></tr><tr><td>4046</td><td>4</td><td>3</td><td>3</td><td>M</td><td>W</td><td>S</td><td>O</td><td>6</td><td>0.075</td><td>0.05</td><td>F</td><td>1</td><td>0.375</td><td>0.4</td><td>1.0</td><td>0.4</td><td>0.07407407407407407</td><td>0.05</td><td>0.0</td><td>0.0</td><td>0.0</td><td>0.0</td><td>1.0</td><td>0.0</td><td>Map(vectorType -> sparse, length -> 3, indices -> List(0), values -> List(1.0))</td><td>Map(vectorType -> sparse, length -> 3, indices -> List(0), values -> List(1.0))</td><td>Map(vectorType -> sparse, length -> 1, indices -> List(0), values -> List(1.0))</td><td>Map(vectorType -> sparse, length -> 1, indices -> List(0), values -> List(1.0))</td><td>Map(vectorType -> sparse, length -> 1, indices -> List(), values -> List())</td><td>Map(vectorType -> sparse, length -> 3, indices -> List(0), values -> List(1.0))</td><td>Map(vectorType -> dense, length -> 18, values -> List(0.375, 0.4, 1.0, 0.4, 0.07407407407407407, 0.05, 1.0, 0.0, 0.0, 1.0, 0.0, 0.0, 1.0, 1.0, 0.0, 1.0, 0.0, 0.0))</td></tr><tr><td>4303</td><td>1</td><td>1</td><td>1</td><td>S</td><td>W</td><td>S</td><td>O</td><td>15</td><td>0.15</td><td>0.2</td><td>M</td><td>1</td><td>0.0</td><td>0.0</td><td>0.0</td><td>1.0</td><td>0.14914914914914915</td><td>0.2</td><td>1.0</td><td>0.0</td><td>0.0</td><td>0.0</td><td>0.0</td><td>0.0</td><td>Map(vectorType -> sparse, length -> 3, indices -> List(1), values -> List(1.0))</td><td>Map(vectorType -> sparse, length -> 3, indices -> List(0), values -> List(1.0))</td><td>Map(vectorType -> sparse, length -> 1, indices -> List(0), values -> List(1.0))</td><td>Map(vectorType -> sparse, length -> 1, indices -> List(0), values -> List(1.0))</td><td>Map(vectorType -> sparse, length -> 1, indices -> List(0), values -> List(1.0))</td><td>Map(vectorType -> sparse, length -> 3, indices -> List(0), values -> List(1.0))</td><td>Map(vectorType -> sparse, length -> 18, indices -> List(3, 4, 5, 7, 9, 12, 13, 14, 15), values -> List(1.0, 0.14914914914914915, 0.2, 1.0, 1.0, 1.0, 1.0, 1.0, 1.0))</td></tr></tbody></table></div>"
      ]
     },
     "metadata": {
      "application/vnd.databricks.v1+output": {
       "addedWidgets": {},
       "aggData": [],
       "aggError": "",
       "aggOverflow": false,
       "aggSchema": [],
       "aggSeriesLimitReached": false,
       "aggType": "",
       "arguments": {},
       "columnCustomDisplayInfos": {},
       "data": [
        [
         85,
         2,
         1,
         2,
         "B",
         "W",
         "S",
         "O",
         15,
         0.125,
         0.05,
         "F",
         "1",
         0.125,
         0.0,
         0.5,
         1.0,
         0.12412412412412413,
         0.05,
         3.0,
         0.0,
         0.0,
         0.0,
         1.0,
         0.0,
         {
          "indices": [],
          "length": 3,
          "values": [],
          "vectorType": "sparse"
         },
         {
          "indices": [
           0
          ],
          "length": 3,
          "values": [
           1.0
          ],
          "vectorType": "sparse"
         },
         {
          "indices": [
           0
          ],
          "length": 1,
          "values": [
           1.0
          ],
          "vectorType": "sparse"
         },
         {
          "indices": [
           0
          ],
          "length": 1,
          "values": [
           1.0
          ],
          "vectorType": "sparse"
         },
         {
          "indices": [],
          "length": 1,
          "values": [],
          "vectorType": "sparse"
         },
         {
          "indices": [
           0
          ],
          "length": 3,
          "values": [
           1.0
          ],
          "vectorType": "sparse"
         },
         {
          "indices": [
           0,
           2,
           3,
           4,
           5,
           9,
           12,
           13,
           15
          ],
          "length": 18,
          "values": [
           0.125,
           0.5,
           1.0,
           0.12412412412412413,
           0.05,
           1.0,
           1.0,
           1.0,
           1.0
          ],
          "vectorType": "sparse"
         }
        ],
        [
         2073,
         1,
         1,
         2,
         "M",
         "H",
         "S",
         "O",
         15,
         0.15,
         0.1,
         "F",
         "1",
         0.0,
         0.0,
         0.5,
         1.0,
         0.14914914914914915,
         0.1,
         0.0,
         2.0,
         0.0,
         0.0,
         1.0,
         0.0,
         {
          "indices": [
           0
          ],
          "length": 3,
          "values": [
           1.0
          ],
          "vectorType": "sparse"
         },
         {
          "indices": [
           2
          ],
          "length": 3,
          "values": [
           1.0
          ],
          "vectorType": "sparse"
         },
         {
          "indices": [
           0
          ],
          "length": 1,
          "values": [
           1.0
          ],
          "vectorType": "sparse"
         },
         {
          "indices": [
           0
          ],
          "length": 1,
          "values": [
           1.0
          ],
          "vectorType": "sparse"
         },
         {
          "indices": [],
          "length": 1,
          "values": [],
          "vectorType": "sparse"
         },
         {
          "indices": [
           0
          ],
          "length": 3,
          "values": [
           1.0
          ],
          "vectorType": "sparse"
         },
         {
          "indices": [
           2,
           3,
           4,
           5,
           6,
           11,
           12,
           13,
           15
          ],
          "length": 18,
          "values": [
           0.5,
           1.0,
           0.14914914914914915,
           0.1,
           1.0,
           1.0,
           1.0,
           1.0,
           1.0
          ],
          "vectorType": "sparse"
         }
        ],
        [
         2523,
         7,
         6,
         3,
         "M",
         "W",
         "S",
         "O",
         15,
         0.1,
         0.1,
         "M",
         "2",
         0.75,
         1.0,
         1.0,
         1.0,
         0.0990990990990991,
         0.1,
         0.0,
         0.0,
         0.0,
         0.0,
         0.0,
         1.0,
         {
          "indices": [
           0
          ],
          "length": 3,
          "values": [
           1.0
          ],
          "vectorType": "sparse"
         },
         {
          "indices": [
           0
          ],
          "length": 3,
          "values": [
           1.0
          ],
          "vectorType": "sparse"
         },
         {
          "indices": [
           0
          ],
          "length": 1,
          "values": [
           1.0
          ],
          "vectorType": "sparse"
         },
         {
          "indices": [
           0
          ],
          "length": 1,
          "values": [
           1.0
          ],
          "vectorType": "sparse"
         },
         {
          "indices": [
           0
          ],
          "length": 1,
          "values": [
           1.0
          ],
          "vectorType": "sparse"
         },
         {
          "indices": [
           1
          ],
          "length": 3,
          "values": [
           1.0
          ],
          "vectorType": "sparse"
         },
         {
          "length": 18,
          "values": [
           0.75,
           1.0,
           1.0,
           1.0,
           0.0990990990990991,
           0.1,
           1.0,
           0.0,
           0.0,
           1.0,
           0.0,
           0.0,
           1.0,
           1.0,
           1.0,
           0.0,
           1.0,
           0.0
          ],
          "vectorType": "dense"
         }
        ],
        [
         2717,
         3,
         2,
         2,
         "S",
         "W",
         "S",
         "O",
         11,
         0.125,
         0.2,
         "M",
         "3",
         0.25,
         0.2,
         0.5,
         0.7333333333333333,
         0.12412412412412413,
         0.2,
         1.0,
         0.0,
         0.0,
         0.0,
         0.0,
         2.0,
         {
          "indices": [
           1
          ],
          "length": 3,
          "values": [
           1.0
          ],
          "vectorType": "sparse"
         },
         {
          "indices": [
           0
          ],
          "length": 3,
          "values": [
           1.0
          ],
          "vectorType": "sparse"
         },
         {
          "indices": [
           0
          ],
          "length": 1,
          "values": [
           1.0
          ],
          "vectorType": "sparse"
         },
         {
          "indices": [
           0
          ],
          "length": 1,
          "values": [
           1.0
          ],
          "vectorType": "sparse"
         },
         {
          "indices": [
           0
          ],
          "length": 1,
          "values": [
           1.0
          ],
          "vectorType": "sparse"
         },
         {
          "indices": [
           2
          ],
          "length": 3,
          "values": [
           1.0
          ],
          "vectorType": "sparse"
         },
         {
          "length": 18,
          "values": [
           0.25,
           0.2,
           0.5,
           0.7333333333333333,
           0.12412412412412413,
           0.2,
           0.0,
           1.0,
           0.0,
           1.0,
           0.0,
           0.0,
           1.0,
           1.0,
           1.0,
           0.0,
           0.0,
           1.0
          ],
          "vectorType": "dense"
         }
        ],
        [
         3364,
         2,
         2,
         2,
         "M",
         "W",
         "S",
         "O",
         15,
         0.1,
         0.1,
         "M",
         "1",
         0.125,
         0.2,
         0.5,
         1.0,
         0.0990990990990991,
         0.1,
         0.0,
         0.0,
         0.0,
         0.0,
         0.0,
         0.0,
         {
          "indices": [
           0
          ],
          "length": 3,
          "values": [
           1.0
          ],
          "vectorType": "sparse"
         },
         {
          "indices": [
           0
          ],
          "length": 3,
          "values": [
           1.0
          ],
          "vectorType": "sparse"
         },
         {
          "indices": [
           0
          ],
          "length": 1,
          "values": [
           1.0
          ],
          "vectorType": "sparse"
         },
         {
          "indices": [
           0
          ],
          "length": 1,
          "values": [
           1.0
          ],
          "vectorType": "sparse"
         },
         {
          "indices": [
           0
          ],
          "length": 1,
          "values": [
           1.0
          ],
          "vectorType": "sparse"
         },
         {
          "indices": [
           0
          ],
          "length": 3,
          "values": [
           1.0
          ],
          "vectorType": "sparse"
         },
         {
          "length": 18,
          "values": [
           0.125,
           0.2,
           0.5,
           1.0,
           0.0990990990990991,
           0.1,
           1.0,
           0.0,
           0.0,
           1.0,
           0.0,
           0.0,
           1.0,
           1.0,
           1.0,
           1.0,
           0.0,
           0.0
          ],
          "vectorType": "dense"
         }
        ],
        [
         4046,
         4,
         3,
         3,
         "M",
         "W",
         "S",
         "O",
         6,
         0.075,
         0.05,
         "F",
         "1",
         0.375,
         0.4,
         1.0,
         0.4,
         0.07407407407407407,
         0.05,
         0.0,
         0.0,
         0.0,
         0.0,
         1.0,
         0.0,
         {
          "indices": [
           0
          ],
          "length": 3,
          "values": [
           1.0
          ],
          "vectorType": "sparse"
         },
         {
          "indices": [
           0
          ],
          "length": 3,
          "values": [
           1.0
          ],
          "vectorType": "sparse"
         },
         {
          "indices": [
           0
          ],
          "length": 1,
          "values": [
           1.0
          ],
          "vectorType": "sparse"
         },
         {
          "indices": [
           0
          ],
          "length": 1,
          "values": [
           1.0
          ],
          "vectorType": "sparse"
         },
         {
          "indices": [],
          "length": 1,
          "values": [],
          "vectorType": "sparse"
         },
         {
          "indices": [
           0
          ],
          "length": 3,
          "values": [
           1.0
          ],
          "vectorType": "sparse"
         },
         {
          "length": 18,
          "values": [
           0.375,
           0.4,
           1.0,
           0.4,
           0.07407407407407407,
           0.05,
           1.0,
           0.0,
           0.0,
           1.0,
           0.0,
           0.0,
           1.0,
           1.0,
           0.0,
           1.0,
           0.0,
           0.0
          ],
          "vectorType": "dense"
         }
        ],
        [
         4303,
         1,
         1,
         1,
         "S",
         "W",
         "S",
         "O",
         15,
         0.15,
         0.2,
         "M",
         "1",
         0.0,
         0.0,
         0.0,
         1.0,
         0.14914914914914915,
         0.2,
         1.0,
         0.0,
         0.0,
         0.0,
         0.0,
         0.0,
         {
          "indices": [
           1
          ],
          "length": 3,
          "values": [
           1.0
          ],
          "vectorType": "sparse"
         },
         {
          "indices": [
           0
          ],
          "length": 3,
          "values": [
           1.0
          ],
          "vectorType": "sparse"
         },
         {
          "indices": [
           0
          ],
          "length": 1,
          "values": [
           1.0
          ],
          "vectorType": "sparse"
         },
         {
          "indices": [
           0
          ],
          "length": 1,
          "values": [
           1.0
          ],
          "vectorType": "sparse"
         },
         {
          "indices": [
           0
          ],
          "length": 1,
          "values": [
           1.0
          ],
          "vectorType": "sparse"
         },
         {
          "indices": [
           0
          ],
          "length": 3,
          "values": [
           1.0
          ],
          "vectorType": "sparse"
         },
         {
          "indices": [
           3,
           4,
           5,
           7,
           9,
           12,
           13,
           14,
           15
          ],
          "length": 18,
          "values": [
           1.0,
           0.14914914914914915,
           0.2,
           1.0,
           1.0,
           1.0,
           1.0,
           1.0,
           1.0
          ],
          "vectorType": "sparse"
         }
        ]
       ],
       "datasetInfos": [],
       "dbfsResultPath": null,
       "isJsonSchema": true,
       "metadata": {},
       "overflow": false,
       "plotOptions": {
        "customPlotOptions": {},
        "displayType": "table",
        "pivotAggregation": null,
        "pivotColumns": null,
        "xColumns": null,
        "yColumns": null
       },
       "removedWidgets": [],
       "schema": [
        {
         "metadata": "{}",
         "name": "household_id",
         "type": "\"long\""
        },
        {
         "metadata": "{}",
         "name": "household_size",
         "type": "\"integer\""
        },
        {
         "metadata": "{}",
         "name": "num_adults",
         "type": "\"integer\""
        },
        {
         "metadata": "{}",
         "name": "num_generations",
         "type": "\"integer\""
        },
        {
         "metadata": "{}",
         "name": "marital_status",
         "type": "\"string\""
        },
        {
         "metadata": "{}",
         "name": "race_code",
         "type": "\"string\""
        },
        {
         "metadata": "{}",
         "name": "dwelling_type",
         "type": "\"string\""
        },
        {
         "metadata": "{}",
         "name": "home_owner_status",
         "type": "\"string\""
        },
        {
         "metadata": "{}",
         "name": "length_residence",
         "type": "\"integer\""
        },
        {
         "metadata": "{}",
         "name": "home_market_value",
         "type": "\"double\""
        },
        {
         "metadata": "{}",
         "name": "net_worth",
         "type": "\"double\""
        },
        {
         "metadata": "{}",
         "name": "gender_individual",
         "type": "\"string\""
        },
        {
         "metadata": "{}",
         "name": "education_highest",
         "type": "\"string\""
        },
        {
         "metadata": "{}",
         "name": "household_size_scaled",
         "type": "\"double\""
        },
        {
         "metadata": "{}",
         "name": "num_adults_scaled",
         "type": "\"double\""
        },
        {
         "metadata": "{}",
         "name": "num_generations_scaled",
         "type": "\"double\""
        },
        {
         "metadata": "{}",
         "name": "length_residence_scaled",
         "type": "\"double\""
        },
        {
         "metadata": "{}",
         "name": "home_market_value_scaled",
         "type": "\"double\""
        },
        {
         "metadata": "{}",
         "name": "net_worth_scaled",
         "type": "\"double\""
        },
        {
         "metadata": "{\"ml_attr\":{\"vals\":[\"M\",\"S\",\"A\",\"B\"],\"name\":\"marital_status_index\",\"type\":\"nominal\"}}",
         "name": "marital_status_index",
         "type": "\"double\""
        },
        {
         "metadata": "{\"ml_attr\":{\"vals\":[\"W\",\"B\",\"H\",\"A\"],\"name\":\"race_code_index\",\"type\":\"nominal\"}}",
         "name": "race_code_index",
         "type": "\"double\""
        },
        {
         "metadata": "{\"ml_attr\":{\"vals\":[\"S\",\"M\"],\"name\":\"dwelling_type_index\",\"type\":\"nominal\"}}",
         "name": "dwelling_type_index",
         "type": "\"double\""
        },
        {
         "metadata": "{\"ml_attr\":{\"vals\":[\"O\",\"R\"],\"name\":\"home_owner_status_index\",\"type\":\"nominal\"}}",
         "name": "home_owner_status_index",
         "type": "\"double\""
        },
        {
         "metadata": "{\"ml_attr\":{\"vals\":[\"M\",\"F\"],\"name\":\"gender_individual_index\",\"type\":\"nominal\"}}",
         "name": "gender_individual_index",
         "type": "\"double\""
        },
        {
         "metadata": "{\"ml_attr\":{\"vals\":[\"1\",\"2\",\"3\",\"4\"],\"name\":\"education_highest_index\",\"type\":\"nominal\"}}",
         "name": "education_highest_index",
         "type": "\"double\""
        },
        {
         "metadata": "{\"ml_attr\":{\"num_attrs\":3,\"attrs\":{\"binary\":[{\"name\":\"M\",\"idx\":0},{\"name\":\"S\",\"idx\":1},{\"name\":\"A\",\"idx\":2}]}}}",
         "name": "marital_status_ohe",
         "type": "{\"type\":\"udt\",\"class\":\"org.apache.spark.ml.linalg.VectorUDT\",\"pyClass\":\"pyspark.ml.linalg.VectorUDT\",\"sqlType\":{\"type\":\"struct\",\"fields\":[{\"name\":\"type\",\"type\":\"byte\",\"nullable\":false,\"metadata\":{}},{\"name\":\"size\",\"type\":\"integer\",\"nullable\":true,\"metadata\":{}},{\"name\":\"indices\",\"type\":{\"type\":\"array\",\"elementType\":\"integer\",\"containsNull\":false},\"nullable\":true,\"metadata\":{}},{\"name\":\"values\",\"type\":{\"type\":\"array\",\"elementType\":\"double\",\"containsNull\":false},\"nullable\":true,\"metadata\":{}}]}}"
        },
        {
         "metadata": "{\"ml_attr\":{\"num_attrs\":3,\"attrs\":{\"binary\":[{\"name\":\"W\",\"idx\":0},{\"name\":\"B\",\"idx\":1},{\"name\":\"H\",\"idx\":2}]}}}",
         "name": "race_code_ohe",
         "type": "{\"type\":\"udt\",\"class\":\"org.apache.spark.ml.linalg.VectorUDT\",\"pyClass\":\"pyspark.ml.linalg.VectorUDT\",\"sqlType\":{\"type\":\"struct\",\"fields\":[{\"name\":\"type\",\"type\":\"byte\",\"nullable\":false,\"metadata\":{}},{\"name\":\"size\",\"type\":\"integer\",\"nullable\":true,\"metadata\":{}},{\"name\":\"indices\",\"type\":{\"type\":\"array\",\"elementType\":\"integer\",\"containsNull\":false},\"nullable\":true,\"metadata\":{}},{\"name\":\"values\",\"type\":{\"type\":\"array\",\"elementType\":\"double\",\"containsNull\":false},\"nullable\":true,\"metadata\":{}}]}}"
        },
        {
         "metadata": "{\"ml_attr\":{\"num_attrs\":1,\"attrs\":{\"binary\":[{\"name\":\"S\",\"idx\":0}]}}}",
         "name": "dwelling_type_ohe",
         "type": "{\"type\":\"udt\",\"class\":\"org.apache.spark.ml.linalg.VectorUDT\",\"pyClass\":\"pyspark.ml.linalg.VectorUDT\",\"sqlType\":{\"type\":\"struct\",\"fields\":[{\"name\":\"type\",\"type\":\"byte\",\"nullable\":false,\"metadata\":{}},{\"name\":\"size\",\"type\":\"integer\",\"nullable\":true,\"metadata\":{}},{\"name\":\"indices\",\"type\":{\"type\":\"array\",\"elementType\":\"integer\",\"containsNull\":false},\"nullable\":true,\"metadata\":{}},{\"name\":\"values\",\"type\":{\"type\":\"array\",\"elementType\":\"double\",\"containsNull\":false},\"nullable\":true,\"metadata\":{}}]}}"
        },
        {
         "metadata": "{\"ml_attr\":{\"num_attrs\":1,\"attrs\":{\"binary\":[{\"name\":\"O\",\"idx\":0}]}}}",
         "name": "home_owner_status_ohe",
         "type": "{\"type\":\"udt\",\"class\":\"org.apache.spark.ml.linalg.VectorUDT\",\"pyClass\":\"pyspark.ml.linalg.VectorUDT\",\"sqlType\":{\"type\":\"struct\",\"fields\":[{\"name\":\"type\",\"type\":\"byte\",\"nullable\":false,\"metadata\":{}},{\"name\":\"size\",\"type\":\"integer\",\"nullable\":true,\"metadata\":{}},{\"name\":\"indices\",\"type\":{\"type\":\"array\",\"elementType\":\"integer\",\"containsNull\":false},\"nullable\":true,\"metadata\":{}},{\"name\":\"values\",\"type\":{\"type\":\"array\",\"elementType\":\"double\",\"containsNull\":false},\"nullable\":true,\"metadata\":{}}]}}"
        },
        {
         "metadata": "{\"ml_attr\":{\"num_attrs\":1,\"attrs\":{\"binary\":[{\"name\":\"M\",\"idx\":0}]}}}",
         "name": "gender_individual_ohe",
         "type": "{\"type\":\"udt\",\"class\":\"org.apache.spark.ml.linalg.VectorUDT\",\"pyClass\":\"pyspark.ml.linalg.VectorUDT\",\"sqlType\":{\"type\":\"struct\",\"fields\":[{\"name\":\"type\",\"type\":\"byte\",\"nullable\":false,\"metadata\":{}},{\"name\":\"size\",\"type\":\"integer\",\"nullable\":true,\"metadata\":{}},{\"name\":\"indices\",\"type\":{\"type\":\"array\",\"elementType\":\"integer\",\"containsNull\":false},\"nullable\":true,\"metadata\":{}},{\"name\":\"values\",\"type\":{\"type\":\"array\",\"elementType\":\"double\",\"containsNull\":false},\"nullable\":true,\"metadata\":{}}]}}"
        },
        {
         "metadata": "{\"ml_attr\":{\"num_attrs\":3,\"attrs\":{\"binary\":[{\"name\":\"1\",\"idx\":0},{\"name\":\"2\",\"idx\":1},{\"name\":\"3\",\"idx\":2}]}}}",
         "name": "education_highest_ohe",
         "type": "{\"type\":\"udt\",\"class\":\"org.apache.spark.ml.linalg.VectorUDT\",\"pyClass\":\"pyspark.ml.linalg.VectorUDT\",\"sqlType\":{\"type\":\"struct\",\"fields\":[{\"name\":\"type\",\"type\":\"byte\",\"nullable\":false,\"metadata\":{}},{\"name\":\"size\",\"type\":\"integer\",\"nullable\":true,\"metadata\":{}},{\"name\":\"indices\",\"type\":{\"type\":\"array\",\"elementType\":\"integer\",\"containsNull\":false},\"nullable\":true,\"metadata\":{}},{\"name\":\"values\",\"type\":{\"type\":\"array\",\"elementType\":\"double\",\"containsNull\":false},\"nullable\":true,\"metadata\":{}}]}}"
        },
        {
         "metadata": "{\"ml_attr\":{\"num_attrs\":18,\"attrs\":{\"binary\":[{\"name\":\"marital_status_ohe_M\",\"idx\":6},{\"name\":\"marital_status_ohe_S\",\"idx\":7},{\"name\":\"marital_status_ohe_A\",\"idx\":8},{\"name\":\"race_code_ohe_W\",\"idx\":9},{\"name\":\"race_code_ohe_B\",\"idx\":10},{\"name\":\"race_code_ohe_H\",\"idx\":11},{\"name\":\"dwelling_type_ohe_S\",\"idx\":12},{\"name\":\"home_owner_status_ohe_O\",\"idx\":13},{\"name\":\"gender_individual_ohe_M\",\"idx\":14},{\"name\":\"education_highest_ohe_1\",\"idx\":15},{\"name\":\"education_highest_ohe_2\",\"idx\":16},{\"name\":\"education_highest_ohe_3\",\"idx\":17}],\"numeric\":[{\"name\":\"household_size_scaled\",\"idx\":0},{\"name\":\"num_adults_scaled\",\"idx\":1},{\"name\":\"num_generations_scaled\",\"idx\":2},{\"name\":\"length_residence_scaled\",\"idx\":3},{\"name\":\"home_market_value_scaled\",\"idx\":4},{\"name\":\"net_worth_scaled\",\"idx\":5}]}}}",
         "name": "features",
         "type": "{\"type\":\"udt\",\"class\":\"org.apache.spark.ml.linalg.VectorUDT\",\"pyClass\":\"pyspark.ml.linalg.VectorUDT\",\"sqlType\":{\"type\":\"struct\",\"fields\":[{\"name\":\"type\",\"type\":\"byte\",\"nullable\":false,\"metadata\":{}},{\"name\":\"size\",\"type\":\"integer\",\"nullable\":true,\"metadata\":{}},{\"name\":\"indices\",\"type\":{\"type\":\"array\",\"elementType\":\"integer\",\"containsNull\":false},\"nullable\":true,\"metadata\":{}},{\"name\":\"values\",\"type\":{\"type\":\"array\",\"elementType\":\"double\",\"containsNull\":false},\"nullable\":true,\"metadata\":{}}]}}"
        }
       ],
       "type": "table"
      }
     },
     "output_type": "display_data"
    }
   ],
   "source": [
    "from pyspark.ml.feature import StringIndexer, OneHotEncoder, VectorAssembler\n",
    "from pyspark.ml import Pipeline\n",
    "\n",
    "# Define categorical columns\n",
    "cat_cols = ['marital_status', 'race_code', 'dwelling_type',\n",
    "            'home_owner_status', 'gender_individual', 'education_highest']\n",
    "\n",
    "# Create indexers and encoders lists\n",
    "indexers = [StringIndexer(inputCol=c, outputCol=f\"{c}_index\") for c in cat_cols]\n",
    "encoders = [OneHotEncoder(inputCol=f\"{c}_index\", outputCol=f\"{c}_ohe\") for c in cat_cols]\n",
    "\n",
    "# Combine all input columns for the final features vector\n",
    "# --> normalized numeric columns + one-hot encoded categorical columns\n",
    "assembler_inputs = scaled_cols + [f\"{c}_ohe\" for c in cat_cols]\n",
    "\n",
    "assembler = VectorAssembler(inputCols=assembler_inputs, outputCol=\"features\")\n",
    "\n",
    "# Build the pipeline stages: indexers + encoders + assembler\n",
    "transformer_pipeline = Pipeline(stages=indexers + encoders + [assembler])\n",
    "\n",
    "# Fit and transform on your normalized DataFrame\n",
    "model = transformer_pipeline.fit(demo_normalized_df)\n",
    "prepared_demo_df = model.transform(demo_normalized_df)\n",
    "\n",
    "# Display all\n",
    "display(prepared_demo_df.limit(7))"
   ]
  },
  {
   "cell_type": "code",
   "execution_count": 0,
   "metadata": {
    "application/vnd.databricks.v1+cell": {
     "cellMetadata": {
      "byteLimit": 2048000,
      "rowLimit": 10000
     },
     "inputWidgets": {},
     "nuid": "a371fdbb-7e06-475a-99bf-adab103b33ab",
     "showTitle": false,
     "tableResultSettingsMap": {},
     "title": ""
    }
   },
   "outputs": [
    {
     "output_type": "display_data",
     "data": {
      "text/html": [
       "<style scoped>\n",
       "  .table-result-container {\n",
       "    max-height: 300px;\n",
       "    overflow: auto;\n",
       "  }\n",
       "  table, th, td {\n",
       "    border: 1px solid black;\n",
       "    border-collapse: collapse;\n",
       "  }\n",
       "  th, td {\n",
       "    padding: 5px;\n",
       "  }\n",
       "  th {\n",
       "    text-align: left;\n",
       "  }\n",
       "</style><div class='table-result-container'><table class='table-result'><thead style='background-color: white'><tr><th>household_id</th><th>features</th></tr></thead><tbody><tr><td>85</td><td>Map(vectorType -> sparse, length -> 18, indices -> List(0, 2, 3, 4, 5, 9, 12, 13, 15), values -> List(0.125, 0.5, 1.0, 0.12412412412412413, 0.05, 1.0, 1.0, 1.0, 1.0))</td></tr><tr><td>2073</td><td>Map(vectorType -> sparse, length -> 18, indices -> List(2, 3, 4, 5, 6, 11, 12, 13, 15), values -> List(0.5, 1.0, 0.14914914914914915, 0.1, 1.0, 1.0, 1.0, 1.0, 1.0))</td></tr><tr><td>2523</td><td>Map(vectorType -> dense, length -> 18, values -> List(0.75, 1.0, 1.0, 1.0, 0.0990990990990991, 0.1, 1.0, 0.0, 0.0, 1.0, 0.0, 0.0, 1.0, 1.0, 1.0, 0.0, 1.0, 0.0))</td></tr><tr><td>2717</td><td>Map(vectorType -> dense, length -> 18, values -> List(0.25, 0.2, 0.5, 0.7333333333333333, 0.12412412412412413, 0.2, 0.0, 1.0, 0.0, 1.0, 0.0, 0.0, 1.0, 1.0, 1.0, 0.0, 0.0, 1.0))</td></tr><tr><td>3364</td><td>Map(vectorType -> dense, length -> 18, values -> List(0.125, 0.2, 0.5, 1.0, 0.0990990990990991, 0.1, 1.0, 0.0, 0.0, 1.0, 0.0, 0.0, 1.0, 1.0, 1.0, 1.0, 0.0, 0.0))</td></tr><tr><td>4046</td><td>Map(vectorType -> dense, length -> 18, values -> List(0.375, 0.4, 1.0, 0.4, 0.07407407407407407, 0.05, 1.0, 0.0, 0.0, 1.0, 0.0, 0.0, 1.0, 1.0, 0.0, 1.0, 0.0, 0.0))</td></tr><tr><td>4303</td><td>Map(vectorType -> sparse, length -> 18, indices -> List(3, 4, 5, 7, 9, 12, 13, 14, 15), values -> List(1.0, 0.14914914914914915, 0.2, 1.0, 1.0, 1.0, 1.0, 1.0, 1.0))</td></tr></tbody></table></div>"
      ]
     },
     "metadata": {
      "application/vnd.databricks.v1+output": {
       "addedWidgets": {},
       "aggData": [],
       "aggError": "",
       "aggOverflow": false,
       "aggSchema": [],
       "aggSeriesLimitReached": false,
       "aggType": "",
       "arguments": {},
       "columnCustomDisplayInfos": {},
       "data": [
        [
         85,
         {
          "indices": [
           0,
           2,
           3,
           4,
           5,
           9,
           12,
           13,
           15
          ],
          "length": 18,
          "values": [
           0.125,
           0.5,
           1.0,
           0.12412412412412413,
           0.05,
           1.0,
           1.0,
           1.0,
           1.0
          ],
          "vectorType": "sparse"
         }
        ],
        [
         2073,
         {
          "indices": [
           2,
           3,
           4,
           5,
           6,
           11,
           12,
           13,
           15
          ],
          "length": 18,
          "values": [
           0.5,
           1.0,
           0.14914914914914915,
           0.1,
           1.0,
           1.0,
           1.0,
           1.0,
           1.0
          ],
          "vectorType": "sparse"
         }
        ],
        [
         2523,
         {
          "length": 18,
          "values": [
           0.75,
           1.0,
           1.0,
           1.0,
           0.0990990990990991,
           0.1,
           1.0,
           0.0,
           0.0,
           1.0,
           0.0,
           0.0,
           1.0,
           1.0,
           1.0,
           0.0,
           1.0,
           0.0
          ],
          "vectorType": "dense"
         }
        ],
        [
         2717,
         {
          "length": 18,
          "values": [
           0.25,
           0.2,
           0.5,
           0.7333333333333333,
           0.12412412412412413,
           0.2,
           0.0,
           1.0,
           0.0,
           1.0,
           0.0,
           0.0,
           1.0,
           1.0,
           1.0,
           0.0,
           0.0,
           1.0
          ],
          "vectorType": "dense"
         }
        ],
        [
         3364,
         {
          "length": 18,
          "values": [
           0.125,
           0.2,
           0.5,
           1.0,
           0.0990990990990991,
           0.1,
           1.0,
           0.0,
           0.0,
           1.0,
           0.0,
           0.0,
           1.0,
           1.0,
           1.0,
           1.0,
           0.0,
           0.0
          ],
          "vectorType": "dense"
         }
        ],
        [
         4046,
         {
          "length": 18,
          "values": [
           0.375,
           0.4,
           1.0,
           0.4,
           0.07407407407407407,
           0.05,
           1.0,
           0.0,
           0.0,
           1.0,
           0.0,
           0.0,
           1.0,
           1.0,
           0.0,
           1.0,
           0.0,
           0.0
          ],
          "vectorType": "dense"
         }
        ],
        [
         4303,
         {
          "indices": [
           3,
           4,
           5,
           7,
           9,
           12,
           13,
           14,
           15
          ],
          "length": 18,
          "values": [
           1.0,
           0.14914914914914915,
           0.2,
           1.0,
           1.0,
           1.0,
           1.0,
           1.0,
           1.0
          ],
          "vectorType": "sparse"
         }
        ]
       ],
       "datasetInfos": [],
       "dbfsResultPath": null,
       "isJsonSchema": true,
       "metadata": {},
       "overflow": false,
       "plotOptions": {
        "customPlotOptions": {},
        "displayType": "table",
        "pivotAggregation": null,
        "pivotColumns": null,
        "xColumns": null,
        "yColumns": null
       },
       "removedWidgets": [],
       "schema": [
        {
         "metadata": "{}",
         "name": "household_id",
         "type": "\"long\""
        },
        {
         "metadata": "{\"ml_attr\":{\"num_attrs\":18,\"attrs\":{\"binary\":[{\"name\":\"marital_status_ohe_M\",\"idx\":6},{\"name\":\"marital_status_ohe_S\",\"idx\":7},{\"name\":\"marital_status_ohe_A\",\"idx\":8},{\"name\":\"race_code_ohe_W\",\"idx\":9},{\"name\":\"race_code_ohe_B\",\"idx\":10},{\"name\":\"race_code_ohe_H\",\"idx\":11},{\"name\":\"dwelling_type_ohe_S\",\"idx\":12},{\"name\":\"home_owner_status_ohe_O\",\"idx\":13},{\"name\":\"gender_individual_ohe_M\",\"idx\":14},{\"name\":\"education_highest_ohe_1\",\"idx\":15},{\"name\":\"education_highest_ohe_2\",\"idx\":16},{\"name\":\"education_highest_ohe_3\",\"idx\":17}],\"numeric\":[{\"name\":\"household_size_scaled\",\"idx\":0},{\"name\":\"num_adults_scaled\",\"idx\":1},{\"name\":\"num_generations_scaled\",\"idx\":2},{\"name\":\"length_residence_scaled\",\"idx\":3},{\"name\":\"home_market_value_scaled\",\"idx\":4},{\"name\":\"net_worth_scaled\",\"idx\":5}]}}}",
         "name": "features",
         "type": "{\"type\":\"udt\",\"class\":\"org.apache.spark.ml.linalg.VectorUDT\",\"pyClass\":\"pyspark.ml.linalg.VectorUDT\",\"sqlType\":{\"type\":\"struct\",\"fields\":[{\"name\":\"type\",\"type\":\"byte\",\"nullable\":false,\"metadata\":{}},{\"name\":\"size\",\"type\":\"integer\",\"nullable\":true,\"metadata\":{}},{\"name\":\"indices\",\"type\":{\"type\":\"array\",\"elementType\":\"integer\",\"containsNull\":false},\"nullable\":true,\"metadata\":{}},{\"name\":\"values\",\"type\":{\"type\":\"array\",\"elementType\":\"double\",\"containsNull\":false},\"nullable\":true,\"metadata\":{}}]}}"
        }
       ],
       "type": "table"
      }
     },
     "output_type": "display_data"
    }
   ],
   "source": [
    "# Display features column only\n",
    "display(prepared_demo_df.select(\"household_id\", \"features\").limit(7))"
   ]
  },
  {
   "cell_type": "markdown",
   "metadata": {
    "application/vnd.databricks.v1+cell": {
     "cellMetadata": {
      "byteLimit": 2048000,
      "rowLimit": 10000
     },
     "inputWidgets": {},
     "nuid": "370bfcfa-c11e-464e-9ac6-8bc39d22e098",
     "showTitle": false,
     "tableResultSettingsMap": {},
     "title": ""
    }
   },
   "source": [
    "### Visual Analysis"
   ]
  },
  {
   "cell_type": "markdown",
   "metadata": {
    "application/vnd.databricks.v1+cell": {
     "cellMetadata": {
      "byteLimit": 2048000,
      "rowLimit": 10000
     },
     "inputWidgets": {},
     "nuid": "6ac4cec8-dcd8-47f6-b9ed-0cbb34f68567",
     "showTitle": false,
     "tableResultSettingsMap": {},
     "title": ""
    }
   },
   "source": [
    "**PCA projection and scatter plot**\n",
    "\n",
    "In this part, a PCA is applied with `k=2` to project the full feature vector to two dimensions.  \n",
    "The result is first displayed to check both the original `features` and the new `pca_features` columns.\n",
    "\n",
    "The `vector_to_array` function is used to convert the Spark ML vector to an array, making it easy to extract the first and second principal components.  \n",
    "These components are saved as `pca_x` and `pca_y` and plotted as a 2D scatter plot using the Pandas shortcut.  \n",
    "The scatter uses pink points, as required, to visualize how the data is spread in the reduced space.\n"
   ]
  },
  {
   "cell_type": "code",
   "execution_count": 0,
   "metadata": {
    "application/vnd.databricks.v1+cell": {
     "cellMetadata": {
      "byteLimit": 2048000,
      "rowLimit": 10000
     },
     "inputWidgets": {},
     "nuid": "0d3da538-1e6c-4c5a-bd79-9f809556319a",
     "showTitle": false,
     "tableResultSettingsMap": {},
     "title": ""
    }
   },
   "outputs": [
    {
     "output_type": "stream",
     "name": "stdout",
     "output_type": "stream",
     "text": [
      "Displaying all the df\n"
     ]
    },
    {
     "output_type": "display_data",
     "data": {
      "text/html": [
       "<style scoped>\n",
       "  .table-result-container {\n",
       "    max-height: 300px;\n",
       "    overflow: auto;\n",
       "  }\n",
       "  table, th, td {\n",
       "    border: 1px solid black;\n",
       "    border-collapse: collapse;\n",
       "  }\n",
       "  th, td {\n",
       "    padding: 5px;\n",
       "  }\n",
       "  th {\n",
       "    text-align: left;\n",
       "  }\n",
       "</style><div class='table-result-container'><table class='table-result'><thead style='background-color: white'><tr><th>household_id</th><th>household_size</th><th>num_adults</th><th>num_generations</th><th>marital_status</th><th>race_code</th><th>dwelling_type</th><th>home_owner_status</th><th>length_residence</th><th>home_market_value</th><th>net_worth</th><th>gender_individual</th><th>education_highest</th><th>household_size_scaled</th><th>num_adults_scaled</th><th>num_generations_scaled</th><th>length_residence_scaled</th><th>home_market_value_scaled</th><th>net_worth_scaled</th><th>marital_status_index</th><th>race_code_index</th><th>dwelling_type_index</th><th>home_owner_status_index</th><th>gender_individual_index</th><th>education_highest_index</th><th>marital_status_ohe</th><th>race_code_ohe</th><th>dwelling_type_ohe</th><th>home_owner_status_ohe</th><th>gender_individual_ohe</th><th>education_highest_ohe</th><th>features</th><th>pca_features</th></tr></thead><tbody><tr><td>85</td><td>2</td><td>1</td><td>2</td><td>B</td><td>W</td><td>S</td><td>O</td><td>15</td><td>0.125</td><td>0.05</td><td>F</td><td>1</td><td>0.125</td><td>0.0</td><td>0.5</td><td>1.0</td><td>0.12412412412412413</td><td>0.05</td><td>3.0</td><td>0.0</td><td>0.0</td><td>0.0</td><td>1.0</td><td>0.0</td><td>Map(vectorType -> sparse, length -> 3, indices -> List(), values -> List())</td><td>Map(vectorType -> sparse, length -> 3, indices -> List(0), values -> List(1.0))</td><td>Map(vectorType -> sparse, length -> 1, indices -> List(0), values -> List(1.0))</td><td>Map(vectorType -> sparse, length -> 1, indices -> List(0), values -> List(1.0))</td><td>Map(vectorType -> sparse, length -> 1, indices -> List(), values -> List())</td><td>Map(vectorType -> sparse, length -> 3, indices -> List(0), values -> List(1.0))</td><td>Map(vectorType -> sparse, length -> 18, indices -> List(0, 2, 3, 4, 5, 9, 12, 13, 15), values -> List(0.125, 0.5, 1.0, 0.12412412412412413, 0.05, 1.0, 1.0, 1.0, 1.0))</td><td>Map(vectorType -> dense, length -> 2, values -> List(0.7696161667682886, -0.1432845044432588))</td></tr><tr><td>2073</td><td>1</td><td>1</td><td>2</td><td>M</td><td>H</td><td>S</td><td>O</td><td>15</td><td>0.15</td><td>0.1</td><td>F</td><td>1</td><td>0.0</td><td>0.0</td><td>0.5</td><td>1.0</td><td>0.14914914914914915</td><td>0.1</td><td>0.0</td><td>2.0</td><td>0.0</td><td>0.0</td><td>1.0</td><td>0.0</td><td>Map(vectorType -> sparse, length -> 3, indices -> List(0), values -> List(1.0))</td><td>Map(vectorType -> sparse, length -> 3, indices -> List(2), values -> List(1.0))</td><td>Map(vectorType -> sparse, length -> 1, indices -> List(0), values -> List(1.0))</td><td>Map(vectorType -> sparse, length -> 1, indices -> List(0), values -> List(1.0))</td><td>Map(vectorType -> sparse, length -> 1, indices -> List(), values -> List())</td><td>Map(vectorType -> sparse, length -> 3, indices -> List(0), values -> List(1.0))</td><td>Map(vectorType -> sparse, length -> 18, indices -> List(2, 3, 4, 5, 6, 11, 12, 13, 15), values -> List(0.5, 1.0, 0.14914914914914915, 0.1, 1.0, 1.0, 1.0, 1.0, 1.0))</td><td>Map(vectorType -> dense, length -> 2, values -> List(1.0470607429479766, -0.8077002155153574))</td></tr><tr><td>2523</td><td>7</td><td>6</td><td>3</td><td>M</td><td>W</td><td>S</td><td>O</td><td>15</td><td>0.1</td><td>0.1</td><td>M</td><td>2</td><td>0.75</td><td>1.0</td><td>1.0</td><td>1.0</td><td>0.0990990990990991</td><td>0.1</td><td>0.0</td><td>0.0</td><td>0.0</td><td>0.0</td><td>0.0</td><td>1.0</td><td>Map(vectorType -> sparse, length -> 3, indices -> List(0), values -> List(1.0))</td><td>Map(vectorType -> sparse, length -> 3, indices -> List(0), values -> List(1.0))</td><td>Map(vectorType -> sparse, length -> 1, indices -> List(0), values -> List(1.0))</td><td>Map(vectorType -> sparse, length -> 1, indices -> List(0), values -> List(1.0))</td><td>Map(vectorType -> sparse, length -> 1, indices -> List(0), values -> List(1.0))</td><td>Map(vectorType -> sparse, length -> 3, indices -> List(1), values -> List(1.0))</td><td>Map(vectorType -> dense, length -> 18, values -> List(0.75, 1.0, 1.0, 1.0, 0.0990990990990991, 0.1, 1.0, 0.0, 0.0, 1.0, 0.0, 0.0, 1.0, 1.0, 1.0, 0.0, 1.0, 0.0))</td><td>Map(vectorType -> dense, length -> 2, values -> List(-0.2156446172043761, -1.6496380625532248))</td></tr><tr><td>2717</td><td>3</td><td>2</td><td>2</td><td>S</td><td>W</td><td>S</td><td>O</td><td>11</td><td>0.125</td><td>0.2</td><td>M</td><td>3</td><td>0.25</td><td>0.2</td><td>0.5</td><td>0.7333333333333333</td><td>0.12412412412412413</td><td>0.2</td><td>1.0</td><td>0.0</td><td>0.0</td><td>0.0</td><td>0.0</td><td>2.0</td><td>Map(vectorType -> sparse, length -> 3, indices -> List(1), values -> List(1.0))</td><td>Map(vectorType -> sparse, length -> 3, indices -> List(0), values -> List(1.0))</td><td>Map(vectorType -> sparse, length -> 1, indices -> List(0), values -> List(1.0))</td><td>Map(vectorType -> sparse, length -> 1, indices -> List(0), values -> List(1.0))</td><td>Map(vectorType -> sparse, length -> 1, indices -> List(0), values -> List(1.0))</td><td>Map(vectorType -> sparse, length -> 3, indices -> List(2), values -> List(1.0))</td><td>Map(vectorType -> dense, length -> 18, values -> List(0.25, 0.2, 0.5, 0.7333333333333333, 0.12412412412412413, 0.2, 0.0, 1.0, 0.0, 1.0, 0.0, 0.0, 1.0, 1.0, 1.0, 0.0, 0.0, 1.0))</td><td>Map(vectorType -> dense, length -> 2, values -> List(-0.1472713333051473, -0.00987810853388292))</td></tr><tr><td>3364</td><td>2</td><td>2</td><td>2</td><td>M</td><td>W</td><td>S</td><td>O</td><td>15</td><td>0.1</td><td>0.1</td><td>M</td><td>1</td><td>0.125</td><td>0.2</td><td>0.5</td><td>1.0</td><td>0.0990990990990991</td><td>0.1</td><td>0.0</td><td>0.0</td><td>0.0</td><td>0.0</td><td>0.0</td><td>0.0</td><td>Map(vectorType -> sparse, length -> 3, indices -> List(0), values -> List(1.0))</td><td>Map(vectorType -> sparse, length -> 3, indices -> List(0), values -> List(1.0))</td><td>Map(vectorType -> sparse, length -> 1, indices -> List(0), values -> List(1.0))</td><td>Map(vectorType -> sparse, length -> 1, indices -> List(0), values -> List(1.0))</td><td>Map(vectorType -> sparse, length -> 1, indices -> List(0), values -> List(1.0))</td><td>Map(vectorType -> sparse, length -> 3, indices -> List(0), values -> List(1.0))</td><td>Map(vectorType -> dense, length -> 18, values -> List(0.125, 0.2, 0.5, 1.0, 0.0990990990990991, 0.1, 1.0, 0.0, 0.0, 1.0, 0.0, 0.0, 1.0, 1.0, 1.0, 1.0, 0.0, 0.0))</td><td>Map(vectorType -> dense, length -> 2, values -> List(1.0866265581511165, -1.0202633541472839))</td></tr><tr><td>4046</td><td>4</td><td>3</td><td>3</td><td>M</td><td>W</td><td>S</td><td>O</td><td>6</td><td>0.075</td><td>0.05</td><td>F</td><td>1</td><td>0.375</td><td>0.4</td><td>1.0</td><td>0.4</td><td>0.07407407407407407</td><td>0.05</td><td>0.0</td><td>0.0</td><td>0.0</td><td>0.0</td><td>1.0</td><td>0.0</td><td>Map(vectorType -> sparse, length -> 3, indices -> List(0), values -> List(1.0))</td><td>Map(vectorType -> sparse, length -> 3, indices -> List(0), values -> List(1.0))</td><td>Map(vectorType -> sparse, length -> 1, indices -> List(0), values -> List(1.0))</td><td>Map(vectorType -> sparse, length -> 1, indices -> List(0), values -> List(1.0))</td><td>Map(vectorType -> sparse, length -> 1, indices -> List(), values -> List())</td><td>Map(vectorType -> sparse, length -> 3, indices -> List(0), values -> List(1.0))</td><td>Map(vectorType -> dense, length -> 18, values -> List(0.375, 0.4, 1.0, 0.4, 0.07407407407407407, 0.05, 1.0, 0.0, 0.0, 1.0, 0.0, 0.0, 1.0, 1.0, 0.0, 1.0, 0.0, 0.0))</td><td>Map(vectorType -> dense, length -> 2, values -> List(0.9640643076197329, -0.9501483206226203))</td></tr><tr><td>4303</td><td>1</td><td>1</td><td>1</td><td>S</td><td>W</td><td>S</td><td>O</td><td>15</td><td>0.15</td><td>0.2</td><td>M</td><td>1</td><td>0.0</td><td>0.0</td><td>0.0</td><td>1.0</td><td>0.14914914914914915</td><td>0.2</td><td>1.0</td><td>0.0</td><td>0.0</td><td>0.0</td><td>0.0</td><td>0.0</td><td>Map(vectorType -> sparse, length -> 3, indices -> List(1), values -> List(1.0))</td><td>Map(vectorType -> sparse, length -> 3, indices -> List(0), values -> List(1.0))</td><td>Map(vectorType -> sparse, length -> 1, indices -> List(0), values -> List(1.0))</td><td>Map(vectorType -> sparse, length -> 1, indices -> List(0), values -> List(1.0))</td><td>Map(vectorType -> sparse, length -> 1, indices -> List(0), values -> List(1.0))</td><td>Map(vectorType -> sparse, length -> 3, indices -> List(0), values -> List(1.0))</td><td>Map(vectorType -> sparse, length -> 18, indices -> List(3, 4, 5, 7, 9, 12, 13, 14, 15), values -> List(1.0, 0.14914914914914915, 0.2, 1.0, 1.0, 1.0, 1.0, 1.0, 1.0))</td><td>Map(vectorType -> dense, length -> 2, values -> List(0.685225856582355, 0.331862180984082))</td></tr></tbody></table></div>"
      ]
     },
     "metadata": {
      "application/vnd.databricks.v1+output": {
       "addedWidgets": {},
       "aggData": [],
       "aggError": "",
       "aggOverflow": false,
       "aggSchema": [],
       "aggSeriesLimitReached": false,
       "aggType": "",
       "arguments": {},
       "columnCustomDisplayInfos": {},
       "data": [
        [
         85,
         2,
         1,
         2,
         "B",
         "W",
         "S",
         "O",
         15,
         0.125,
         0.05,
         "F",
         "1",
         0.125,
         0.0,
         0.5,
         1.0,
         0.12412412412412413,
         0.05,
         3.0,
         0.0,
         0.0,
         0.0,
         1.0,
         0.0,
         {
          "indices": [],
          "length": 3,
          "values": [],
          "vectorType": "sparse"
         },
         {
          "indices": [
           0
          ],
          "length": 3,
          "values": [
           1.0
          ],
          "vectorType": "sparse"
         },
         {
          "indices": [
           0
          ],
          "length": 1,
          "values": [
           1.0
          ],
          "vectorType": "sparse"
         },
         {
          "indices": [
           0
          ],
          "length": 1,
          "values": [
           1.0
          ],
          "vectorType": "sparse"
         },
         {
          "indices": [],
          "length": 1,
          "values": [],
          "vectorType": "sparse"
         },
         {
          "indices": [
           0
          ],
          "length": 3,
          "values": [
           1.0
          ],
          "vectorType": "sparse"
         },
         {
          "indices": [
           0,
           2,
           3,
           4,
           5,
           9,
           12,
           13,
           15
          ],
          "length": 18,
          "values": [
           0.125,
           0.5,
           1.0,
           0.12412412412412413,
           0.05,
           1.0,
           1.0,
           1.0,
           1.0
          ],
          "vectorType": "sparse"
         },
         {
          "length": 2,
          "values": [
           0.7696161667682886,
           -0.1432845044432588
          ],
          "vectorType": "dense"
         }
        ],
        [
         2073,
         1,
         1,
         2,
         "M",
         "H",
         "S",
         "O",
         15,
         0.15,
         0.1,
         "F",
         "1",
         0.0,
         0.0,
         0.5,
         1.0,
         0.14914914914914915,
         0.1,
         0.0,
         2.0,
         0.0,
         0.0,
         1.0,
         0.0,
         {
          "indices": [
           0
          ],
          "length": 3,
          "values": [
           1.0
          ],
          "vectorType": "sparse"
         },
         {
          "indices": [
           2
          ],
          "length": 3,
          "values": [
           1.0
          ],
          "vectorType": "sparse"
         },
         {
          "indices": [
           0
          ],
          "length": 1,
          "values": [
           1.0
          ],
          "vectorType": "sparse"
         },
         {
          "indices": [
           0
          ],
          "length": 1,
          "values": [
           1.0
          ],
          "vectorType": "sparse"
         },
         {
          "indices": [],
          "length": 1,
          "values": [],
          "vectorType": "sparse"
         },
         {
          "indices": [
           0
          ],
          "length": 3,
          "values": [
           1.0
          ],
          "vectorType": "sparse"
         },
         {
          "indices": [
           2,
           3,
           4,
           5,
           6,
           11,
           12,
           13,
           15
          ],
          "length": 18,
          "values": [
           0.5,
           1.0,
           0.14914914914914915,
           0.1,
           1.0,
           1.0,
           1.0,
           1.0,
           1.0
          ],
          "vectorType": "sparse"
         },
         {
          "length": 2,
          "values": [
           1.0470607429479766,
           -0.8077002155153574
          ],
          "vectorType": "dense"
         }
        ],
        [
         2523,
         7,
         6,
         3,
         "M",
         "W",
         "S",
         "O",
         15,
         0.1,
         0.1,
         "M",
         "2",
         0.75,
         1.0,
         1.0,
         1.0,
         0.0990990990990991,
         0.1,
         0.0,
         0.0,
         0.0,
         0.0,
         0.0,
         1.0,
         {
          "indices": [
           0
          ],
          "length": 3,
          "values": [
           1.0
          ],
          "vectorType": "sparse"
         },
         {
          "indices": [
           0
          ],
          "length": 3,
          "values": [
           1.0
          ],
          "vectorType": "sparse"
         },
         {
          "indices": [
           0
          ],
          "length": 1,
          "values": [
           1.0
          ],
          "vectorType": "sparse"
         },
         {
          "indices": [
           0
          ],
          "length": 1,
          "values": [
           1.0
          ],
          "vectorType": "sparse"
         },
         {
          "indices": [
           0
          ],
          "length": 1,
          "values": [
           1.0
          ],
          "vectorType": "sparse"
         },
         {
          "indices": [
           1
          ],
          "length": 3,
          "values": [
           1.0
          ],
          "vectorType": "sparse"
         },
         {
          "length": 18,
          "values": [
           0.75,
           1.0,
           1.0,
           1.0,
           0.0990990990990991,
           0.1,
           1.0,
           0.0,
           0.0,
           1.0,
           0.0,
           0.0,
           1.0,
           1.0,
           1.0,
           0.0,
           1.0,
           0.0
          ],
          "vectorType": "dense"
         },
         {
          "length": 2,
          "values": [
           -0.2156446172043761,
           -1.6496380625532248
          ],
          "vectorType": "dense"
         }
        ],
        [
         2717,
         3,
         2,
         2,
         "S",
         "W",
         "S",
         "O",
         11,
         0.125,
         0.2,
         "M",
         "3",
         0.25,
         0.2,
         0.5,
         0.7333333333333333,
         0.12412412412412413,
         0.2,
         1.0,
         0.0,
         0.0,
         0.0,
         0.0,
         2.0,
         {
          "indices": [
           1
          ],
          "length": 3,
          "values": [
           1.0
          ],
          "vectorType": "sparse"
         },
         {
          "indices": [
           0
          ],
          "length": 3,
          "values": [
           1.0
          ],
          "vectorType": "sparse"
         },
         {
          "indices": [
           0
          ],
          "length": 1,
          "values": [
           1.0
          ],
          "vectorType": "sparse"
         },
         {
          "indices": [
           0
          ],
          "length": 1,
          "values": [
           1.0
          ],
          "vectorType": "sparse"
         },
         {
          "indices": [
           0
          ],
          "length": 1,
          "values": [
           1.0
          ],
          "vectorType": "sparse"
         },
         {
          "indices": [
           2
          ],
          "length": 3,
          "values": [
           1.0
          ],
          "vectorType": "sparse"
         },
         {
          "length": 18,
          "values": [
           0.25,
           0.2,
           0.5,
           0.7333333333333333,
           0.12412412412412413,
           0.2,
           0.0,
           1.0,
           0.0,
           1.0,
           0.0,
           0.0,
           1.0,
           1.0,
           1.0,
           0.0,
           0.0,
           1.0
          ],
          "vectorType": "dense"
         },
         {
          "length": 2,
          "values": [
           -0.1472713333051473,
           -0.00987810853388292
          ],
          "vectorType": "dense"
         }
        ],
        [
         3364,
         2,
         2,
         2,
         "M",
         "W",
         "S",
         "O",
         15,
         0.1,
         0.1,
         "M",
         "1",
         0.125,
         0.2,
         0.5,
         1.0,
         0.0990990990990991,
         0.1,
         0.0,
         0.0,
         0.0,
         0.0,
         0.0,
         0.0,
         {
          "indices": [
           0
          ],
          "length": 3,
          "values": [
           1.0
          ],
          "vectorType": "sparse"
         },
         {
          "indices": [
           0
          ],
          "length": 3,
          "values": [
           1.0
          ],
          "vectorType": "sparse"
         },
         {
          "indices": [
           0
          ],
          "length": 1,
          "values": [
           1.0
          ],
          "vectorType": "sparse"
         },
         {
          "indices": [
           0
          ],
          "length": 1,
          "values": [
           1.0
          ],
          "vectorType": "sparse"
         },
         {
          "indices": [
           0
          ],
          "length": 1,
          "values": [
           1.0
          ],
          "vectorType": "sparse"
         },
         {
          "indices": [
           0
          ],
          "length": 3,
          "values": [
           1.0
          ],
          "vectorType": "sparse"
         },
         {
          "length": 18,
          "values": [
           0.125,
           0.2,
           0.5,
           1.0,
           0.0990990990990991,
           0.1,
           1.0,
           0.0,
           0.0,
           1.0,
           0.0,
           0.0,
           1.0,
           1.0,
           1.0,
           1.0,
           0.0,
           0.0
          ],
          "vectorType": "dense"
         },
         {
          "length": 2,
          "values": [
           1.0866265581511165,
           -1.0202633541472839
          ],
          "vectorType": "dense"
         }
        ],
        [
         4046,
         4,
         3,
         3,
         "M",
         "W",
         "S",
         "O",
         6,
         0.075,
         0.05,
         "F",
         "1",
         0.375,
         0.4,
         1.0,
         0.4,
         0.07407407407407407,
         0.05,
         0.0,
         0.0,
         0.0,
         0.0,
         1.0,
         0.0,
         {
          "indices": [
           0
          ],
          "length": 3,
          "values": [
           1.0
          ],
          "vectorType": "sparse"
         },
         {
          "indices": [
           0
          ],
          "length": 3,
          "values": [
           1.0
          ],
          "vectorType": "sparse"
         },
         {
          "indices": [
           0
          ],
          "length": 1,
          "values": [
           1.0
          ],
          "vectorType": "sparse"
         },
         {
          "indices": [
           0
          ],
          "length": 1,
          "values": [
           1.0
          ],
          "vectorType": "sparse"
         },
         {
          "indices": [],
          "length": 1,
          "values": [],
          "vectorType": "sparse"
         },
         {
          "indices": [
           0
          ],
          "length": 3,
          "values": [
           1.0
          ],
          "vectorType": "sparse"
         },
         {
          "length": 18,
          "values": [
           0.375,
           0.4,
           1.0,
           0.4,
           0.07407407407407407,
           0.05,
           1.0,
           0.0,
           0.0,
           1.0,
           0.0,
           0.0,
           1.0,
           1.0,
           0.0,
           1.0,
           0.0,
           0.0
          ],
          "vectorType": "dense"
         },
         {
          "length": 2,
          "values": [
           0.9640643076197329,
           -0.9501483206226203
          ],
          "vectorType": "dense"
         }
        ],
        [
         4303,
         1,
         1,
         1,
         "S",
         "W",
         "S",
         "O",
         15,
         0.15,
         0.2,
         "M",
         "1",
         0.0,
         0.0,
         0.0,
         1.0,
         0.14914914914914915,
         0.2,
         1.0,
         0.0,
         0.0,
         0.0,
         0.0,
         0.0,
         {
          "indices": [
           1
          ],
          "length": 3,
          "values": [
           1.0
          ],
          "vectorType": "sparse"
         },
         {
          "indices": [
           0
          ],
          "length": 3,
          "values": [
           1.0
          ],
          "vectorType": "sparse"
         },
         {
          "indices": [
           0
          ],
          "length": 1,
          "values": [
           1.0
          ],
          "vectorType": "sparse"
         },
         {
          "indices": [
           0
          ],
          "length": 1,
          "values": [
           1.0
          ],
          "vectorType": "sparse"
         },
         {
          "indices": [
           0
          ],
          "length": 1,
          "values": [
           1.0
          ],
          "vectorType": "sparse"
         },
         {
          "indices": [
           0
          ],
          "length": 3,
          "values": [
           1.0
          ],
          "vectorType": "sparse"
         },
         {
          "indices": [
           3,
           4,
           5,
           7,
           9,
           12,
           13,
           14,
           15
          ],
          "length": 18,
          "values": [
           1.0,
           0.14914914914914915,
           0.2,
           1.0,
           1.0,
           1.0,
           1.0,
           1.0,
           1.0
          ],
          "vectorType": "sparse"
         },
         {
          "length": 2,
          "values": [
           0.685225856582355,
           0.331862180984082
          ],
          "vectorType": "dense"
         }
        ]
       ],
       "datasetInfos": [],
       "dbfsResultPath": null,
       "isJsonSchema": true,
       "metadata": {},
       "overflow": false,
       "plotOptions": {
        "customPlotOptions": {},
        "displayType": "table",
        "pivotAggregation": null,
        "pivotColumns": null,
        "xColumns": null,
        "yColumns": null
       },
       "removedWidgets": [],
       "schema": [
        {
         "metadata": "{}",
         "name": "household_id",
         "type": "\"long\""
        },
        {
         "metadata": "{}",
         "name": "household_size",
         "type": "\"integer\""
        },
        {
         "metadata": "{}",
         "name": "num_adults",
         "type": "\"integer\""
        },
        {
         "metadata": "{}",
         "name": "num_generations",
         "type": "\"integer\""
        },
        {
         "metadata": "{}",
         "name": "marital_status",
         "type": "\"string\""
        },
        {
         "metadata": "{}",
         "name": "race_code",
         "type": "\"string\""
        },
        {
         "metadata": "{}",
         "name": "dwelling_type",
         "type": "\"string\""
        },
        {
         "metadata": "{}",
         "name": "home_owner_status",
         "type": "\"string\""
        },
        {
         "metadata": "{}",
         "name": "length_residence",
         "type": "\"integer\""
        },
        {
         "metadata": "{}",
         "name": "home_market_value",
         "type": "\"double\""
        },
        {
         "metadata": "{}",
         "name": "net_worth",
         "type": "\"double\""
        },
        {
         "metadata": "{}",
         "name": "gender_individual",
         "type": "\"string\""
        },
        {
         "metadata": "{}",
         "name": "education_highest",
         "type": "\"string\""
        },
        {
         "metadata": "{}",
         "name": "household_size_scaled",
         "type": "\"double\""
        },
        {
         "metadata": "{}",
         "name": "num_adults_scaled",
         "type": "\"double\""
        },
        {
         "metadata": "{}",
         "name": "num_generations_scaled",
         "type": "\"double\""
        },
        {
         "metadata": "{}",
         "name": "length_residence_scaled",
         "type": "\"double\""
        },
        {
         "metadata": "{}",
         "name": "home_market_value_scaled",
         "type": "\"double\""
        },
        {
         "metadata": "{}",
         "name": "net_worth_scaled",
         "type": "\"double\""
        },
        {
         "metadata": "{\"ml_attr\":{\"vals\":[\"M\",\"S\",\"A\",\"B\"],\"name\":\"marital_status_index\",\"type\":\"nominal\"}}",
         "name": "marital_status_index",
         "type": "\"double\""
        },
        {
         "metadata": "{\"ml_attr\":{\"vals\":[\"W\",\"B\",\"H\",\"A\"],\"name\":\"race_code_index\",\"type\":\"nominal\"}}",
         "name": "race_code_index",
         "type": "\"double\""
        },
        {
         "metadata": "{\"ml_attr\":{\"vals\":[\"S\",\"M\"],\"name\":\"dwelling_type_index\",\"type\":\"nominal\"}}",
         "name": "dwelling_type_index",
         "type": "\"double\""
        },
        {
         "metadata": "{\"ml_attr\":{\"vals\":[\"O\",\"R\"],\"name\":\"home_owner_status_index\",\"type\":\"nominal\"}}",
         "name": "home_owner_status_index",
         "type": "\"double\""
        },
        {
         "metadata": "{\"ml_attr\":{\"vals\":[\"M\",\"F\"],\"name\":\"gender_individual_index\",\"type\":\"nominal\"}}",
         "name": "gender_individual_index",
         "type": "\"double\""
        },
        {
         "metadata": "{\"ml_attr\":{\"vals\":[\"1\",\"2\",\"3\",\"4\"],\"name\":\"education_highest_index\",\"type\":\"nominal\"}}",
         "name": "education_highest_index",
         "type": "\"double\""
        },
        {
         "metadata": "{\"ml_attr\":{\"num_attrs\":3,\"attrs\":{\"binary\":[{\"name\":\"M\",\"idx\":0},{\"name\":\"S\",\"idx\":1},{\"name\":\"A\",\"idx\":2}]}}}",
         "name": "marital_status_ohe",
         "type": "{\"type\":\"udt\",\"class\":\"org.apache.spark.ml.linalg.VectorUDT\",\"pyClass\":\"pyspark.ml.linalg.VectorUDT\",\"sqlType\":{\"type\":\"struct\",\"fields\":[{\"name\":\"type\",\"type\":\"byte\",\"nullable\":false,\"metadata\":{}},{\"name\":\"size\",\"type\":\"integer\",\"nullable\":true,\"metadata\":{}},{\"name\":\"indices\",\"type\":{\"type\":\"array\",\"elementType\":\"integer\",\"containsNull\":false},\"nullable\":true,\"metadata\":{}},{\"name\":\"values\",\"type\":{\"type\":\"array\",\"elementType\":\"double\",\"containsNull\":false},\"nullable\":true,\"metadata\":{}}]}}"
        },
        {
         "metadata": "{\"ml_attr\":{\"num_attrs\":3,\"attrs\":{\"binary\":[{\"name\":\"W\",\"idx\":0},{\"name\":\"B\",\"idx\":1},{\"name\":\"H\",\"idx\":2}]}}}",
         "name": "race_code_ohe",
         "type": "{\"type\":\"udt\",\"class\":\"org.apache.spark.ml.linalg.VectorUDT\",\"pyClass\":\"pyspark.ml.linalg.VectorUDT\",\"sqlType\":{\"type\":\"struct\",\"fields\":[{\"name\":\"type\",\"type\":\"byte\",\"nullable\":false,\"metadata\":{}},{\"name\":\"size\",\"type\":\"integer\",\"nullable\":true,\"metadata\":{}},{\"name\":\"indices\",\"type\":{\"type\":\"array\",\"elementType\":\"integer\",\"containsNull\":false},\"nullable\":true,\"metadata\":{}},{\"name\":\"values\",\"type\":{\"type\":\"array\",\"elementType\":\"double\",\"containsNull\":false},\"nullable\":true,\"metadata\":{}}]}}"
        },
        {
         "metadata": "{\"ml_attr\":{\"num_attrs\":1,\"attrs\":{\"binary\":[{\"name\":\"S\",\"idx\":0}]}}}",
         "name": "dwelling_type_ohe",
         "type": "{\"type\":\"udt\",\"class\":\"org.apache.spark.ml.linalg.VectorUDT\",\"pyClass\":\"pyspark.ml.linalg.VectorUDT\",\"sqlType\":{\"type\":\"struct\",\"fields\":[{\"name\":\"type\",\"type\":\"byte\",\"nullable\":false,\"metadata\":{}},{\"name\":\"size\",\"type\":\"integer\",\"nullable\":true,\"metadata\":{}},{\"name\":\"indices\",\"type\":{\"type\":\"array\",\"elementType\":\"integer\",\"containsNull\":false},\"nullable\":true,\"metadata\":{}},{\"name\":\"values\",\"type\":{\"type\":\"array\",\"elementType\":\"double\",\"containsNull\":false},\"nullable\":true,\"metadata\":{}}]}}"
        },
        {
         "metadata": "{\"ml_attr\":{\"num_attrs\":1,\"attrs\":{\"binary\":[{\"name\":\"O\",\"idx\":0}]}}}",
         "name": "home_owner_status_ohe",
         "type": "{\"type\":\"udt\",\"class\":\"org.apache.spark.ml.linalg.VectorUDT\",\"pyClass\":\"pyspark.ml.linalg.VectorUDT\",\"sqlType\":{\"type\":\"struct\",\"fields\":[{\"name\":\"type\",\"type\":\"byte\",\"nullable\":false,\"metadata\":{}},{\"name\":\"size\",\"type\":\"integer\",\"nullable\":true,\"metadata\":{}},{\"name\":\"indices\",\"type\":{\"type\":\"array\",\"elementType\":\"integer\",\"containsNull\":false},\"nullable\":true,\"metadata\":{}},{\"name\":\"values\",\"type\":{\"type\":\"array\",\"elementType\":\"double\",\"containsNull\":false},\"nullable\":true,\"metadata\":{}}]}}"
        },
        {
         "metadata": "{\"ml_attr\":{\"num_attrs\":1,\"attrs\":{\"binary\":[{\"name\":\"M\",\"idx\":0}]}}}",
         "name": "gender_individual_ohe",
         "type": "{\"type\":\"udt\",\"class\":\"org.apache.spark.ml.linalg.VectorUDT\",\"pyClass\":\"pyspark.ml.linalg.VectorUDT\",\"sqlType\":{\"type\":\"struct\",\"fields\":[{\"name\":\"type\",\"type\":\"byte\",\"nullable\":false,\"metadata\":{}},{\"name\":\"size\",\"type\":\"integer\",\"nullable\":true,\"metadata\":{}},{\"name\":\"indices\",\"type\":{\"type\":\"array\",\"elementType\":\"integer\",\"containsNull\":false},\"nullable\":true,\"metadata\":{}},{\"name\":\"values\",\"type\":{\"type\":\"array\",\"elementType\":\"double\",\"containsNull\":false},\"nullable\":true,\"metadata\":{}}]}}"
        },
        {
         "metadata": "{\"ml_attr\":{\"num_attrs\":3,\"attrs\":{\"binary\":[{\"name\":\"1\",\"idx\":0},{\"name\":\"2\",\"idx\":1},{\"name\":\"3\",\"idx\":2}]}}}",
         "name": "education_highest_ohe",
         "type": "{\"type\":\"udt\",\"class\":\"org.apache.spark.ml.linalg.VectorUDT\",\"pyClass\":\"pyspark.ml.linalg.VectorUDT\",\"sqlType\":{\"type\":\"struct\",\"fields\":[{\"name\":\"type\",\"type\":\"byte\",\"nullable\":false,\"metadata\":{}},{\"name\":\"size\",\"type\":\"integer\",\"nullable\":true,\"metadata\":{}},{\"name\":\"indices\",\"type\":{\"type\":\"array\",\"elementType\":\"integer\",\"containsNull\":false},\"nullable\":true,\"metadata\":{}},{\"name\":\"values\",\"type\":{\"type\":\"array\",\"elementType\":\"double\",\"containsNull\":false},\"nullable\":true,\"metadata\":{}}]}}"
        },
        {
         "metadata": "{\"ml_attr\":{\"num_attrs\":18,\"attrs\":{\"binary\":[{\"name\":\"marital_status_ohe_M\",\"idx\":6},{\"name\":\"marital_status_ohe_S\",\"idx\":7},{\"name\":\"marital_status_ohe_A\",\"idx\":8},{\"name\":\"race_code_ohe_W\",\"idx\":9},{\"name\":\"race_code_ohe_B\",\"idx\":10},{\"name\":\"race_code_ohe_H\",\"idx\":11},{\"name\":\"dwelling_type_ohe_S\",\"idx\":12},{\"name\":\"home_owner_status_ohe_O\",\"idx\":13},{\"name\":\"gender_individual_ohe_M\",\"idx\":14},{\"name\":\"education_highest_ohe_1\",\"idx\":15},{\"name\":\"education_highest_ohe_2\",\"idx\":16},{\"name\":\"education_highest_ohe_3\",\"idx\":17}],\"numeric\":[{\"name\":\"household_size_scaled\",\"idx\":0},{\"name\":\"num_adults_scaled\",\"idx\":1},{\"name\":\"num_generations_scaled\",\"idx\":2},{\"name\":\"length_residence_scaled\",\"idx\":3},{\"name\":\"home_market_value_scaled\",\"idx\":4},{\"name\":\"net_worth_scaled\",\"idx\":5}]}}}",
         "name": "features",
         "type": "{\"type\":\"udt\",\"class\":\"org.apache.spark.ml.linalg.VectorUDT\",\"pyClass\":\"pyspark.ml.linalg.VectorUDT\",\"sqlType\":{\"type\":\"struct\",\"fields\":[{\"name\":\"type\",\"type\":\"byte\",\"nullable\":false,\"metadata\":{}},{\"name\":\"size\",\"type\":\"integer\",\"nullable\":true,\"metadata\":{}},{\"name\":\"indices\",\"type\":{\"type\":\"array\",\"elementType\":\"integer\",\"containsNull\":false},\"nullable\":true,\"metadata\":{}},{\"name\":\"values\",\"type\":{\"type\":\"array\",\"elementType\":\"double\",\"containsNull\":false},\"nullable\":true,\"metadata\":{}}]}}"
        },
        {
         "metadata": "{\"ml_attr\":{\"num_attrs\":2}}",
         "name": "pca_features",
         "type": "{\"type\":\"udt\",\"class\":\"org.apache.spark.ml.linalg.VectorUDT\",\"pyClass\":\"pyspark.ml.linalg.VectorUDT\",\"sqlType\":{\"type\":\"struct\",\"fields\":[{\"name\":\"type\",\"type\":\"byte\",\"nullable\":false,\"metadata\":{}},{\"name\":\"size\",\"type\":\"integer\",\"nullable\":true,\"metadata\":{}},{\"name\":\"indices\",\"type\":{\"type\":\"array\",\"elementType\":\"integer\",\"containsNull\":false},\"nullable\":true,\"metadata\":{}},{\"name\":\"values\",\"type\":{\"type\":\"array\",\"elementType\":\"double\",\"containsNull\":false},\"nullable\":true,\"metadata\":{}}]}}"
        }
       ],
       "type": "table"
      }
     },
     "output_type": "display_data"
    },
    {
     "output_type": "stream",
     "name": "stdout",
     "output_type": "stream",
     "text": [
      "Displaying relevant colums only\n"
     ]
    },
    {
     "output_type": "display_data",
     "data": {
      "text/html": [
       "<style scoped>\n",
       "  .table-result-container {\n",
       "    max-height: 300px;\n",
       "    overflow: auto;\n",
       "  }\n",
       "  table, th, td {\n",
       "    border: 1px solid black;\n",
       "    border-collapse: collapse;\n",
       "  }\n",
       "  th, td {\n",
       "    padding: 5px;\n",
       "  }\n",
       "  th {\n",
       "    text-align: left;\n",
       "  }\n",
       "</style><div class='table-result-container'><table class='table-result'><thead style='background-color: white'><tr><th>household_id</th><th>features</th><th>pca_features</th></tr></thead><tbody><tr><td>85</td><td>Map(vectorType -> sparse, length -> 18, indices -> List(0, 2, 3, 4, 5, 9, 12, 13, 15), values -> List(0.125, 0.5, 1.0, 0.12412412412412413, 0.05, 1.0, 1.0, 1.0, 1.0))</td><td>Map(vectorType -> dense, length -> 2, values -> List(0.7696161667682886, -0.1432845044432588))</td></tr><tr><td>2073</td><td>Map(vectorType -> sparse, length -> 18, indices -> List(2, 3, 4, 5, 6, 11, 12, 13, 15), values -> List(0.5, 1.0, 0.14914914914914915, 0.1, 1.0, 1.0, 1.0, 1.0, 1.0))</td><td>Map(vectorType -> dense, length -> 2, values -> List(1.0470607429479766, -0.8077002155153574))</td></tr><tr><td>2523</td><td>Map(vectorType -> dense, length -> 18, values -> List(0.75, 1.0, 1.0, 1.0, 0.0990990990990991, 0.1, 1.0, 0.0, 0.0, 1.0, 0.0, 0.0, 1.0, 1.0, 1.0, 0.0, 1.0, 0.0))</td><td>Map(vectorType -> dense, length -> 2, values -> List(-0.2156446172043761, -1.6496380625532248))</td></tr><tr><td>2717</td><td>Map(vectorType -> dense, length -> 18, values -> List(0.25, 0.2, 0.5, 0.7333333333333333, 0.12412412412412413, 0.2, 0.0, 1.0, 0.0, 1.0, 0.0, 0.0, 1.0, 1.0, 1.0, 0.0, 0.0, 1.0))</td><td>Map(vectorType -> dense, length -> 2, values -> List(-0.1472713333051473, -0.00987810853388292))</td></tr><tr><td>3364</td><td>Map(vectorType -> dense, length -> 18, values -> List(0.125, 0.2, 0.5, 1.0, 0.0990990990990991, 0.1, 1.0, 0.0, 0.0, 1.0, 0.0, 0.0, 1.0, 1.0, 1.0, 1.0, 0.0, 0.0))</td><td>Map(vectorType -> dense, length -> 2, values -> List(1.0866265581511165, -1.0202633541472839))</td></tr><tr><td>4046</td><td>Map(vectorType -> dense, length -> 18, values -> List(0.375, 0.4, 1.0, 0.4, 0.07407407407407407, 0.05, 1.0, 0.0, 0.0, 1.0, 0.0, 0.0, 1.0, 1.0, 0.0, 1.0, 0.0, 0.0))</td><td>Map(vectorType -> dense, length -> 2, values -> List(0.9640643076197329, -0.9501483206226203))</td></tr><tr><td>4303</td><td>Map(vectorType -> sparse, length -> 18, indices -> List(3, 4, 5, 7, 9, 12, 13, 14, 15), values -> List(1.0, 0.14914914914914915, 0.2, 1.0, 1.0, 1.0, 1.0, 1.0, 1.0))</td><td>Map(vectorType -> dense, length -> 2, values -> List(0.685225856582355, 0.331862180984082))</td></tr></tbody></table></div>"
      ]
     },
     "metadata": {
      "application/vnd.databricks.v1+output": {
       "addedWidgets": {},
       "aggData": [],
       "aggError": "",
       "aggOverflow": false,
       "aggSchema": [],
       "aggSeriesLimitReached": false,
       "aggType": "",
       "arguments": {},
       "columnCustomDisplayInfos": {},
       "data": [
        [
         85,
         {
          "indices": [
           0,
           2,
           3,
           4,
           5,
           9,
           12,
           13,
           15
          ],
          "length": 18,
          "values": [
           0.125,
           0.5,
           1.0,
           0.12412412412412413,
           0.05,
           1.0,
           1.0,
           1.0,
           1.0
          ],
          "vectorType": "sparse"
         },
         {
          "length": 2,
          "values": [
           0.7696161667682886,
           -0.1432845044432588
          ],
          "vectorType": "dense"
         }
        ],
        [
         2073,
         {
          "indices": [
           2,
           3,
           4,
           5,
           6,
           11,
           12,
           13,
           15
          ],
          "length": 18,
          "values": [
           0.5,
           1.0,
           0.14914914914914915,
           0.1,
           1.0,
           1.0,
           1.0,
           1.0,
           1.0
          ],
          "vectorType": "sparse"
         },
         {
          "length": 2,
          "values": [
           1.0470607429479766,
           -0.8077002155153574
          ],
          "vectorType": "dense"
         }
        ],
        [
         2523,
         {
          "length": 18,
          "values": [
           0.75,
           1.0,
           1.0,
           1.0,
           0.0990990990990991,
           0.1,
           1.0,
           0.0,
           0.0,
           1.0,
           0.0,
           0.0,
           1.0,
           1.0,
           1.0,
           0.0,
           1.0,
           0.0
          ],
          "vectorType": "dense"
         },
         {
          "length": 2,
          "values": [
           -0.2156446172043761,
           -1.6496380625532248
          ],
          "vectorType": "dense"
         }
        ],
        [
         2717,
         {
          "length": 18,
          "values": [
           0.25,
           0.2,
           0.5,
           0.7333333333333333,
           0.12412412412412413,
           0.2,
           0.0,
           1.0,
           0.0,
           1.0,
           0.0,
           0.0,
           1.0,
           1.0,
           1.0,
           0.0,
           0.0,
           1.0
          ],
          "vectorType": "dense"
         },
         {
          "length": 2,
          "values": [
           -0.1472713333051473,
           -0.00987810853388292
          ],
          "vectorType": "dense"
         }
        ],
        [
         3364,
         {
          "length": 18,
          "values": [
           0.125,
           0.2,
           0.5,
           1.0,
           0.0990990990990991,
           0.1,
           1.0,
           0.0,
           0.0,
           1.0,
           0.0,
           0.0,
           1.0,
           1.0,
           1.0,
           1.0,
           0.0,
           0.0
          ],
          "vectorType": "dense"
         },
         {
          "length": 2,
          "values": [
           1.0866265581511165,
           -1.0202633541472839
          ],
          "vectorType": "dense"
         }
        ],
        [
         4046,
         {
          "length": 18,
          "values": [
           0.375,
           0.4,
           1.0,
           0.4,
           0.07407407407407407,
           0.05,
           1.0,
           0.0,
           0.0,
           1.0,
           0.0,
           0.0,
           1.0,
           1.0,
           0.0,
           1.0,
           0.0,
           0.0
          ],
          "vectorType": "dense"
         },
         {
          "length": 2,
          "values": [
           0.9640643076197329,
           -0.9501483206226203
          ],
          "vectorType": "dense"
         }
        ],
        [
         4303,
         {
          "indices": [
           3,
           4,
           5,
           7,
           9,
           12,
           13,
           14,
           15
          ],
          "length": 18,
          "values": [
           1.0,
           0.14914914914914915,
           0.2,
           1.0,
           1.0,
           1.0,
           1.0,
           1.0,
           1.0
          ],
          "vectorType": "sparse"
         },
         {
          "length": 2,
          "values": [
           0.685225856582355,
           0.331862180984082
          ],
          "vectorType": "dense"
         }
        ]
       ],
       "datasetInfos": [],
       "dbfsResultPath": null,
       "isJsonSchema": true,
       "metadata": {},
       "overflow": false,
       "plotOptions": {
        "customPlotOptions": {},
        "displayType": "table",
        "pivotAggregation": null,
        "pivotColumns": null,
        "xColumns": null,
        "yColumns": null
       },
       "removedWidgets": [],
       "schema": [
        {
         "metadata": "{}",
         "name": "household_id",
         "type": "\"long\""
        },
        {
         "metadata": "{\"ml_attr\":{\"num_attrs\":18,\"attrs\":{\"binary\":[{\"name\":\"marital_status_ohe_M\",\"idx\":6},{\"name\":\"marital_status_ohe_S\",\"idx\":7},{\"name\":\"marital_status_ohe_A\",\"idx\":8},{\"name\":\"race_code_ohe_W\",\"idx\":9},{\"name\":\"race_code_ohe_B\",\"idx\":10},{\"name\":\"race_code_ohe_H\",\"idx\":11},{\"name\":\"dwelling_type_ohe_S\",\"idx\":12},{\"name\":\"home_owner_status_ohe_O\",\"idx\":13},{\"name\":\"gender_individual_ohe_M\",\"idx\":14},{\"name\":\"education_highest_ohe_1\",\"idx\":15},{\"name\":\"education_highest_ohe_2\",\"idx\":16},{\"name\":\"education_highest_ohe_3\",\"idx\":17}],\"numeric\":[{\"name\":\"household_size_scaled\",\"idx\":0},{\"name\":\"num_adults_scaled\",\"idx\":1},{\"name\":\"num_generations_scaled\",\"idx\":2},{\"name\":\"length_residence_scaled\",\"idx\":3},{\"name\":\"home_market_value_scaled\",\"idx\":4},{\"name\":\"net_worth_scaled\",\"idx\":5}]}}}",
         "name": "features",
         "type": "{\"type\":\"udt\",\"class\":\"org.apache.spark.ml.linalg.VectorUDT\",\"pyClass\":\"pyspark.ml.linalg.VectorUDT\",\"sqlType\":{\"type\":\"struct\",\"fields\":[{\"name\":\"type\",\"type\":\"byte\",\"nullable\":false,\"metadata\":{}},{\"name\":\"size\",\"type\":\"integer\",\"nullable\":true,\"metadata\":{}},{\"name\":\"indices\",\"type\":{\"type\":\"array\",\"elementType\":\"integer\",\"containsNull\":false},\"nullable\":true,\"metadata\":{}},{\"name\":\"values\",\"type\":{\"type\":\"array\",\"elementType\":\"double\",\"containsNull\":false},\"nullable\":true,\"metadata\":{}}]}}"
        },
        {
         "metadata": "{\"ml_attr\":{\"num_attrs\":2}}",
         "name": "pca_features",
         "type": "{\"type\":\"udt\",\"class\":\"org.apache.spark.ml.linalg.VectorUDT\",\"pyClass\":\"pyspark.ml.linalg.VectorUDT\",\"sqlType\":{\"type\":\"struct\",\"fields\":[{\"name\":\"type\",\"type\":\"byte\",\"nullable\":false,\"metadata\":{}},{\"name\":\"size\",\"type\":\"integer\",\"nullable\":true,\"metadata\":{}},{\"name\":\"indices\",\"type\":{\"type\":\"array\",\"elementType\":\"integer\",\"containsNull\":false},\"nullable\":true,\"metadata\":{}},{\"name\":\"values\",\"type\":{\"type\":\"array\",\"elementType\":\"double\",\"containsNull\":false},\"nullable\":true,\"metadata\":{}}]}}"
        }
       ],
       "type": "table"
      }
     },
     "output_type": "display_data"
    },
    {
     "output_type": "execute_result",
     "data": {
      "text/plain": [
       "<Axes: xlabel='pca_x', ylabel='pca_y'>"
      ]
     },
     "execution_count": 35,
     "metadata": {},
     "output_type": "execute_result"
    },
    {
     "output_type": "display_data",
     "data": {
      "image/png": "[encoded data removed]",
      "text/plain": [
       "<Figure size 640x480 with 1 Axes>"
      ]
     },
     "metadata": {},
     "output_type": "display_data"
    }
   ],
   "source": [
    "from pyspark.ml.feature import PCA\n",
    "from pyspark.ml.functions import vector_to_array\n",
    "import matplotlib.pyplot as plt\n",
    "\n",
    "# Apply PCA with k=2 to reduce the feature vector to two dimensions\n",
    "pca = PCA(k=2, inputCol=\"features\", outputCol=\"pca_features\")\n",
    "pca_model = pca.fit(prepared_demo_df)\n",
    "pca_demo_df = pca_model.transform(prepared_demo_df)\n",
    "\n",
    "print(f\"Displaying all the df\")\n",
    "display(pca_demo_df.limit(7))\n",
    "print(f\"Displaying relevant colums only\")\n",
    "display(pca_demo_df.select(\"household_id\", \"features\", \"pca_features\").limit(7))\n",
    "\n",
    "# Convert the PCA output vector to an array to easily extract each component\n",
    "pca_array_df = pca_demo_df.withColumn(\"pca_array\", vector_to_array(\"pca_features\"))\n",
    "\n",
    "# Create separate columns for the first and second principal components\n",
    "pca_plot_df = pca_array_df \\\n",
    "    .withColumn(\"pca_x\", col(\"pca_array\")[0]) \\\n",
    "    .withColumn(\"pca_y\", col(\"pca_array\")[1])\n",
    "\n",
    "\n",
    "# Convert to Pandas DataFrame and create a scatter plot with pink points\n",
    "pca_plot_df.toPandas().plot.scatter(x='pca_x', y='pca_y', color='pink')\n"
   ]
  },
  {
   "cell_type": "markdown",
   "metadata": {
    "application/vnd.databricks.v1+cell": {
     "cellMetadata": {
      "byteLimit": 2048000,
      "rowLimit": 10000
     },
     "inputWidgets": {},
     "nuid": "7815ce78-184b-4ea6-a3a4-094a551d9ba5",
     "showTitle": false,
     "tableResultSettingsMap": {},
     "title": ""
    }
   },
   "source": [
    "### Clustering"
   ]
  },
  {
   "cell_type": "markdown",
   "metadata": {
    "application/vnd.databricks.v1+cell": {
     "cellMetadata": {
      "byteLimit": 2048000,
      "rowLimit": 10000
     },
     "inputWidgets": {},
     "nuid": "a8d2f8e5-ccd7-4c35-b91c-87355267970b",
     "showTitle": false,
     "tableResultSettingsMap": {},
     "title": ""
    }
   },
   "source": [
    "**K-means clustering and distance to centroid**\n",
    "\n",
    "In this part, the `KMeans` algorithm is applied to the final `features` vector with `k = 3` clusters and a fixed random seed for reproducibility.  \n",
    "Each row is assigned to a cluster, stored in the `cluster` column.\n",
    "\n",
    "Then, the cluster centers are retrieved and a custom `UDF` computes the Euclidean distance from each point to its assigned cluster centroid.  \n",
    "The distance is calculated by summing the squared differences for each dimension and taking the square root.\n",
    "\n",
    "A new column `distance_to_centroid` is added to the DataFrame to store this value for each row."
   ]
  },
  {
   "cell_type": "code",
   "execution_count": 0,
   "metadata": {
    "application/vnd.databricks.v1+cell": {
     "cellMetadata": {
      "byteLimit": 2048000,
      "rowLimit": 10000
     },
     "inputWidgets": {},
     "nuid": "eb846ae9-9f02-4b22-8777-76c14bf28046",
     "showTitle": false,
     "tableResultSettingsMap": {},
     "title": ""
    }
   },
   "outputs": [
    {
     "output_type": "stream",
     "name": "stdout",
     "output_type": "stream",
     "text": [
      "Displaying all the df\n"
     ]
    },
    {
     "output_type": "display_data",
     "data": {
      "text/html": [
       "<style scoped>\n",
       "  .table-result-container {\n",
       "    max-height: 300px;\n",
       "    overflow: auto;\n",
       "  }\n",
       "  table, th, td {\n",
       "    border: 1px solid black;\n",
       "    border-collapse: collapse;\n",
       "  }\n",
       "  th, td {\n",
       "    padding: 5px;\n",
       "  }\n",
       "  th {\n",
       "    text-align: left;\n",
       "  }\n",
       "</style><div class='table-result-container'><table class='table-result'><thead style='background-color: white'><tr><th>household_id</th><th>household_size</th><th>num_adults</th><th>num_generations</th><th>marital_status</th><th>race_code</th><th>dwelling_type</th><th>home_owner_status</th><th>length_residence</th><th>home_market_value</th><th>net_worth</th><th>gender_individual</th><th>education_highest</th><th>household_size_scaled</th><th>num_adults_scaled</th><th>num_generations_scaled</th><th>length_residence_scaled</th><th>home_market_value_scaled</th><th>net_worth_scaled</th><th>marital_status_index</th><th>race_code_index</th><th>dwelling_type_index</th><th>home_owner_status_index</th><th>gender_individual_index</th><th>education_highest_index</th><th>marital_status_ohe</th><th>race_code_ohe</th><th>dwelling_type_ohe</th><th>home_owner_status_ohe</th><th>gender_individual_ohe</th><th>education_highest_ohe</th><th>features</th><th>cluster</th><th>distance_to_centroid</th></tr></thead><tbody><tr><td>85</td><td>2</td><td>1</td><td>2</td><td>B</td><td>W</td><td>S</td><td>O</td><td>15</td><td>0.125</td><td>0.05</td><td>F</td><td>1</td><td>0.125</td><td>0.0</td><td>0.5</td><td>1.0</td><td>0.12412412412412413</td><td>0.05</td><td>3.0</td><td>0.0</td><td>0.0</td><td>0.0</td><td>1.0</td><td>0.0</td><td>Map(vectorType -> sparse, length -> 3, indices -> List(), values -> List())</td><td>Map(vectorType -> sparse, length -> 3, indices -> List(0), values -> List(1.0))</td><td>Map(vectorType -> sparse, length -> 1, indices -> List(0), values -> List(1.0))</td><td>Map(vectorType -> sparse, length -> 1, indices -> List(0), values -> List(1.0))</td><td>Map(vectorType -> sparse, length -> 1, indices -> List(), values -> List())</td><td>Map(vectorType -> sparse, length -> 3, indices -> List(0), values -> List(1.0))</td><td>Map(vectorType -> sparse, length -> 18, indices -> List(0, 2, 3, 4, 5, 9, 12, 13, 15), values -> List(0.125, 0.5, 1.0, 0.12412412412412413, 0.05, 1.0, 1.0, 1.0, 1.0))</td><td>1</td><td>0.95686495</td></tr><tr><td>2073</td><td>1</td><td>1</td><td>2</td><td>M</td><td>H</td><td>S</td><td>O</td><td>15</td><td>0.15</td><td>0.1</td><td>F</td><td>1</td><td>0.0</td><td>0.0</td><td>0.5</td><td>1.0</td><td>0.14914914914914915</td><td>0.1</td><td>0.0</td><td>2.0</td><td>0.0</td><td>0.0</td><td>1.0</td><td>0.0</td><td>Map(vectorType -> sparse, length -> 3, indices -> List(0), values -> List(1.0))</td><td>Map(vectorType -> sparse, length -> 3, indices -> List(2), values -> List(1.0))</td><td>Map(vectorType -> sparse, length -> 1, indices -> List(0), values -> List(1.0))</td><td>Map(vectorType -> sparse, length -> 1, indices -> List(0), values -> List(1.0))</td><td>Map(vectorType -> sparse, length -> 1, indices -> List(), values -> List())</td><td>Map(vectorType -> sparse, length -> 3, indices -> List(0), values -> List(1.0))</td><td>Map(vectorType -> sparse, length -> 18, indices -> List(2, 3, 4, 5, 6, 11, 12, 13, 15), values -> List(0.5, 1.0, 0.14914914914914915, 0.1, 1.0, 1.0, 1.0, 1.0, 1.0))</td><td>2</td><td>0.8481486</td></tr><tr><td>2523</td><td>7</td><td>6</td><td>3</td><td>M</td><td>W</td><td>S</td><td>O</td><td>15</td><td>0.1</td><td>0.1</td><td>M</td><td>2</td><td>0.75</td><td>1.0</td><td>1.0</td><td>1.0</td><td>0.0990990990990991</td><td>0.1</td><td>0.0</td><td>0.0</td><td>0.0</td><td>0.0</td><td>0.0</td><td>1.0</td><td>Map(vectorType -> sparse, length -> 3, indices -> List(0), values -> List(1.0))</td><td>Map(vectorType -> sparse, length -> 3, indices -> List(0), values -> List(1.0))</td><td>Map(vectorType -> sparse, length -> 1, indices -> List(0), values -> List(1.0))</td><td>Map(vectorType -> sparse, length -> 1, indices -> List(0), values -> List(1.0))</td><td>Map(vectorType -> sparse, length -> 1, indices -> List(0), values -> List(1.0))</td><td>Map(vectorType -> sparse, length -> 3, indices -> List(1), values -> List(1.0))</td><td>Map(vectorType -> dense, length -> 18, values -> List(0.75, 1.0, 1.0, 1.0, 0.0990990990990991, 0.1, 1.0, 0.0, 0.0, 1.0, 0.0, 0.0, 1.0, 1.0, 1.0, 0.0, 1.0, 0.0))</td><td>0</td><td>1.329641</td></tr><tr><td>2717</td><td>3</td><td>2</td><td>2</td><td>S</td><td>W</td><td>S</td><td>O</td><td>11</td><td>0.125</td><td>0.2</td><td>M</td><td>3</td><td>0.25</td><td>0.2</td><td>0.5</td><td>0.7333333333333333</td><td>0.12412412412412413</td><td>0.2</td><td>1.0</td><td>0.0</td><td>0.0</td><td>0.0</td><td>0.0</td><td>2.0</td><td>Map(vectorType -> sparse, length -> 3, indices -> List(1), values -> List(1.0))</td><td>Map(vectorType -> sparse, length -> 3, indices -> List(0), values -> List(1.0))</td><td>Map(vectorType -> sparse, length -> 1, indices -> List(0), values -> List(1.0))</td><td>Map(vectorType -> sparse, length -> 1, indices -> List(0), values -> List(1.0))</td><td>Map(vectorType -> sparse, length -> 1, indices -> List(0), values -> List(1.0))</td><td>Map(vectorType -> sparse, length -> 3, indices -> List(2), values -> List(1.0))</td><td>Map(vectorType -> dense, length -> 18, values -> List(0.25, 0.2, 0.5, 0.7333333333333333, 0.12412412412412413, 0.2, 0.0, 1.0, 0.0, 1.0, 0.0, 0.0, 1.0, 1.0, 1.0, 0.0, 0.0, 1.0))</td><td>1</td><td>1.4315091</td></tr><tr><td>3364</td><td>2</td><td>2</td><td>2</td><td>M</td><td>W</td><td>S</td><td>O</td><td>15</td><td>0.1</td><td>0.1</td><td>M</td><td>1</td><td>0.125</td><td>0.2</td><td>0.5</td><td>1.0</td><td>0.0990990990990991</td><td>0.1</td><td>0.0</td><td>0.0</td><td>0.0</td><td>0.0</td><td>0.0</td><td>0.0</td><td>Map(vectorType -> sparse, length -> 3, indices -> List(0), values -> List(1.0))</td><td>Map(vectorType -> sparse, length -> 3, indices -> List(0), values -> List(1.0))</td><td>Map(vectorType -> sparse, length -> 1, indices -> List(0), values -> List(1.0))</td><td>Map(vectorType -> sparse, length -> 1, indices -> List(0), values -> List(1.0))</td><td>Map(vectorType -> sparse, length -> 1, indices -> List(0), values -> List(1.0))</td><td>Map(vectorType -> sparse, length -> 3, indices -> List(0), values -> List(1.0))</td><td>Map(vectorType -> dense, length -> 18, values -> List(0.125, 0.2, 0.5, 1.0, 0.0990990990990991, 0.1, 1.0, 0.0, 0.0, 1.0, 0.0, 0.0, 1.0, 1.0, 1.0, 1.0, 0.0, 0.0))</td><td>5</td><td>0.5861586</td></tr><tr><td>4046</td><td>4</td><td>3</td><td>3</td><td>M</td><td>W</td><td>S</td><td>O</td><td>6</td><td>0.075</td><td>0.05</td><td>F</td><td>1</td><td>0.375</td><td>0.4</td><td>1.0</td><td>0.4</td><td>0.07407407407407407</td><td>0.05</td><td>0.0</td><td>0.0</td><td>0.0</td><td>0.0</td><td>1.0</td><td>0.0</td><td>Map(vectorType -> sparse, length -> 3, indices -> List(0), values -> List(1.0))</td><td>Map(vectorType -> sparse, length -> 3, indices -> List(0), values -> List(1.0))</td><td>Map(vectorType -> sparse, length -> 1, indices -> List(0), values -> List(1.0))</td><td>Map(vectorType -> sparse, length -> 1, indices -> List(0), values -> List(1.0))</td><td>Map(vectorType -> sparse, length -> 1, indices -> List(), values -> List())</td><td>Map(vectorType -> sparse, length -> 3, indices -> List(0), values -> List(1.0))</td><td>Map(vectorType -> dense, length -> 18, values -> List(0.375, 0.4, 1.0, 0.4, 0.07407407407407407, 0.05, 1.0, 0.0, 0.0, 1.0, 0.0, 0.0, 1.0, 1.0, 0.0, 1.0, 0.0, 0.0))</td><td>5</td><td>0.9358106</td></tr><tr><td>4303</td><td>1</td><td>1</td><td>1</td><td>S</td><td>W</td><td>S</td><td>O</td><td>15</td><td>0.15</td><td>0.2</td><td>M</td><td>1</td><td>0.0</td><td>0.0</td><td>0.0</td><td>1.0</td><td>0.14914914914914915</td><td>0.2</td><td>1.0</td><td>0.0</td><td>0.0</td><td>0.0</td><td>0.0</td><td>0.0</td><td>Map(vectorType -> sparse, length -> 3, indices -> List(1), values -> List(1.0))</td><td>Map(vectorType -> sparse, length -> 3, indices -> List(0), values -> List(1.0))</td><td>Map(vectorType -> sparse, length -> 1, indices -> List(0), values -> List(1.0))</td><td>Map(vectorType -> sparse, length -> 1, indices -> List(0), values -> List(1.0))</td><td>Map(vectorType -> sparse, length -> 1, indices -> List(0), values -> List(1.0))</td><td>Map(vectorType -> sparse, length -> 3, indices -> List(0), values -> List(1.0))</td><td>Map(vectorType -> sparse, length -> 18, indices -> List(3, 4, 5, 7, 9, 12, 13, 14, 15), values -> List(1.0, 0.14914914914914915, 0.2, 1.0, 1.0, 1.0, 1.0, 1.0, 1.0))</td><td>1</td><td>0.9705721</td></tr></tbody></table></div>"
      ]
     },
     "metadata": {
      "application/vnd.databricks.v1+output": {
       "addedWidgets": {},
       "aggData": [],
       "aggError": "",
       "aggOverflow": false,
       "aggSchema": [],
       "aggSeriesLimitReached": false,
       "aggType": "",
       "arguments": {},
       "columnCustomDisplayInfos": {},
       "data": [
        [
         85,
         2,
         1,
         2,
         "B",
         "W",
         "S",
         "O",
         15,
         0.125,
         0.05,
         "F",
         "1",
         0.125,
         0.0,
         0.5,
         1.0,
         0.12412412412412413,
         0.05,
         3.0,
         0.0,
         0.0,
         0.0,
         1.0,
         0.0,
         {
          "indices": [],
          "length": 3,
          "values": [],
          "vectorType": "sparse"
         },
         {
          "indices": [
           0
          ],
          "length": 3,
          "values": [
           1.0
          ],
          "vectorType": "sparse"
         },
         {
          "indices": [
           0
          ],
          "length": 1,
          "values": [
           1.0
          ],
          "vectorType": "sparse"
         },
         {
          "indices": [
           0
          ],
          "length": 1,
          "values": [
           1.0
          ],
          "vectorType": "sparse"
         },
         {
          "indices": [],
          "length": 1,
          "values": [],
          "vectorType": "sparse"
         },
         {
          "indices": [
           0
          ],
          "length": 3,
          "values": [
           1.0
          ],
          "vectorType": "sparse"
         },
         {
          "indices": [
           0,
           2,
           3,
           4,
           5,
           9,
           12,
           13,
           15
          ],
          "length": 18,
          "values": [
           0.125,
           0.5,
           1.0,
           0.12412412412412413,
           0.05,
           1.0,
           1.0,
           1.0,
           1.0
          ],
          "vectorType": "sparse"
         },
         1,
         0.95686495
        ],
        [
         2073,
         1,
         1,
         2,
         "M",
         "H",
         "S",
         "O",
         15,
         0.15,
         0.1,
         "F",
         "1",
         0.0,
         0.0,
         0.5,
         1.0,
         0.14914914914914915,
         0.1,
         0.0,
         2.0,
         0.0,
         0.0,
         1.0,
         0.0,
         {
          "indices": [
           0
          ],
          "length": 3,
          "values": [
           1.0
          ],
          "vectorType": "sparse"
         },
         {
          "indices": [
           2
          ],
          "length": 3,
          "values": [
           1.0
          ],
          "vectorType": "sparse"
         },
         {
          "indices": [
           0
          ],
          "length": 1,
          "values": [
           1.0
          ],
          "vectorType": "sparse"
         },
         {
          "indices": [
           0
          ],
          "length": 1,
          "values": [
           1.0
          ],
          "vectorType": "sparse"
         },
         {
          "indices": [],
          "length": 1,
          "values": [],
          "vectorType": "sparse"
         },
         {
          "indices": [
           0
          ],
          "length": 3,
          "values": [
           1.0
          ],
          "vectorType": "sparse"
         },
         {
          "indices": [
           2,
           3,
           4,
           5,
           6,
           11,
           12,
           13,
           15
          ],
          "length": 18,
          "values": [
           0.5,
           1.0,
           0.14914914914914915,
           0.1,
           1.0,
           1.0,
           1.0,
           1.0,
           1.0
          ],
          "vectorType": "sparse"
         },
         2,
         0.8481486
        ],
        [
         2523,
         7,
         6,
         3,
         "M",
         "W",
         "S",
         "O",
         15,
         0.1,
         0.1,
         "M",
         "2",
         0.75,
         1.0,
         1.0,
         1.0,
         0.0990990990990991,
         0.1,
         0.0,
         0.0,
         0.0,
         0.0,
         0.0,
         1.0,
         {
          "indices": [
           0
          ],
          "length": 3,
          "values": [
           1.0
          ],
          "vectorType": "sparse"
         },
         {
          "indices": [
           0
          ],
          "length": 3,
          "values": [
           1.0
          ],
          "vectorType": "sparse"
         },
         {
          "indices": [
           0
          ],
          "length": 1,
          "values": [
           1.0
          ],
          "vectorType": "sparse"
         },
         {
          "indices": [
           0
          ],
          "length": 1,
          "values": [
           1.0
          ],
          "vectorType": "sparse"
         },
         {
          "indices": [
           0
          ],
          "length": 1,
          "values": [
           1.0
          ],
          "vectorType": "sparse"
         },
         {
          "indices": [
           1
          ],
          "length": 3,
          "values": [
           1.0
          ],
          "vectorType": "sparse"
         },
         {
          "length": 18,
          "values": [
           0.75,
           1.0,
           1.0,
           1.0,
           0.0990990990990991,
           0.1,
           1.0,
           0.0,
           0.0,
           1.0,
           0.0,
           0.0,
           1.0,
           1.0,
           1.0,
           0.0,
           1.0,
           0.0
          ],
          "vectorType": "dense"
         },
         0,
         1.329641
        ],
        [
         2717,
         3,
         2,
         2,
         "S",
         "W",
         "S",
         "O",
         11,
         0.125,
         0.2,
         "M",
         "3",
         0.25,
         0.2,
         0.5,
         0.7333333333333333,
         0.12412412412412413,
         0.2,
         1.0,
         0.0,
         0.0,
         0.0,
         0.0,
         2.0,
         {
          "indices": [
           1
          ],
          "length": 3,
          "values": [
           1.0
          ],
          "vectorType": "sparse"
         },
         {
          "indices": [
           0
          ],
          "length": 3,
          "values": [
           1.0
          ],
          "vectorType": "sparse"
         },
         {
          "indices": [
           0
          ],
          "length": 1,
          "values": [
           1.0
          ],
          "vectorType": "sparse"
         },
         {
          "indices": [
           0
          ],
          "length": 1,
          "values": [
           1.0
          ],
          "vectorType": "sparse"
         },
         {
          "indices": [
           0
          ],
          "length": 1,
          "values": [
           1.0
          ],
          "vectorType": "sparse"
         },
         {
          "indices": [
           2
          ],
          "length": 3,
          "values": [
           1.0
          ],
          "vectorType": "sparse"
         },
         {
          "length": 18,
          "values": [
           0.25,
           0.2,
           0.5,
           0.7333333333333333,
           0.12412412412412413,
           0.2,
           0.0,
           1.0,
           0.0,
           1.0,
           0.0,
           0.0,
           1.0,
           1.0,
           1.0,
           0.0,
           0.0,
           1.0
          ],
          "vectorType": "dense"
         },
         1,
         1.4315091
        ],
        [
         3364,
         2,
         2,
         2,
         "M",
         "W",
         "S",
         "O",
         15,
         0.1,
         0.1,
         "M",
         "1",
         0.125,
         0.2,
         0.5,
         1.0,
         0.0990990990990991,
         0.1,
         0.0,
         0.0,
         0.0,
         0.0,
         0.0,
         0.0,
         {
          "indices": [
           0
          ],
          "length": 3,
          "values": [
           1.0
          ],
          "vectorType": "sparse"
         },
         {
          "indices": [
           0
          ],
          "length": 3,
          "values": [
           1.0
          ],
          "vectorType": "sparse"
         },
         {
          "indices": [
           0
          ],
          "length": 1,
          "values": [
           1.0
          ],
          "vectorType": "sparse"
         },
         {
          "indices": [
           0
          ],
          "length": 1,
          "values": [
           1.0
          ],
          "vectorType": "sparse"
         },
         {
          "indices": [
           0
          ],
          "length": 1,
          "values": [
           1.0
          ],
          "vectorType": "sparse"
         },
         {
          "indices": [
           0
          ],
          "length": 3,
          "values": [
           1.0
          ],
          "vectorType": "sparse"
         },
         {
          "length": 18,
          "values": [
           0.125,
           0.2,
           0.5,
           1.0,
           0.0990990990990991,
           0.1,
           1.0,
           0.0,
           0.0,
           1.0,
           0.0,
           0.0,
           1.0,
           1.0,
           1.0,
           1.0,
           0.0,
           0.0
          ],
          "vectorType": "dense"
         },
         5,
         0.5861586
        ],
        [
         4046,
         4,
         3,
         3,
         "M",
         "W",
         "S",
         "O",
         6,
         0.075,
         0.05,
         "F",
         "1",
         0.375,
         0.4,
         1.0,
         0.4,
         0.07407407407407407,
         0.05,
         0.0,
         0.0,
         0.0,
         0.0,
         1.0,
         0.0,
         {
          "indices": [
           0
          ],
          "length": 3,
          "values": [
           1.0
          ],
          "vectorType": "sparse"
         },
         {
          "indices": [
           0
          ],
          "length": 3,
          "values": [
           1.0
          ],
          "vectorType": "sparse"
         },
         {
          "indices": [
           0
          ],
          "length": 1,
          "values": [
           1.0
          ],
          "vectorType": "sparse"
         },
         {
          "indices": [
           0
          ],
          "length": 1,
          "values": [
           1.0
          ],
          "vectorType": "sparse"
         },
         {
          "indices": [],
          "length": 1,
          "values": [],
          "vectorType": "sparse"
         },
         {
          "indices": [
           0
          ],
          "length": 3,
          "values": [
           1.0
          ],
          "vectorType": "sparse"
         },
         {
          "length": 18,
          "values": [
           0.375,
           0.4,
           1.0,
           0.4,
           0.07407407407407407,
           0.05,
           1.0,
           0.0,
           0.0,
           1.0,
           0.0,
           0.0,
           1.0,
           1.0,
           0.0,
           1.0,
           0.0,
           0.0
          ],
          "vectorType": "dense"
         },
         5,
         0.9358106
        ],
        [
         4303,
         1,
         1,
         1,
         "S",
         "W",
         "S",
         "O",
         15,
         0.15,
         0.2,
         "M",
         "1",
         0.0,
         0.0,
         0.0,
         1.0,
         0.14914914914914915,
         0.2,
         1.0,
         0.0,
         0.0,
         0.0,
         0.0,
         0.0,
         {
          "indices": [
           1
          ],
          "length": 3,
          "values": [
           1.0
          ],
          "vectorType": "sparse"
         },
         {
          "indices": [
           0
          ],
          "length": 3,
          "values": [
           1.0
          ],
          "vectorType": "sparse"
         },
         {
          "indices": [
           0
          ],
          "length": 1,
          "values": [
           1.0
          ],
          "vectorType": "sparse"
         },
         {
          "indices": [
           0
          ],
          "length": 1,
          "values": [
           1.0
          ],
          "vectorType": "sparse"
         },
         {
          "indices": [
           0
          ],
          "length": 1,
          "values": [
           1.0
          ],
          "vectorType": "sparse"
         },
         {
          "indices": [
           0
          ],
          "length": 3,
          "values": [
           1.0
          ],
          "vectorType": "sparse"
         },
         {
          "indices": [
           3,
           4,
           5,
           7,
           9,
           12,
           13,
           14,
           15
          ],
          "length": 18,
          "values": [
           1.0,
           0.14914914914914915,
           0.2,
           1.0,
           1.0,
           1.0,
           1.0,
           1.0,
           1.0
          ],
          "vectorType": "sparse"
         },
         1,
         0.9705721
        ]
       ],
       "datasetInfos": [],
       "dbfsResultPath": null,
       "isJsonSchema": true,
       "metadata": {},
       "overflow": false,
       "plotOptions": {
        "customPlotOptions": {},
        "displayType": "table",
        "pivotAggregation": null,
        "pivotColumns": null,
        "xColumns": null,
        "yColumns": null
       },
       "removedWidgets": [],
       "schema": [
        {
         "metadata": "{}",
         "name": "household_id",
         "type": "\"long\""
        },
        {
         "metadata": "{}",
         "name": "household_size",
         "type": "\"integer\""
        },
        {
         "metadata": "{}",
         "name": "num_adults",
         "type": "\"integer\""
        },
        {
         "metadata": "{}",
         "name": "num_generations",
         "type": "\"integer\""
        },
        {
         "metadata": "{}",
         "name": "marital_status",
         "type": "\"string\""
        },
        {
         "metadata": "{}",
         "name": "race_code",
         "type": "\"string\""
        },
        {
         "metadata": "{}",
         "name": "dwelling_type",
         "type": "\"string\""
        },
        {
         "metadata": "{}",
         "name": "home_owner_status",
         "type": "\"string\""
        },
        {
         "metadata": "{}",
         "name": "length_residence",
         "type": "\"integer\""
        },
        {
         "metadata": "{}",
         "name": "home_market_value",
         "type": "\"double\""
        },
        {
         "metadata": "{}",
         "name": "net_worth",
         "type": "\"double\""
        },
        {
         "metadata": "{}",
         "name": "gender_individual",
         "type": "\"string\""
        },
        {
         "metadata": "{}",
         "name": "education_highest",
         "type": "\"string\""
        },
        {
         "metadata": "{}",
         "name": "household_size_scaled",
         "type": "\"double\""
        },
        {
         "metadata": "{}",
         "name": "num_adults_scaled",
         "type": "\"double\""
        },
        {
         "metadata": "{}",
         "name": "num_generations_scaled",
         "type": "\"double\""
        },
        {
         "metadata": "{}",
         "name": "length_residence_scaled",
         "type": "\"double\""
        },
        {
         "metadata": "{}",
         "name": "home_market_value_scaled",
         "type": "\"double\""
        },
        {
         "metadata": "{}",
         "name": "net_worth_scaled",
         "type": "\"double\""
        },
        {
         "metadata": "{\"ml_attr\":{\"vals\":[\"M\",\"S\",\"A\",\"B\"],\"name\":\"marital_status_index\",\"type\":\"nominal\"}}",
         "name": "marital_status_index",
         "type": "\"double\""
        },
        {
         "metadata": "{\"ml_attr\":{\"vals\":[\"W\",\"B\",\"H\",\"A\"],\"name\":\"race_code_index\",\"type\":\"nominal\"}}",
         "name": "race_code_index",
         "type": "\"double\""
        },
        {
         "metadata": "{\"ml_attr\":{\"vals\":[\"S\",\"M\"],\"name\":\"dwelling_type_index\",\"type\":\"nominal\"}}",
         "name": "dwelling_type_index",
         "type": "\"double\""
        },
        {
         "metadata": "{\"ml_attr\":{\"vals\":[\"O\",\"R\"],\"name\":\"home_owner_status_index\",\"type\":\"nominal\"}}",
         "name": "home_owner_status_index",
         "type": "\"double\""
        },
        {
         "metadata": "{\"ml_attr\":{\"vals\":[\"M\",\"F\"],\"name\":\"gender_individual_index\",\"type\":\"nominal\"}}",
         "name": "gender_individual_index",
         "type": "\"double\""
        },
        {
         "metadata": "{\"ml_attr\":{\"vals\":[\"1\",\"2\",\"3\",\"4\"],\"name\":\"education_highest_index\",\"type\":\"nominal\"}}",
         "name": "education_highest_index",
         "type": "\"double\""
        },
        {
         "metadata": "{\"ml_attr\":{\"num_attrs\":3,\"attrs\":{\"binary\":[{\"name\":\"M\",\"idx\":0},{\"name\":\"S\",\"idx\":1},{\"name\":\"A\",\"idx\":2}]}}}",
         "name": "marital_status_ohe",
         "type": "{\"type\":\"udt\",\"class\":\"org.apache.spark.ml.linalg.VectorUDT\",\"pyClass\":\"pyspark.ml.linalg.VectorUDT\",\"sqlType\":{\"type\":\"struct\",\"fields\":[{\"name\":\"type\",\"type\":\"byte\",\"nullable\":false,\"metadata\":{}},{\"name\":\"size\",\"type\":\"integer\",\"nullable\":true,\"metadata\":{}},{\"name\":\"indices\",\"type\":{\"type\":\"array\",\"elementType\":\"integer\",\"containsNull\":false},\"nullable\":true,\"metadata\":{}},{\"name\":\"values\",\"type\":{\"type\":\"array\",\"elementType\":\"double\",\"containsNull\":false},\"nullable\":true,\"metadata\":{}}]}}"
        },
        {
         "metadata": "{\"ml_attr\":{\"num_attrs\":3,\"attrs\":{\"binary\":[{\"name\":\"W\",\"idx\":0},{\"name\":\"B\",\"idx\":1},{\"name\":\"H\",\"idx\":2}]}}}",
         "name": "race_code_ohe",
         "type": "{\"type\":\"udt\",\"class\":\"org.apache.spark.ml.linalg.VectorUDT\",\"pyClass\":\"pyspark.ml.linalg.VectorUDT\",\"sqlType\":{\"type\":\"struct\",\"fields\":[{\"name\":\"type\",\"type\":\"byte\",\"nullable\":false,\"metadata\":{}},{\"name\":\"size\",\"type\":\"integer\",\"nullable\":true,\"metadata\":{}},{\"name\":\"indices\",\"type\":{\"type\":\"array\",\"elementType\":\"integer\",\"containsNull\":false},\"nullable\":true,\"metadata\":{}},{\"name\":\"values\",\"type\":{\"type\":\"array\",\"elementType\":\"double\",\"containsNull\":false},\"nullable\":true,\"metadata\":{}}]}}"
        },
        {
         "metadata": "{\"ml_attr\":{\"num_attrs\":1,\"attrs\":{\"binary\":[{\"name\":\"S\",\"idx\":0}]}}}",
         "name": "dwelling_type_ohe",
         "type": "{\"type\":\"udt\",\"class\":\"org.apache.spark.ml.linalg.VectorUDT\",\"pyClass\":\"pyspark.ml.linalg.VectorUDT\",\"sqlType\":{\"type\":\"struct\",\"fields\":[{\"name\":\"type\",\"type\":\"byte\",\"nullable\":false,\"metadata\":{}},{\"name\":\"size\",\"type\":\"integer\",\"nullable\":true,\"metadata\":{}},{\"name\":\"indices\",\"type\":{\"type\":\"array\",\"elementType\":\"integer\",\"containsNull\":false},\"nullable\":true,\"metadata\":{}},{\"name\":\"values\",\"type\":{\"type\":\"array\",\"elementType\":\"double\",\"containsNull\":false},\"nullable\":true,\"metadata\":{}}]}}"
        },
        {
         "metadata": "{\"ml_attr\":{\"num_attrs\":1,\"attrs\":{\"binary\":[{\"name\":\"O\",\"idx\":0}]}}}",
         "name": "home_owner_status_ohe",
         "type": "{\"type\":\"udt\",\"class\":\"org.apache.spark.ml.linalg.VectorUDT\",\"pyClass\":\"pyspark.ml.linalg.VectorUDT\",\"sqlType\":{\"type\":\"struct\",\"fields\":[{\"name\":\"type\",\"type\":\"byte\",\"nullable\":false,\"metadata\":{}},{\"name\":\"size\",\"type\":\"integer\",\"nullable\":true,\"metadata\":{}},{\"name\":\"indices\",\"type\":{\"type\":\"array\",\"elementType\":\"integer\",\"containsNull\":false},\"nullable\":true,\"metadata\":{}},{\"name\":\"values\",\"type\":{\"type\":\"array\",\"elementType\":\"double\",\"containsNull\":false},\"nullable\":true,\"metadata\":{}}]}}"
        },
        {
         "metadata": "{\"ml_attr\":{\"num_attrs\":1,\"attrs\":{\"binary\":[{\"name\":\"M\",\"idx\":0}]}}}",
         "name": "gender_individual_ohe",
         "type": "{\"type\":\"udt\",\"class\":\"org.apache.spark.ml.linalg.VectorUDT\",\"pyClass\":\"pyspark.ml.linalg.VectorUDT\",\"sqlType\":{\"type\":\"struct\",\"fields\":[{\"name\":\"type\",\"type\":\"byte\",\"nullable\":false,\"metadata\":{}},{\"name\":\"size\",\"type\":\"integer\",\"nullable\":true,\"metadata\":{}},{\"name\":\"indices\",\"type\":{\"type\":\"array\",\"elementType\":\"integer\",\"containsNull\":false},\"nullable\":true,\"metadata\":{}},{\"name\":\"values\",\"type\":{\"type\":\"array\",\"elementType\":\"double\",\"containsNull\":false},\"nullable\":true,\"metadata\":{}}]}}"
        },
        {
         "metadata": "{\"ml_attr\":{\"num_attrs\":3,\"attrs\":{\"binary\":[{\"name\":\"1\",\"idx\":0},{\"name\":\"2\",\"idx\":1},{\"name\":\"3\",\"idx\":2}]}}}",
         "name": "education_highest_ohe",
         "type": "{\"type\":\"udt\",\"class\":\"org.apache.spark.ml.linalg.VectorUDT\",\"pyClass\":\"pyspark.ml.linalg.VectorUDT\",\"sqlType\":{\"type\":\"struct\",\"fields\":[{\"name\":\"type\",\"type\":\"byte\",\"nullable\":false,\"metadata\":{}},{\"name\":\"size\",\"type\":\"integer\",\"nullable\":true,\"metadata\":{}},{\"name\":\"indices\",\"type\":{\"type\":\"array\",\"elementType\":\"integer\",\"containsNull\":false},\"nullable\":true,\"metadata\":{}},{\"name\":\"values\",\"type\":{\"type\":\"array\",\"elementType\":\"double\",\"containsNull\":false},\"nullable\":true,\"metadata\":{}}]}}"
        },
        {
         "metadata": "{\"ml_attr\":{\"num_attrs\":18,\"attrs\":{\"binary\":[{\"name\":\"marital_status_ohe_M\",\"idx\":6},{\"name\":\"marital_status_ohe_S\",\"idx\":7},{\"name\":\"marital_status_ohe_A\",\"idx\":8},{\"name\":\"race_code_ohe_W\",\"idx\":9},{\"name\":\"race_code_ohe_B\",\"idx\":10},{\"name\":\"race_code_ohe_H\",\"idx\":11},{\"name\":\"dwelling_type_ohe_S\",\"idx\":12},{\"name\":\"home_owner_status_ohe_O\",\"idx\":13},{\"name\":\"gender_individual_ohe_M\",\"idx\":14},{\"name\":\"education_highest_ohe_1\",\"idx\":15},{\"name\":\"education_highest_ohe_2\",\"idx\":16},{\"name\":\"education_highest_ohe_3\",\"idx\":17}],\"numeric\":[{\"name\":\"household_size_scaled\",\"idx\":0},{\"name\":\"num_adults_scaled\",\"idx\":1},{\"name\":\"num_generations_scaled\",\"idx\":2},{\"name\":\"length_residence_scaled\",\"idx\":3},{\"name\":\"home_market_value_scaled\",\"idx\":4},{\"name\":\"net_worth_scaled\",\"idx\":5}]}}}",
         "name": "features",
         "type": "{\"type\":\"udt\",\"class\":\"org.apache.spark.ml.linalg.VectorUDT\",\"pyClass\":\"pyspark.ml.linalg.VectorUDT\",\"sqlType\":{\"type\":\"struct\",\"fields\":[{\"name\":\"type\",\"type\":\"byte\",\"nullable\":false,\"metadata\":{}},{\"name\":\"size\",\"type\":\"integer\",\"nullable\":true,\"metadata\":{}},{\"name\":\"indices\",\"type\":{\"type\":\"array\",\"elementType\":\"integer\",\"containsNull\":false},\"nullable\":true,\"metadata\":{}},{\"name\":\"values\",\"type\":{\"type\":\"array\",\"elementType\":\"double\",\"containsNull\":false},\"nullable\":true,\"metadata\":{}}]}}"
        },
        {
         "metadata": "{\"ml_attr\":{\"num_vals\":6,\"type\":\"nominal\"}}",
         "name": "cluster",
         "type": "\"integer\""
        },
        {
         "metadata": "{}",
         "name": "distance_to_centroid",
         "type": "\"float\""
        }
       ],
       "type": "table"
      }
     },
     "output_type": "display_data"
    },
    {
     "output_type": "stream",
     "name": "stdout",
     "output_type": "stream",
     "text": [
      "Displaying relevant colums only\n"
     ]
    },
    {
     "output_type": "display_data",
     "data": {
      "text/html": [
       "<style scoped>\n",
       "  .table-result-container {\n",
       "    max-height: 300px;\n",
       "    overflow: auto;\n",
       "  }\n",
       "  table, th, td {\n",
       "    border: 1px solid black;\n",
       "    border-collapse: collapse;\n",
       "  }\n",
       "  th, td {\n",
       "    padding: 5px;\n",
       "  }\n",
       "  th {\n",
       "    text-align: left;\n",
       "  }\n",
       "</style><div class='table-result-container'><table class='table-result'><thead style='background-color: white'><tr><th>household_id</th><th>cluster</th><th>distance_to_centroid</th></tr></thead><tbody><tr><td>85</td><td>1</td><td>0.95686495</td></tr><tr><td>2073</td><td>2</td><td>0.8481486</td></tr><tr><td>2523</td><td>0</td><td>1.329641</td></tr><tr><td>2717</td><td>1</td><td>1.4315091</td></tr><tr><td>3364</td><td>5</td><td>0.5861586</td></tr><tr><td>4046</td><td>5</td><td>0.9358106</td></tr><tr><td>4303</td><td>1</td><td>0.9705721</td></tr></tbody></table></div>"
      ]
     },
     "metadata": {
      "application/vnd.databricks.v1+output": {
       "addedWidgets": {},
       "aggData": [],
       "aggError": "",
       "aggOverflow": false,
       "aggSchema": [],
       "aggSeriesLimitReached": false,
       "aggType": "",
       "arguments": {},
       "columnCustomDisplayInfos": {},
       "data": [
        [
         85,
         1,
         0.95686495
        ],
        [
         2073,
         2,
         0.8481486
        ],
        [
         2523,
         0,
         1.329641
        ],
        [
         2717,
         1,
         1.4315091
        ],
        [
         3364,
         5,
         0.5861586
        ],
        [
         4046,
         5,
         0.9358106
        ],
        [
         4303,
         1,
         0.9705721
        ]
       ],
       "datasetInfos": [],
       "dbfsResultPath": null,
       "isJsonSchema": true,
       "metadata": {},
       "overflow": false,
       "plotOptions": {
        "customPlotOptions": {},
        "displayType": "table",
        "pivotAggregation": null,
        "pivotColumns": null,
        "xColumns": null,
        "yColumns": null
       },
       "removedWidgets": [],
       "schema": [
        {
         "metadata": "{}",
         "name": "household_id",
         "type": "\"long\""
        },
        {
         "metadata": "{\"ml_attr\":{\"num_vals\":6,\"type\":\"nominal\"}}",
         "name": "cluster",
         "type": "\"integer\""
        },
        {
         "metadata": "{}",
         "name": "distance_to_centroid",
         "type": "\"float\""
        }
       ],
       "type": "table"
      }
     },
     "output_type": "display_data"
    }
   ],
   "source": [
    "from pyspark.ml.clustering import KMeans\n",
    "from pyspark.sql.functions import udf\n",
    "from pyspark.sql.types import FloatType\n",
    "from pyspark.ml.linalg import Vectors\n",
    "import builtins\n",
    "\n",
    "\n",
    "# Apply K-means clustering with k = c = 6 \n",
    "kmeans = KMeans(featuresCol=\"features\", predictionCol=\"cluster\", k=6, seed=3)\n",
    "\n",
    "# Fit the K-means model on the prepared DataFrame\n",
    "kmeans_model = kmeans.fit(prepared_demo_df)\n",
    "\n",
    "# Transform to assign each row to a cluster\n",
    "clustered_df = kmeans_model.transform(prepared_demo_df)\n",
    "\n",
    "# Get cluster centers\n",
    "centers = kmeans_model.clusterCenters()\n",
    "\n",
    "# UDF to compute Euclidean distance to cluster center\n",
    "def compute_distance(features, cluster_id):\n",
    "    center = centers[cluster_id]\n",
    "    diff = [(a - b) ** 2 for a, b in zip(features, center)]\n",
    "    return float(builtins.sum(diff) ** 0.5)\n",
    "\n",
    "distance_udf = udf(compute_distance, FloatType())\n",
    "\n",
    "# Add a distance column\n",
    "clustered_df = clustered_df.withColumn(\n",
    "    \"distance_to_centroid\",\n",
    "    distance_udf(col(\"features\"), col(\"cluster\"))\n",
    ")\n",
    "\n",
    "\n",
    "print(f\"Displaying all the df\")\n",
    "display(clustered_df.limit(7))\n",
    "print(f\"Displaying relevant colums only\")\n",
    "display(clustered_df.select(\"household_id\", \"cluster\", \"distance_to_centroid\").limit(7))"
   ]
  },
  {
   "cell_type": "markdown",
   "metadata": {
    "application/vnd.databricks.v1+cell": {
     "cellMetadata": {
      "byteLimit": 2048000,
      "rowLimit": 10000
     },
     "inputWidgets": {},
     "nuid": "ee9d1af9-1ccf-4832-8706-eefe9703aea3",
     "showTitle": false,
     "tableResultSettingsMap": {},
     "title": ""
    }
   },
   "source": [
    "### Dividing households into subsets"
   ]
  },
  {
   "cell_type": "markdown",
   "metadata": {
    "application/vnd.databricks.v1+cell": {
     "cellMetadata": {
      "byteLimit": 2048000,
      "rowLimit": 10000
     },
     "inputWidgets": {},
     "nuid": "efd50213-c47d-482f-a927-0fce4287ccc8",
     "showTitle": false,
     "tableResultSettingsMap": {},
     "title": ""
    }
   },
   "source": [
    "In this part, households are partitioned by their clusters, and then ordered by their distance to the centroid of each cluster. Each household is assigned a row number within the cluster, with the closest households to the centroid ranked first.\n",
    "\n",
    "Next, the households are divided into 18 subsets:\n",
    "\n",
    "**3rds subset** – Every 3rd household in the cluster.\n",
    "\n",
    "**17ths subset** – Every 17th household in the cluster.\n",
    "\n",
    "**Full subset** – This includes all households in the cluster.\n",
    "\n",
    "These subsets will allow us to analyze how different groups of households behave with respect to their viewing habits, particularly in relation to their proximity to the cluster centroid."
   ]
  },
  {
   "cell_type": "code",
   "execution_count": 0,
   "metadata": {
    "application/vnd.databricks.v1+cell": {
     "cellMetadata": {
      "byteLimit": 2048000,
      "rowLimit": 10000
     },
     "inputWidgets": {},
     "nuid": "f9acccda-cc12-487c-b2e4-3cb4d1e32c2f",
     "showTitle": false,
     "tableResultSettingsMap": {},
     "title": ""
    }
   },
   "outputs": [
    {
     "output_type": "stream",
     "name": "stdout",
     "output_type": "stream",
     "text": [
      "Full subset for cluster 0\n"
     ]
    },
    {
     "output_type": "display_data",
     "data": {
      "text/html": [
       "<style scoped>\n",
       "  .table-result-container {\n",
       "    max-height: 300px;\n",
       "    overflow: auto;\n",
       "  }\n",
       "  table, th, td {\n",
       "    border: 1px solid black;\n",
       "    border-collapse: collapse;\n",
       "  }\n",
       "  th, td {\n",
       "    padding: 5px;\n",
       "  }\n",
       "  th {\n",
       "    text-align: left;\n",
       "  }\n",
       "</style><div class='table-result-container'><table class='table-result'><thead style='background-color: white'><tr><th>household_id</th><th>cluster</th><th>distance_to_centroid</th><th>row_num</th></tr></thead><tbody><tr><td>407843</td><td>0</td><td>0.70431626</td><td>1</td></tr><tr><td>3060593</td><td>0</td><td>0.70431626</td><td>2</td></tr><tr><td>3514686</td><td>0</td><td>0.70440924</td><td>3</td></tr><tr><td>2086992</td><td>0</td><td>0.70440924</td><td>4</td></tr><tr><td>4016114</td><td>0</td><td>0.70440924</td><td>5</td></tr></tbody></table></div>"
      ]
     },
     "metadata": {
      "application/vnd.databricks.v1+output": {
       "addedWidgets": {},
       "aggData": [],
       "aggError": "",
       "aggOverflow": false,
       "aggSchema": [],
       "aggSeriesLimitReached": false,
       "aggType": "",
       "arguments": {},
       "columnCustomDisplayInfos": {},
       "data": [
        [
         407843,
         0,
         0.70431626,
         1
        ],
        [
         3060593,
         0,
         0.70431626,
         2
        ],
        [
         3514686,
         0,
         0.70440924,
         3
        ],
        [
         2086992,
         0,
         0.70440924,
         4
        ],
        [
         4016114,
         0,
         0.70440924,
         5
        ]
       ],
       "datasetInfos": [],
       "dbfsResultPath": null,
       "isJsonSchema": true,
       "metadata": {},
       "overflow": false,
       "plotOptions": {
        "customPlotOptions": {},
        "displayType": "table",
        "pivotAggregation": null,
        "pivotColumns": null,
        "xColumns": null,
        "yColumns": null
       },
       "removedWidgets": [],
       "schema": [
        {
         "metadata": "{}",
         "name": "household_id",
         "type": "\"long\""
        },
        {
         "metadata": "{\"ml_attr\":{\"num_vals\":6,\"type\":\"nominal\"}}",
         "name": "cluster",
         "type": "\"integer\""
        },
        {
         "metadata": "{}",
         "name": "distance_to_centroid",
         "type": "\"float\""
        },
        {
         "metadata": "{}",
         "name": "row_num",
         "type": "\"integer\""
        }
       ],
       "type": "table"
      }
     },
     "output_type": "display_data"
    },
    {
     "output_type": "stream",
     "name": "stdout",
     "output_type": "stream",
     "text": [
      "Full subset for cluster 1\n"
     ]
    },
    {
     "output_type": "display_data",
     "data": {
      "text/html": [
       "<style scoped>\n",
       "  .table-result-container {\n",
       "    max-height: 300px;\n",
       "    overflow: auto;\n",
       "  }\n",
       "  table, th, td {\n",
       "    border: 1px solid black;\n",
       "    border-collapse: collapse;\n",
       "  }\n",
       "  th, td {\n",
       "    padding: 5px;\n",
       "  }\n",
       "  th {\n",
       "    text-align: left;\n",
       "  }\n",
       "</style><div class='table-result-container'><table class='table-result'><thead style='background-color: white'><tr><th>household_id</th><th>cluster</th><th>distance_to_centroid</th><th>row_num</th></tr></thead><tbody><tr><td>2870796</td><td>1</td><td>0.80247897</td><td>1</td></tr><tr><td>3631022</td><td>1</td><td>0.80305946</td><td>2</td></tr><tr><td>3799062</td><td>1</td><td>0.80305946</td><td>3</td></tr><tr><td>2357515</td><td>1</td><td>0.80305946</td><td>4</td></tr><tr><td>107954</td><td>1</td><td>0.8031158</td><td>5</td></tr></tbody></table></div>"
      ]
     },
     "metadata": {
      "application/vnd.databricks.v1+output": {
       "addedWidgets": {},
       "aggData": [],
       "aggError": "",
       "aggOverflow": false,
       "aggSchema": [],
       "aggSeriesLimitReached": false,
       "aggType": "",
       "arguments": {},
       "columnCustomDisplayInfos": {},
       "data": [
        [
         2870796,
         1,
         0.80247897,
         1
        ],
        [
         3631022,
         1,
         0.80305946,
         2
        ],
        [
         3799062,
         1,
         0.80305946,
         3
        ],
        [
         2357515,
         1,
         0.80305946,
         4
        ],
        [
         107954,
         1,
         0.8031158,
         5
        ]
       ],
       "datasetInfos": [],
       "dbfsResultPath": null,
       "isJsonSchema": true,
       "metadata": {},
       "overflow": false,
       "plotOptions": {
        "customPlotOptions": {},
        "displayType": "table",
        "pivotAggregation": null,
        "pivotColumns": null,
        "xColumns": null,
        "yColumns": null
       },
       "removedWidgets": [],
       "schema": [
        {
         "metadata": "{}",
         "name": "household_id",
         "type": "\"long\""
        },
        {
         "metadata": "{\"ml_attr\":{\"num_vals\":6,\"type\":\"nominal\"}}",
         "name": "cluster",
         "type": "\"integer\""
        },
        {
         "metadata": "{}",
         "name": "distance_to_centroid",
         "type": "\"float\""
        },
        {
         "metadata": "{}",
         "name": "row_num",
         "type": "\"integer\""
        }
       ],
       "type": "table"
      }
     },
     "output_type": "display_data"
    },
    {
     "output_type": "stream",
     "name": "stdout",
     "output_type": "stream",
     "text": [
      "Full subset for cluster 2\n"
     ]
    },
    {
     "output_type": "display_data",
     "data": {
      "text/html": [
       "<style scoped>\n",
       "  .table-result-container {\n",
       "    max-height: 300px;\n",
       "    overflow: auto;\n",
       "  }\n",
       "  table, th, td {\n",
       "    border: 1px solid black;\n",
       "    border-collapse: collapse;\n",
       "  }\n",
       "  th, td {\n",
       "    padding: 5px;\n",
       "  }\n",
       "  th {\n",
       "    text-align: left;\n",
       "  }\n",
       "</style><div class='table-result-container'><table class='table-result'><thead style='background-color: white'><tr><th>household_id</th><th>cluster</th><th>distance_to_centroid</th><th>row_num</th></tr></thead><tbody><tr><td>3217437</td><td>2</td><td>0.7250733</td><td>1</td></tr><tr><td>2190226</td><td>2</td><td>0.72576725</td><td>2</td></tr><tr><td>1319151</td><td>2</td><td>0.7274364</td><td>3</td></tr><tr><td>2951776</td><td>2</td><td>0.7274364</td><td>4</td></tr><tr><td>3173893</td><td>2</td><td>0.72756714</td><td>5</td></tr></tbody></table></div>"
      ]
     },
     "metadata": {
      "application/vnd.databricks.v1+output": {
       "addedWidgets": {},
       "aggData": [],
       "aggError": "",
       "aggOverflow": false,
       "aggSchema": [],
       "aggSeriesLimitReached": false,
       "aggType": "",
       "arguments": {},
       "columnCustomDisplayInfos": {},
       "data": [
        [
         3217437,
         2,
         0.7250733,
         1
        ],
        [
         2190226,
         2,
         0.72576725,
         2
        ],
        [
         1319151,
         2,
         0.7274364,
         3
        ],
        [
         2951776,
         2,
         0.7274364,
         4
        ],
        [
         3173893,
         2,
         0.72756714,
         5
        ]
       ],
       "datasetInfos": [],
       "dbfsResultPath": null,
       "isJsonSchema": true,
       "metadata": {},
       "overflow": false,
       "plotOptions": {
        "customPlotOptions": {},
        "displayType": "table",
        "pivotAggregation": null,
        "pivotColumns": null,
        "xColumns": null,
        "yColumns": null
       },
       "removedWidgets": [],
       "schema": [
        {
         "metadata": "{}",
         "name": "household_id",
         "type": "\"long\""
        },
        {
         "metadata": "{\"ml_attr\":{\"num_vals\":6,\"type\":\"nominal\"}}",
         "name": "cluster",
         "type": "\"integer\""
        },
        {
         "metadata": "{}",
         "name": "distance_to_centroid",
         "type": "\"float\""
        },
        {
         "metadata": "{}",
         "name": "row_num",
         "type": "\"integer\""
        }
       ],
       "type": "table"
      }
     },
     "output_type": "display_data"
    },
    {
     "output_type": "stream",
     "name": "stdout",
     "output_type": "stream",
     "text": [
      "Full subset for cluster 3\n"
     ]
    },
    {
     "output_type": "display_data",
     "data": {
      "text/html": [
       "<style scoped>\n",
       "  .table-result-container {\n",
       "    max-height: 300px;\n",
       "    overflow: auto;\n",
       "  }\n",
       "  table, th, td {\n",
       "    border: 1px solid black;\n",
       "    border-collapse: collapse;\n",
       "  }\n",
       "  th, td {\n",
       "    padding: 5px;\n",
       "  }\n",
       "  th {\n",
       "    text-align: left;\n",
       "  }\n",
       "</style><div class='table-result-container'><table class='table-result'><thead style='background-color: white'><tr><th>household_id</th><th>cluster</th><th>distance_to_centroid</th><th>row_num</th></tr></thead><tbody><tr><td>2424547</td><td>3</td><td>0.73912007</td><td>1</td></tr><tr><td>3216288</td><td>3</td><td>0.74081695</td><td>2</td></tr><tr><td>3462985</td><td>3</td><td>0.74170053</td><td>3</td></tr><tr><td>2127682</td><td>3</td><td>0.7427937</td><td>4</td></tr><tr><td>2310490</td><td>3</td><td>0.7433983</td><td>5</td></tr></tbody></table></div>"
      ]
     },
     "metadata": {
      "application/vnd.databricks.v1+output": {
       "addedWidgets": {},
       "aggData": [],
       "aggError": "",
       "aggOverflow": false,
       "aggSchema": [],
       "aggSeriesLimitReached": false,
       "aggType": "",
       "arguments": {},
       "columnCustomDisplayInfos": {},
       "data": [
        [
         2424547,
         3,
         0.73912007,
         1
        ],
        [
         3216288,
         3,
         0.74081695,
         2
        ],
        [
         3462985,
         3,
         0.74170053,
         3
        ],
        [
         2127682,
         3,
         0.7427937,
         4
        ],
        [
         2310490,
         3,
         0.7433983,
         5
        ]
       ],
       "datasetInfos": [],
       "dbfsResultPath": null,
       "isJsonSchema": true,
       "metadata": {},
       "overflow": false,
       "plotOptions": {
        "customPlotOptions": {},
        "displayType": "table",
        "pivotAggregation": null,
        "pivotColumns": null,
        "xColumns": null,
        "yColumns": null
       },
       "removedWidgets": [],
       "schema": [
        {
         "metadata": "{}",
         "name": "household_id",
         "type": "\"long\""
        },
        {
         "metadata": "{\"ml_attr\":{\"num_vals\":6,\"type\":\"nominal\"}}",
         "name": "cluster",
         "type": "\"integer\""
        },
        {
         "metadata": "{}",
         "name": "distance_to_centroid",
         "type": "\"float\""
        },
        {
         "metadata": "{}",
         "name": "row_num",
         "type": "\"integer\""
        }
       ],
       "type": "table"
      }
     },
     "output_type": "display_data"
    },
    {
     "output_type": "stream",
     "name": "stdout",
     "output_type": "stream",
     "text": [
      "Full subset for cluster 4\n"
     ]
    },
    {
     "output_type": "display_data",
     "data": {
      "text/html": [
       "<style scoped>\n",
       "  .table-result-container {\n",
       "    max-height: 300px;\n",
       "    overflow: auto;\n",
       "  }\n",
       "  table, th, td {\n",
       "    border: 1px solid black;\n",
       "    border-collapse: collapse;\n",
       "  }\n",
       "  th, td {\n",
       "    padding: 5px;\n",
       "  }\n",
       "  th {\n",
       "    text-align: left;\n",
       "  }\n",
       "</style><div class='table-result-container'><table class='table-result'><thead style='background-color: white'><tr><th>household_id</th><th>cluster</th><th>distance_to_centroid</th><th>row_num</th></tr></thead><tbody><tr><td>2346443</td><td>4</td><td>0.986769</td><td>1</td></tr><tr><td>104917</td><td>4</td><td>0.9897022</td><td>2</td></tr><tr><td>2041426</td><td>4</td><td>0.99178886</td><td>3</td></tr><tr><td>1482762</td><td>4</td><td>0.9930077</td><td>4</td></tr><tr><td>2077425</td><td>4</td><td>0.9930541</td><td>5</td></tr></tbody></table></div>"
      ]
     },
     "metadata": {
      "application/vnd.databricks.v1+output": {
       "addedWidgets": {},
       "aggData": [],
       "aggError": "",
       "aggOverflow": false,
       "aggSchema": [],
       "aggSeriesLimitReached": false,
       "aggType": "",
       "arguments": {},
       "columnCustomDisplayInfos": {},
       "data": [
        [
         2346443,
         4,
         0.986769,
         1
        ],
        [
         104917,
         4,
         0.9897022,
         2
        ],
        [
         2041426,
         4,
         0.99178886,
         3
        ],
        [
         1482762,
         4,
         0.9930077,
         4
        ],
        [
         2077425,
         4,
         0.9930541,
         5
        ]
       ],
       "datasetInfos": [],
       "dbfsResultPath": null,
       "isJsonSchema": true,
       "metadata": {},
       "overflow": false,
       "plotOptions": {
        "customPlotOptions": {},
        "displayType": "table",
        "pivotAggregation": null,
        "pivotColumns": null,
        "xColumns": null,
        "yColumns": null
       },
       "removedWidgets": [],
       "schema": [
        {
         "metadata": "{}",
         "name": "household_id",
         "type": "\"long\""
        },
        {
         "metadata": "{\"ml_attr\":{\"num_vals\":6,\"type\":\"nominal\"}}",
         "name": "cluster",
         "type": "\"integer\""
        },
        {
         "metadata": "{}",
         "name": "distance_to_centroid",
         "type": "\"float\""
        },
        {
         "metadata": "{}",
         "name": "row_num",
         "type": "\"integer\""
        }
       ],
       "type": "table"
      }
     },
     "output_type": "display_data"
    },
    {
     "output_type": "stream",
     "name": "stdout",
     "output_type": "stream",
     "text": [
      "Full subset for cluster 5\n"
     ]
    },
    {
     "output_type": "display_data",
     "data": {
      "text/html": [
       "<style scoped>\n",
       "  .table-result-container {\n",
       "    max-height: 300px;\n",
       "    overflow: auto;\n",
       "  }\n",
       "  table, th, td {\n",
       "    border: 1px solid black;\n",
       "    border-collapse: collapse;\n",
       "  }\n",
       "  th, td {\n",
       "    padding: 5px;\n",
       "  }\n",
       "  th {\n",
       "    text-align: left;\n",
       "  }\n",
       "</style><div class='table-result-container'><table class='table-result'><thead style='background-color: white'><tr><th>household_id</th><th>cluster</th><th>distance_to_centroid</th><th>row_num</th></tr></thead><tbody><tr><td>4023076</td><td>5</td><td>0.51603377</td><td>1</td></tr><tr><td>1996154</td><td>5</td><td>0.51603377</td><td>2</td></tr><tr><td>2076499</td><td>5</td><td>0.5163706</td><td>3</td></tr><tr><td>2197121</td><td>5</td><td>0.5163706</td><td>4</td></tr><tr><td>2828482</td><td>5</td><td>0.5163706</td><td>5</td></tr></tbody></table></div>"
      ]
     },
     "metadata": {
      "application/vnd.databricks.v1+output": {
       "addedWidgets": {},
       "aggData": [],
       "aggError": "",
       "aggOverflow": false,
       "aggSchema": [],
       "aggSeriesLimitReached": false,
       "aggType": "",
       "arguments": {},
       "columnCustomDisplayInfos": {},
       "data": [
        [
         4023076,
         5,
         0.51603377,
         1
        ],
        [
         1996154,
         5,
         0.51603377,
         2
        ],
        [
         2076499,
         5,
         0.5163706,
         3
        ],
        [
         2197121,
         5,
         0.5163706,
         4
        ],
        [
         2828482,
         5,
         0.5163706,
         5
        ]
       ],
       "datasetInfos": [],
       "dbfsResultPath": null,
       "isJsonSchema": true,
       "metadata": {},
       "overflow": false,
       "plotOptions": {
        "customPlotOptions": {},
        "displayType": "table",
        "pivotAggregation": null,
        "pivotColumns": null,
        "xColumns": null,
        "yColumns": null
       },
       "removedWidgets": [],
       "schema": [
        {
         "metadata": "{}",
         "name": "household_id",
         "type": "\"long\""
        },
        {
         "metadata": "{\"ml_attr\":{\"num_vals\":6,\"type\":\"nominal\"}}",
         "name": "cluster",
         "type": "\"integer\""
        },
        {
         "metadata": "{}",
         "name": "distance_to_centroid",
         "type": "\"float\""
        },
        {
         "metadata": "{}",
         "name": "row_num",
         "type": "\"integer\""
        }
       ],
       "type": "table"
      }
     },
     "output_type": "display_data"
    }
   ],
   "source": [
    "from pyspark.sql.window import Window  \n",
    "\n",
    "# Create a window specification to order households within each cluster by distance to centroid\n",
    "window_spec = Window.partitionBy(\"cluster\").orderBy(\"distance_to_centroid\")  # Partition by cluster and order by distance to centroid\n",
    "\n",
    "# Add a column for the row number within each cluster ordered by distance to centroid\n",
    "df_with_order = clustered_df.withColumn(\"row_num\", row_number().over(window_spec))  # Adding row number to the DataFrame\n",
    "\n",
    "# Create the subsets: 3rds, 17ths, Full\n",
    "df_3rds = df_with_order.filter((col(\"row_num\") % 3) == 0)  # Every 3rd household (3rds subset)\n",
    "df_17ths = df_with_order.filter((col(\"row_num\") % 17) == 0)  # Every 17th household (17ths subset)\n",
    "df_full = df_with_order  # Full subset includes all households\n",
    "\n",
    "# Dictionaries to store the subsets permanently\n",
    "full_subsets = {}\n",
    "thirds_subsets = {}\n",
    "seventeenths_subsets = {}\n",
    "\n",
    "for k in range(6):\n",
    "    # Filter each subset for the current cluster\n",
    "    df_full_k = df_full.filter(col(\"cluster\") == k)\n",
    "    df_3rds_k = df_3rds.filter(col(\"cluster\") == k)\n",
    "    df_17ths_k = df_17ths.filter(col(\"cluster\") == k)\n",
    "\n",
    "    # Store the filtered DataFrames in dictionaries\n",
    "    full_subsets[k] = df_full_k\n",
    "    thirds_subsets[k] = df_3rds_k\n",
    "    seventeenths_subsets[k] = df_17ths_k\n",
    "\n",
    "    # Optional: display a sample for visual verification\n",
    "    print(f\"Full subset for cluster {k}\")\n",
    "    display(df_full_k.select(\"household_id\", \"cluster\", \"distance_to_centroid\", \"row_num\").limit(5))\n"
   ]
  },
  {
   "cell_type": "markdown",
   "metadata": {
    "application/vnd.databricks.v1+cell": {
     "cellMetadata": {
      "byteLimit": 2048000,
      "rowLimit": 10000
     },
     "inputWidgets": {},
     "nuid": "75e1419a-5cee-4bb4-aaa4-ee04b18f1d0d",
     "showTitle": false,
     "tableResultSettingsMap": {},
     "title": ""
    }
   },
   "source": [
    "### Cluster’s Viewing Analysis"
   ]
  },
  {
   "cell_type": "markdown",
   "metadata": {
    "application/vnd.databricks.v1+cell": {
     "cellMetadata": {
      "byteLimit": 2048000,
      "rowLimit": 10000
     },
     "inputWidgets": {},
     "nuid": "f9c5bcc6-f466-40b2-b9c9-49f07af6fe5f",
     "showTitle": false,
     "tableResultSettingsMap": {},
     "title": ""
    }
   },
   "source": [
    "**Explanation**\n",
    "\n",
    "In this cell, we perform the final step of our cluster viewing analysis.  \n",
    "The goal is to compare how popular each TV station is inside each cluster **and** each subset (Full, 3rds, 17ths) relative to the general population.\n",
    "\n",
    "Here’s what happens in this block:\n",
    "\n",
    "1️⃣ **Calculate General Popularity:**  \n",
    "   - We first compute the total number of viewings for each `station_num` in the entire dataset (`viewing_static_df`).\n",
    "   - We divide each station’s total by the overall number of viewings to get the **general popularity percentage** (`popularity_general`).\n",
    "\n",
    "2️⃣ **Loop Through Each Cluster:**  \n",
    "   - For each cluster (0 to 5), we take the `Full`, `3rds`, and `17ths` subsets.\n",
    "   - We join each subset with the viewing data to get only the relevant viewings for that cluster/subset.\n",
    "   - We count how many viewing events each `station_num` has within the subset.\n",
    "\n",
    "3️⃣ **Calculate Subset Popularity:**  \n",
    "   - For each subset of the cluster, we compute the **subset popularity rating** by dividing the station’s count by the total viewings in that subset and multiplying by 100.\n",
    "\n",
    "4️⃣ **Compute `diff_rank`:**  \n",
    "   - For each station in each subset, we join the subset rating with the general rating.\n",
    "   - We subtract the general popularity from the subset’s popularity:\n",
    "     ```\n",
    "     diff_rank = subset.pop_rating - popularity_general\n",
    "     ```\n",
    "   - This `diff_rank` shows whether the station is **more or less popular** in that cluster/subset compared to the average household.\n",
    "\n",
    "5️⃣ **Return the Top 7:**  \n",
    "   - We order the stations by `diff_rank` (highest first).\n",
    "   - We display the **Top 7 stations** for each subset (Full, 3rds, 17ths).\n",
    "   - The results are printed clearly for each cluster with clear headers.\n",
    "\n",
    "In the end, this gives us a clear, side-by-side comparison of how each cluster’s subsets differ from the general population in their station preferences.\n"
   ]
  },
  {
   "cell_type": "code",
   "execution_count": 0,
   "metadata": {
    "application/vnd.databricks.v1+cell": {
     "cellMetadata": {
      "byteLimit": 2048000,
      "rowLimit": 10000
     },
     "inputWidgets": {},
     "nuid": "6f520209-c4d0-4296-81a6-8f2086f52983",
     "showTitle": false,
     "tableResultSettingsMap": {
      "0": {
       "dataGridStateBlob": "{\"version\":1,\"tableState\":{\"columnPinning\":{\"left\":[\"#row_number#\"],\"right\":[]},\"columnSizing\":{},\"columnVisibility\":{}},\"settings\":{\"columns\":{}},\"syncTimestamp\":1752051750446}",
       "filterBlob": null,
       "queryPlanFiltersBlob": null,
       "tableResultIndex": 0
      }
     },
     "title": ""
    }
   },
   "outputs": [
    {
     "output_type": "stream",
     "name": "stdout",
     "output_type": "stream",
     "text": [
      "++++++++++++++++++++++++++++++++++++++++++++++++++ Cluster 0 ++++++++++++++++++++++++++++++++++++++++++++++++++\n===== Cluster 0 — Full Subset =====\n"
     ]
    },
    {
     "output_type": "display_data",
     "data": {
      "text/html": [
       "<style scoped>\n",
       "  .table-result-container {\n",
       "    max-height: 300px;\n",
       "    overflow: auto;\n",
       "  }\n",
       "  table, th, td {\n",
       "    border: 1px solid black;\n",
       "    border-collapse: collapse;\n",
       "  }\n",
       "  th, td {\n",
       "    padding: 5px;\n",
       "  }\n",
       "  th {\n",
       "    text-align: left;\n",
       "  }\n",
       "</style><div class='table-result-container'><table class='table-result'><thead style='background-color: white'><tr><th>station_num</th><th>diff_rank</th></tr></thead><tbody><tr><td>60179</td><td>0.3920006870166719</td></tr><tr><td>16374</td><td>0.22730308873892513</td></tr><tr><td>49788</td><td>0.2045526380494167</td></tr><tr><td>32645</td><td>0.1001779326043215</td></tr><tr><td>10335</td><td>0.08745533979025041</td></tr><tr><td>50747</td><td>0.08060981371936737</td></tr><tr><td>61854</td><td>0.07566834124361119</td></tr></tbody></table></div>"
      ]
     },
     "metadata": {
      "application/vnd.databricks.v1+output": {
       "addedWidgets": {},
       "aggData": [],
       "aggError": "",
       "aggOverflow": false,
       "aggSchema": [],
       "aggSeriesLimitReached": false,
       "aggType": "",
       "arguments": {},
       "columnCustomDisplayInfos": {},
       "data": [
        [
         60179,
         0.3920006870166719
        ],
        [
         16374,
         0.22730308873892513
        ],
        [
         49788,
         0.2045526380494167
        ],
        [
         32645,
         0.1001779326043215
        ],
        [
         10335,
         0.08745533979025041
        ],
        [
         50747,
         0.08060981371936737
        ],
        [
         61854,
         0.07566834124361119
        ]
       ],
       "datasetInfos": [],
       "dbfsResultPath": null,
       "isJsonSchema": true,
       "metadata": {},
       "overflow": false,
       "plotOptions": {
        "customPlotOptions": {},
        "displayType": "table",
        "pivotAggregation": null,
        "pivotColumns": null,
        "xColumns": null,
        "yColumns": null
       },
       "removedWidgets": [],
       "schema": [
        {
         "metadata": "{}",
         "name": "station_num",
         "type": "\"integer\""
        },
        {
         "metadata": "{}",
         "name": "diff_rank",
         "type": "\"double\""
        }
       ],
       "type": "table"
      }
     },
     "output_type": "display_data"
    },
    {
     "output_type": "stream",
     "name": "stdout",
     "output_type": "stream",
     "text": [
      "===== Cluster 0 — 3rds Subset =====\n"
     ]
    },
    {
     "output_type": "display_data",
     "data": {
      "text/html": [
       "<style scoped>\n",
       "  .table-result-container {\n",
       "    max-height: 300px;\n",
       "    overflow: auto;\n",
       "  }\n",
       "  table, th, td {\n",
       "    border: 1px solid black;\n",
       "    border-collapse: collapse;\n",
       "  }\n",
       "  th, td {\n",
       "    padding: 5px;\n",
       "  }\n",
       "  th {\n",
       "    text-align: left;\n",
       "  }\n",
       "</style><div class='table-result-container'><table class='table-result'><thead style='background-color: white'><tr><th>station_num</th><th>diff_rank</th></tr></thead><tbody><tr><td>60179</td><td>0.2783677460567828</td></tr><tr><td>32645</td><td>0.2474538973497753</td></tr><tr><td>16374</td><td>0.2133826552268936</td></tr><tr><td>45507</td><td>0.14576547171833648</td></tr><tr><td>49788</td><td>0.13701283399803454</td></tr><tr><td>33585</td><td>0.09696303474071603</td></tr><tr><td>34215</td><td>0.08941775695329998</td></tr></tbody></table></div>"
      ]
     },
     "metadata": {
      "application/vnd.databricks.v1+output": {
       "addedWidgets": {},
       "aggData": [],
       "aggError": "",
       "aggOverflow": false,
       "aggSchema": [],
       "aggSeriesLimitReached": false,
       "aggType": "",
       "arguments": {},
       "columnCustomDisplayInfos": {},
       "data": [
        [
         60179,
         0.2783677460567828
        ],
        [
         32645,
         0.2474538973497753
        ],
        [
         16374,
         0.2133826552268936
        ],
        [
         45507,
         0.14576547171833648
        ],
        [
         49788,
         0.13701283399803454
        ],
        [
         33585,
         0.09696303474071603
        ],
        [
         34215,
         0.08941775695329998
        ]
       ],
       "datasetInfos": [],
       "dbfsResultPath": null,
       "isJsonSchema": true,
       "metadata": {},
       "overflow": false,
       "plotOptions": {
        "customPlotOptions": {},
        "displayType": "table",
        "pivotAggregation": null,
        "pivotColumns": null,
        "xColumns": null,
        "yColumns": null
       },
       "removedWidgets": [],
       "schema": [
        {
         "metadata": "{}",
         "name": "station_num",
         "type": "\"integer\""
        },
        {
         "metadata": "{}",
         "name": "diff_rank",
         "type": "\"double\""
        }
       ],
       "type": "table"
      }
     },
     "output_type": "display_data"
    },
    {
     "output_type": "stream",
     "name": "stdout",
     "output_type": "stream",
     "text": [
      "===== Cluster 0 — 17ths Subset =====\n"
     ]
    },
    {
     "output_type": "display_data",
     "data": {
      "text/html": [
       "<style scoped>\n",
       "  .table-result-container {\n",
       "    max-height: 300px;\n",
       "    overflow: auto;\n",
       "  }\n",
       "  table, th, td {\n",
       "    border: 1px solid black;\n",
       "    border-collapse: collapse;\n",
       "  }\n",
       "  th, td {\n",
       "    padding: 5px;\n",
       "  }\n",
       "  th {\n",
       "    text-align: left;\n",
       "  }\n",
       "</style><div class='table-result-container'><table class='table-result'><thead style='background-color: white'><tr><th>station_num</th><th>diff_rank</th></tr></thead><tbody><tr><td>16374</td><td>0.44015895633866586</td></tr><tr><td>49788</td><td>0.2507801649439476</td></tr><tr><td>11069</td><td>0.23357932061068398</td></tr><tr><td>59684</td><td>0.22398065113151377</td></tr><tr><td>61522</td><td>0.22156199871542392</td></tr><tr><td>35070</td><td>0.2151831454682132</td></tr><tr><td>30754</td><td>0.18897596913173967</td></tr></tbody></table></div>"
      ]
     },
     "metadata": {
      "application/vnd.databricks.v1+output": {
       "addedWidgets": {},
       "aggData": [],
       "aggError": "",
       "aggOverflow": false,
       "aggSchema": [],
       "aggSeriesLimitReached": false,
       "aggType": "",
       "arguments": {},
       "columnCustomDisplayInfos": {},
       "data": [
        [
         16374,
         0.44015895633866586
        ],
        [
         49788,
         0.2507801649439476
        ],
        [
         11069,
         0.23357932061068398
        ],
        [
         59684,
         0.22398065113151377
        ],
        [
         61522,
         0.22156199871542392
        ],
        [
         35070,
         0.2151831454682132
        ],
        [
         30754,
         0.18897596913173967
        ]
       ],
       "datasetInfos": [],
       "dbfsResultPath": null,
       "isJsonSchema": true,
       "metadata": {},
       "overflow": false,
       "plotOptions": {
        "customPlotOptions": {},
        "displayType": "table",
        "pivotAggregation": null,
        "pivotColumns": null,
        "xColumns": null,
        "yColumns": null
       },
       "removedWidgets": [],
       "schema": [
        {
         "metadata": "{}",
         "name": "station_num",
         "type": "\"integer\""
        },
        {
         "metadata": "{}",
         "name": "diff_rank",
         "type": "\"double\""
        }
       ],
       "type": "table"
      }
     },
     "output_type": "display_data"
    },
    {
     "output_type": "stream",
     "name": "stdout",
     "output_type": "stream",
     "text": [
      "++++++++++++++++++++++++++++++++++++++++++++++++++ Cluster 1 ++++++++++++++++++++++++++++++++++++++++++++++++++\n===== Cluster 1 — Full Subset =====\n"
     ]
    },
    {
     "output_type": "display_data",
     "data": {
      "text/html": [
       "<style scoped>\n",
       "  .table-result-container {\n",
       "    max-height: 300px;\n",
       "    overflow: auto;\n",
       "  }\n",
       "  table, th, td {\n",
       "    border: 1px solid black;\n",
       "    border-collapse: collapse;\n",
       "  }\n",
       "  th, td {\n",
       "    padding: 5px;\n",
       "  }\n",
       "  th {\n",
       "    text-align: left;\n",
       "  }\n",
       "</style><div class='table-result-container'><table class='table-result'><thead style='background-color: white'><tr><th>station_num</th><th>diff_rank</th></tr></thead><tbody><tr><td>74796</td><td>0.09908511426226463</td></tr><tr><td>16615</td><td>0.07821507285923013</td></tr><tr><td>58515</td><td>0.0729052049584783</td></tr><tr><td>15433</td><td>0.06216254750469358</td></tr><tr><td>11867</td><td>0.05490510429148865</td></tr><tr><td>10145</td><td>0.05024015654787872</td></tr><tr><td>18151</td><td>0.045981363105474835</td></tr></tbody></table></div>"
      ]
     },
     "metadata": {
      "application/vnd.databricks.v1+output": {
       "addedWidgets": {},
       "aggData": [],
       "aggError": "",
       "aggOverflow": false,
       "aggSchema": [],
       "aggSeriesLimitReached": false,
       "aggType": "",
       "arguments": {},
       "columnCustomDisplayInfos": {},
       "data": [
        [
         74796,
         0.09908511426226463
        ],
        [
         16615,
         0.07821507285923013
        ],
        [
         58515,
         0.0729052049584783
        ],
        [
         15433,
         0.06216254750469358
        ],
        [
         11867,
         0.05490510429148865
        ],
        [
         10145,
         0.05024015654787872
        ],
        [
         18151,
         0.045981363105474835
        ]
       ],
       "datasetInfos": [],
       "dbfsResultPath": null,
       "isJsonSchema": true,
       "metadata": {},
       "overflow": false,
       "plotOptions": {
        "customPlotOptions": {},
        "displayType": "table",
        "pivotAggregation": null,
        "pivotColumns": null,
        "xColumns": null,
        "yColumns": null
       },
       "removedWidgets": [],
       "schema": [
        {
         "metadata": "{}",
         "name": "station_num",
         "type": "\"integer\""
        },
        {
         "metadata": "{}",
         "name": "diff_rank",
         "type": "\"double\""
        }
       ],
       "type": "table"
      }
     },
     "output_type": "display_data"
    },
    {
     "output_type": "stream",
     "name": "stdout",
     "output_type": "stream",
     "text": [
      "===== Cluster 1 — 3rds Subset =====\n"
     ]
    },
    {
     "output_type": "display_data",
     "data": {
      "text/html": [
       "<style scoped>\n",
       "  .table-result-container {\n",
       "    max-height: 300px;\n",
       "    overflow: auto;\n",
       "  }\n",
       "  table, th, td {\n",
       "    border: 1px solid black;\n",
       "    border-collapse: collapse;\n",
       "  }\n",
       "  th, td {\n",
       "    padding: 5px;\n",
       "  }\n",
       "  th {\n",
       "    text-align: left;\n",
       "  }\n",
       "</style><div class='table-result-container'><table class='table-result'><thead style='background-color: white'><tr><th>station_num</th><th>diff_rank</th></tr></thead><tbody><tr><td>74796</td><td>0.19205720104508817</td></tr><tr><td>58515</td><td>0.11870899430241932</td></tr><tr><td>35859</td><td>0.1028220230042531</td></tr><tr><td>10518</td><td>0.09814996204235371</td></tr><tr><td>16615</td><td>0.09292315667874906</td></tr><tr><td>11344</td><td>0.07944274723940087</td></tr><tr><td>10510</td><td>0.07909147573707428</td></tr></tbody></table></div>"
      ]
     },
     "metadata": {
      "application/vnd.databricks.v1+output": {
       "addedWidgets": {},
       "aggData": [],
       "aggError": "",
       "aggOverflow": false,
       "aggSchema": [],
       "aggSeriesLimitReached": false,
       "aggType": "",
       "arguments": {},
       "columnCustomDisplayInfos": {},
       "data": [
        [
         74796,
         0.19205720104508817
        ],
        [
         58515,
         0.11870899430241932
        ],
        [
         35859,
         0.1028220230042531
        ],
        [
         10518,
         0.09814996204235371
        ],
        [
         16615,
         0.09292315667874906
        ],
        [
         11344,
         0.07944274723940087
        ],
        [
         10510,
         0.07909147573707428
        ]
       ],
       "datasetInfos": [],
       "dbfsResultPath": null,
       "isJsonSchema": true,
       "metadata": {},
       "overflow": false,
       "plotOptions": {
        "customPlotOptions": {},
        "displayType": "table",
        "pivotAggregation": null,
        "pivotColumns": null,
        "xColumns": null,
        "yColumns": null
       },
       "removedWidgets": [],
       "schema": [
        {
         "metadata": "{}",
         "name": "station_num",
         "type": "\"integer\""
        },
        {
         "metadata": "{}",
         "name": "diff_rank",
         "type": "\"double\""
        }
       ],
       "type": "table"
      }
     },
     "output_type": "display_data"
    },
    {
     "output_type": "stream",
     "name": "stdout",
     "output_type": "stream",
     "text": [
      "===== Cluster 1 — 17ths Subset =====\n"
     ]
    },
    {
     "output_type": "display_data",
     "data": {
      "text/html": [
       "<style scoped>\n",
       "  .table-result-container {\n",
       "    max-height: 300px;\n",
       "    overflow: auto;\n",
       "  }\n",
       "  table, th, td {\n",
       "    border: 1px solid black;\n",
       "    border-collapse: collapse;\n",
       "  }\n",
       "  th, td {\n",
       "    padding: 5px;\n",
       "  }\n",
       "  th {\n",
       "    text-align: left;\n",
       "  }\n",
       "</style><div class='table-result-container'><table class='table-result'><thead style='background-color: white'><tr><th>station_num</th><th>diff_rank</th></tr></thead><tbody><tr><td>11867</td><td>0.35290131793404533</td></tr><tr><td>14902</td><td>0.28453457433152196</td></tr><tr><td>21762</td><td>0.24147654427493798</td></tr><tr><td>11158</td><td>0.24030938571767846</td></tr><tr><td>16123</td><td>0.23721004363946765</td></tr><tr><td>10057</td><td>0.22036591342893036</td></tr><tr><td>16615</td><td>0.21562683667321847</td></tr></tbody></table></div>"
      ]
     },
     "metadata": {
      "application/vnd.databricks.v1+output": {
       "addedWidgets": {},
       "aggData": [],
       "aggError": "",
       "aggOverflow": false,
       "aggSchema": [],
       "aggSeriesLimitReached": false,
       "aggType": "",
       "arguments": {},
       "columnCustomDisplayInfos": {},
       "data": [
        [
         11867,
         0.35290131793404533
        ],
        [
         14902,
         0.28453457433152196
        ],
        [
         21762,
         0.24147654427493798
        ],
        [
         11158,
         0.24030938571767846
        ],
        [
         16123,
         0.23721004363946765
        ],
        [
         10057,
         0.22036591342893036
        ],
        [
         16615,
         0.21562683667321847
        ]
       ],
       "datasetInfos": [],
       "dbfsResultPath": null,
       "isJsonSchema": true,
       "metadata": {},
       "overflow": false,
       "plotOptions": {
        "customPlotOptions": {},
        "displayType": "table",
        "pivotAggregation": null,
        "pivotColumns": null,
        "xColumns": null,
        "yColumns": null
       },
       "removedWidgets": [],
       "schema": [
        {
         "metadata": "{}",
         "name": "station_num",
         "type": "\"integer\""
        },
        {
         "metadata": "{}",
         "name": "diff_rank",
         "type": "\"double\""
        }
       ],
       "type": "table"
      }
     },
     "output_type": "display_data"
    },
    {
     "output_type": "stream",
     "name": "stdout",
     "output_type": "stream",
     "text": [
      "++++++++++++++++++++++++++++++++++++++++++++++++++ Cluster 2 ++++++++++++++++++++++++++++++++++++++++++++++++++\n===== Cluster 2 — Full Subset =====\n"
     ]
    },
    {
     "output_type": "display_data",
     "data": {
      "text/html": [
       "<style scoped>\n",
       "  .table-result-container {\n",
       "    max-height: 300px;\n",
       "    overflow: auto;\n",
       "  }\n",
       "  table, th, td {\n",
       "    border: 1px solid black;\n",
       "    border-collapse: collapse;\n",
       "  }\n",
       "  th, td {\n",
       "    padding: 5px;\n",
       "  }\n",
       "  th {\n",
       "    text-align: left;\n",
       "  }\n",
       "</style><div class='table-result-container'><table class='table-result'><thead style='background-color: white'><tr><th>station_num</th><th>diff_rank</th></tr></thead><tbody><tr><td>12131</td><td>1.0873718024502066</td></tr><tr><td>11118</td><td>0.7932517659986893</td></tr><tr><td>10222</td><td>0.732710780236983</td></tr><tr><td>10171</td><td>0.6282651264421779</td></tr><tr><td>59684</td><td>0.49541771437156923</td></tr><tr><td>44714</td><td>0.3917355689600071</td></tr><tr><td>21883</td><td>0.3498073553587867</td></tr></tbody></table></div>"
      ]
     },
     "metadata": {
      "application/vnd.databricks.v1+output": {
       "addedWidgets": {},
       "aggData": [],
       "aggError": "",
       "aggOverflow": false,
       "aggSchema": [],
       "aggSeriesLimitReached": false,
       "aggType": "",
       "arguments": {},
       "columnCustomDisplayInfos": {},
       "data": [
        [
         12131,
         1.0873718024502066
        ],
        [
         11118,
         0.7932517659986893
        ],
        [
         10222,
         0.732710780236983
        ],
        [
         10171,
         0.6282651264421779
        ],
        [
         59684,
         0.49541771437156923
        ],
        [
         44714,
         0.3917355689600071
        ],
        [
         21883,
         0.3498073553587867
        ]
       ],
       "datasetInfos": [],
       "dbfsResultPath": null,
       "isJsonSchema": true,
       "metadata": {},
       "overflow": false,
       "plotOptions": {
        "customPlotOptions": {},
        "displayType": "table",
        "pivotAggregation": null,
        "pivotColumns": null,
        "xColumns": null,
        "yColumns": null
       },
       "removedWidgets": [],
       "schema": [
        {
         "metadata": "{}",
         "name": "station_num",
         "type": "\"integer\""
        },
        {
         "metadata": "{}",
         "name": "diff_rank",
         "type": "\"double\""
        }
       ],
       "type": "table"
      }
     },
     "output_type": "display_data"
    },
    {
     "output_type": "stream",
     "name": "stdout",
     "output_type": "stream",
     "text": [
      "===== Cluster 2 — 3rds Subset =====\n"
     ]
    },
    {
     "output_type": "display_data",
     "data": {
      "text/html": [
       "<style scoped>\n",
       "  .table-result-container {\n",
       "    max-height: 300px;\n",
       "    overflow: auto;\n",
       "  }\n",
       "  table, th, td {\n",
       "    border: 1px solid black;\n",
       "    border-collapse: collapse;\n",
       "  }\n",
       "  th, td {\n",
       "    padding: 5px;\n",
       "  }\n",
       "  th {\n",
       "    text-align: left;\n",
       "  }\n",
       "</style><div class='table-result-container'><table class='table-result'><thead style='background-color: white'><tr><th>station_num</th><th>diff_rank</th></tr></thead><tbody><tr><td>12131</td><td>1.6141901963714</td></tr><tr><td>10222</td><td>0.7665030496928619</td></tr><tr><td>11118</td><td>0.6734302045908704</td></tr><tr><td>10171</td><td>0.6665863724405245</td></tr><tr><td>21883</td><td>0.5241556772924398</td></tr><tr><td>10153</td><td>0.3739762196971319</td></tr><tr><td>10730</td><td>0.3468359802811165</td></tr></tbody></table></div>"
      ]
     },
     "metadata": {
      "application/vnd.databricks.v1+output": {
       "addedWidgets": {},
       "aggData": [],
       "aggError": "",
       "aggOverflow": false,
       "aggSchema": [],
       "aggSeriesLimitReached": false,
       "aggType": "",
       "arguments": {},
       "columnCustomDisplayInfos": {},
       "data": [
        [
         12131,
         1.6141901963714
        ],
        [
         10222,
         0.7665030496928619
        ],
        [
         11118,
         0.6734302045908704
        ],
        [
         10171,
         0.6665863724405245
        ],
        [
         21883,
         0.5241556772924398
        ],
        [
         10153,
         0.3739762196971319
        ],
        [
         10730,
         0.3468359802811165
        ]
       ],
       "datasetInfos": [],
       "dbfsResultPath": null,
       "isJsonSchema": true,
       "metadata": {},
       "overflow": false,
       "plotOptions": {
        "customPlotOptions": {},
        "displayType": "table",
        "pivotAggregation": null,
        "pivotColumns": null,
        "xColumns": null,
        "yColumns": null
       },
       "removedWidgets": [],
       "schema": [
        {
         "metadata": "{}",
         "name": "station_num",
         "type": "\"integer\""
        },
        {
         "metadata": "{}",
         "name": "diff_rank",
         "type": "\"double\""
        }
       ],
       "type": "table"
      }
     },
     "output_type": "display_data"
    },
    {
     "output_type": "stream",
     "name": "stdout",
     "output_type": "stream",
     "text": [
      "===== Cluster 2 — 17ths Subset =====\n"
     ]
    },
    {
     "output_type": "display_data",
     "data": {
      "text/html": [
       "<style scoped>\n",
       "  .table-result-container {\n",
       "    max-height: 300px;\n",
       "    overflow: auto;\n",
       "  }\n",
       "  table, th, td {\n",
       "    border: 1px solid black;\n",
       "    border-collapse: collapse;\n",
       "  }\n",
       "  th, td {\n",
       "    padding: 5px;\n",
       "  }\n",
       "  th {\n",
       "    text-align: left;\n",
       "  }\n",
       "</style><div class='table-result-container'><table class='table-result'><thead style='background-color: white'><tr><th>station_num</th><th>diff_rank</th></tr></thead><tbody><tr><td>12131</td><td>0.9006422304020296</td></tr><tr><td>59684</td><td>0.8354880290814857</td></tr><tr><td>10222</td><td>0.7901866538051914</td></tr><tr><td>10171</td><td>0.6656403381696374</td></tr><tr><td>17927</td><td>0.6042274561166381</td></tr><tr><td>11118</td><td>0.5680536534149202</td></tr><tr><td>10239</td><td>0.5520843265640794</td></tr></tbody></table></div>"
      ]
     },
     "metadata": {
      "application/vnd.databricks.v1+output": {
       "addedWidgets": {},
       "aggData": [],
       "aggError": "",
       "aggOverflow": false,
       "aggSchema": [],
       "aggSeriesLimitReached": false,
       "aggType": "",
       "arguments": {},
       "columnCustomDisplayInfos": {},
       "data": [
        [
         12131,
         0.9006422304020296
        ],
        [
         59684,
         0.8354880290814857
        ],
        [
         10222,
         0.7901866538051914
        ],
        [
         10171,
         0.6656403381696374
        ],
        [
         17927,
         0.6042274561166381
        ],
        [
         11118,
         0.5680536534149202
        ],
        [
         10239,
         0.5520843265640794
        ]
       ],
       "datasetInfos": [],
       "dbfsResultPath": null,
       "isJsonSchema": true,
       "metadata": {},
       "overflow": false,
       "plotOptions": {
        "customPlotOptions": {},
        "displayType": "table",
        "pivotAggregation": null,
        "pivotColumns": null,
        "xColumns": null,
        "yColumns": null
       },
       "removedWidgets": [],
       "schema": [
        {
         "metadata": "{}",
         "name": "station_num",
         "type": "\"integer\""
        },
        {
         "metadata": "{}",
         "name": "diff_rank",
         "type": "\"double\""
        }
       ],
       "type": "table"
      }
     },
     "output_type": "display_data"
    },
    {
     "output_type": "stream",
     "name": "stdout",
     "output_type": "stream",
     "text": [
      "++++++++++++++++++++++++++++++++++++++++++++++++++ Cluster 3 ++++++++++++++++++++++++++++++++++++++++++++++++++\n===== Cluster 3 — Full Subset =====\n"
     ]
    },
    {
     "output_type": "display_data",
     "data": {
      "text/html": [
       "<style scoped>\n",
       "  .table-result-container {\n",
       "    max-height: 300px;\n",
       "    overflow: auto;\n",
       "  }\n",
       "  table, th, td {\n",
       "    border: 1px solid black;\n",
       "    border-collapse: collapse;\n",
       "  }\n",
       "  th, td {\n",
       "    padding: 5px;\n",
       "  }\n",
       "  th {\n",
       "    text-align: left;\n",
       "  }\n",
       "</style><div class='table-result-container'><table class='table-result'><thead style='background-color: white'><tr><th>station_num</th><th>diff_rank</th></tr></thead><tbody><tr><td>35513</td><td>1.240484333024132</td></tr><tr><td>70387</td><td>0.9286958286186878</td></tr><tr><td>11706</td><td>0.8767181790254264</td></tr><tr><td>10918</td><td>0.8436296040147847</td></tr><tr><td>10179</td><td>0.7654444043606439</td></tr><tr><td>12131</td><td>0.7626475241621982</td></tr><tr><td>10171</td><td>0.7179734946114289</td></tr></tbody></table></div>"
      ]
     },
     "metadata": {
      "application/vnd.databricks.v1+output": {
       "addedWidgets": {},
       "aggData": [],
       "aggError": "",
       "aggOverflow": false,
       "aggSchema": [],
       "aggSeriesLimitReached": false,
       "aggType": "",
       "arguments": {},
       "columnCustomDisplayInfos": {},
       "data": [
        [
         35513,
         1.240484333024132
        ],
        [
         70387,
         0.9286958286186878
        ],
        [
         11706,
         0.8767181790254264
        ],
        [
         10918,
         0.8436296040147847
        ],
        [
         10179,
         0.7654444043606439
        ],
        [
         12131,
         0.7626475241621982
        ],
        [
         10171,
         0.7179734946114289
        ]
       ],
       "datasetInfos": [],
       "dbfsResultPath": null,
       "isJsonSchema": true,
       "metadata": {},
       "overflow": false,
       "plotOptions": {
        "customPlotOptions": {},
        "displayType": "table",
        "pivotAggregation": null,
        "pivotColumns": null,
        "xColumns": null,
        "yColumns": null
       },
       "removedWidgets": [],
       "schema": [
        {
         "metadata": "{}",
         "name": "station_num",
         "type": "\"integer\""
        },
        {
         "metadata": "{}",
         "name": "diff_rank",
         "type": "\"double\""
        }
       ],
       "type": "table"
      }
     },
     "output_type": "display_data"
    },
    {
     "output_type": "stream",
     "name": "stdout",
     "output_type": "stream",
     "text": [
      "===== Cluster 3 — 3rds Subset =====\n"
     ]
    },
    {
     "output_type": "display_data",
     "data": {
      "text/html": [
       "<style scoped>\n",
       "  .table-result-container {\n",
       "    max-height: 300px;\n",
       "    overflow: auto;\n",
       "  }\n",
       "  table, th, td {\n",
       "    border: 1px solid black;\n",
       "    border-collapse: collapse;\n",
       "  }\n",
       "  th, td {\n",
       "    padding: 5px;\n",
       "  }\n",
       "  th {\n",
       "    text-align: left;\n",
       "  }\n",
       "</style><div class='table-result-container'><table class='table-result'><thead style='background-color: white'><tr><th>station_num</th><th>diff_rank</th></tr></thead><tbody><tr><td>35513</td><td>1.3830534174449665</td></tr><tr><td>70387</td><td>0.9427997144607659</td></tr><tr><td>11706</td><td>0.8807201329673058</td></tr><tr><td>10918</td><td>0.853742954295177</td></tr><tr><td>10179</td><td>0.7744190720630169</td></tr><tr><td>11561</td><td>0.6002688034405138</td></tr><tr><td>16615</td><td>0.5939667949346893</td></tr></tbody></table></div>"
      ]
     },
     "metadata": {
      "application/vnd.databricks.v1+output": {
       "addedWidgets": {},
       "aggData": [],
       "aggError": "",
       "aggOverflow": false,
       "aggSchema": [],
       "aggSeriesLimitReached": false,
       "aggType": "",
       "arguments": {},
       "columnCustomDisplayInfos": {},
       "data": [
        [
         35513,
         1.3830534174449665
        ],
        [
         70387,
         0.9427997144607659
        ],
        [
         11706,
         0.8807201329673058
        ],
        [
         10918,
         0.853742954295177
        ],
        [
         10179,
         0.7744190720630169
        ],
        [
         11561,
         0.6002688034405138
        ],
        [
         16615,
         0.5939667949346893
        ]
       ],
       "datasetInfos": [],
       "dbfsResultPath": null,
       "isJsonSchema": true,
       "metadata": {},
       "overflow": false,
       "plotOptions": {
        "customPlotOptions": {},
        "displayType": "table",
        "pivotAggregation": null,
        "pivotColumns": null,
        "xColumns": null,
        "yColumns": null
       },
       "removedWidgets": [],
       "schema": [
        {
         "metadata": "{}",
         "name": "station_num",
         "type": "\"integer\""
        },
        {
         "metadata": "{}",
         "name": "diff_rank",
         "type": "\"double\""
        }
       ],
       "type": "table"
      }
     },
     "output_type": "display_data"
    },
    {
     "output_type": "stream",
     "name": "stdout",
     "output_type": "stream",
     "text": [
      "===== Cluster 3 — 17ths Subset =====\n"
     ]
    },
    {
     "output_type": "display_data",
     "data": {
      "text/html": [
       "<style scoped>\n",
       "  .table-result-container {\n",
       "    max-height: 300px;\n",
       "    overflow: auto;\n",
       "  }\n",
       "  table, th, td {\n",
       "    border: 1px solid black;\n",
       "    border-collapse: collapse;\n",
       "  }\n",
       "  th, td {\n",
       "    padding: 5px;\n",
       "  }\n",
       "  th {\n",
       "    text-align: left;\n",
       "  }\n",
       "</style><div class='table-result-container'><table class='table-result'><thead style='background-color: white'><tr><th>station_num</th><th>diff_rank</th></tr></thead><tbody><tr><td>10179</td><td>1.7264824283806728</td></tr><tr><td>10171</td><td>1.2597553104935018</td></tr><tr><td>35513</td><td>0.8782506722686201</td></tr><tr><td>11809</td><td>0.8369307604534963</td></tr><tr><td>11706</td><td>0.8294960688213109</td></tr><tr><td>12439</td><td>0.6815576694208372</td></tr><tr><td>10918</td><td>0.6420937790856437</td></tr></tbody></table></div>"
      ]
     },
     "metadata": {
      "application/vnd.databricks.v1+output": {
       "addedWidgets": {},
       "aggData": [],
       "aggError": "",
       "aggOverflow": false,
       "aggSchema": [],
       "aggSeriesLimitReached": false,
       "aggType": "",
       "arguments": {},
       "columnCustomDisplayInfos": {},
       "data": [
        [
         10179,
         1.7264824283806728
        ],
        [
         10171,
         1.2597553104935018
        ],
        [
         35513,
         0.8782506722686201
        ],
        [
         11809,
         0.8369307604534963
        ],
        [
         11706,
         0.8294960688213109
        ],
        [
         12439,
         0.6815576694208372
        ],
        [
         10918,
         0.6420937790856437
        ]
       ],
       "datasetInfos": [],
       "dbfsResultPath": null,
       "isJsonSchema": true,
       "metadata": {},
       "overflow": false,
       "plotOptions": {
        "customPlotOptions": {},
        "displayType": "table",
        "pivotAggregation": null,
        "pivotColumns": null,
        "xColumns": null,
        "yColumns": null
       },
       "removedWidgets": [],
       "schema": [
        {
         "metadata": "{}",
         "name": "station_num",
         "type": "\"integer\""
        },
        {
         "metadata": "{}",
         "name": "diff_rank",
         "type": "\"double\""
        }
       ],
       "type": "table"
      }
     },
     "output_type": "display_data"
    },
    {
     "output_type": "stream",
     "name": "stdout",
     "output_type": "stream",
     "text": [
      "++++++++++++++++++++++++++++++++++++++++++++++++++ Cluster 4 ++++++++++++++++++++++++++++++++++++++++++++++++++\n===== Cluster 4 — Full Subset =====\n"
     ]
    },
    {
     "output_type": "display_data",
     "data": {
      "text/html": [
       "<style scoped>\n",
       "  .table-result-container {\n",
       "    max-height: 300px;\n",
       "    overflow: auto;\n",
       "  }\n",
       "  table, th, td {\n",
       "    border: 1px solid black;\n",
       "    border-collapse: collapse;\n",
       "  }\n",
       "  th, td {\n",
       "    padding: 5px;\n",
       "  }\n",
       "  th {\n",
       "    text-align: left;\n",
       "  }\n",
       "</style><div class='table-result-container'><table class='table-result'><thead style='background-color: white'><tr><th>station_num</th><th>diff_rank</th></tr></thead><tbody><tr><td>12131</td><td>0.8096983046297903</td></tr><tr><td>10171</td><td>0.5274324745755883</td></tr><tr><td>70387</td><td>0.480288515812175</td></tr><tr><td>10918</td><td>0.44120210236460744</td></tr><tr><td>11706</td><td>0.3840230810500525</td></tr><tr><td>35513</td><td>0.38084678359058927</td></tr><tr><td>10642</td><td>0.36311743823346204</td></tr></tbody></table></div>"
      ]
     },
     "metadata": {
      "application/vnd.databricks.v1+output": {
       "addedWidgets": {},
       "aggData": [],
       "aggError": "",
       "aggOverflow": false,
       "aggSchema": [],
       "aggSeriesLimitReached": false,
       "aggType": "",
       "arguments": {},
       "columnCustomDisplayInfos": {},
       "data": [
        [
         12131,
         0.8096983046297903
        ],
        [
         10171,
         0.5274324745755883
        ],
        [
         70387,
         0.480288515812175
        ],
        [
         10918,
         0.44120210236460744
        ],
        [
         11706,
         0.3840230810500525
        ],
        [
         35513,
         0.38084678359058927
        ],
        [
         10642,
         0.36311743823346204
        ]
       ],
       "datasetInfos": [],
       "dbfsResultPath": null,
       "isJsonSchema": true,
       "metadata": {},
       "overflow": false,
       "plotOptions": {
        "customPlotOptions": {},
        "displayType": "table",
        "pivotAggregation": null,
        "pivotColumns": null,
        "xColumns": null,
        "yColumns": null
       },
       "removedWidgets": [],
       "schema": [
        {
         "metadata": "{}",
         "name": "station_num",
         "type": "\"integer\""
        },
        {
         "metadata": "{}",
         "name": "diff_rank",
         "type": "\"double\""
        }
       ],
       "type": "table"
      }
     },
     "output_type": "display_data"
    },
    {
     "output_type": "stream",
     "name": "stdout",
     "output_type": "stream",
     "text": [
      "===== Cluster 4 — 3rds Subset =====\n"
     ]
    },
    {
     "output_type": "display_data",
     "data": {
      "text/html": [
       "<style scoped>\n",
       "  .table-result-container {\n",
       "    max-height: 300px;\n",
       "    overflow: auto;\n",
       "  }\n",
       "  table, th, td {\n",
       "    border: 1px solid black;\n",
       "    border-collapse: collapse;\n",
       "  }\n",
       "  th, td {\n",
       "    padding: 5px;\n",
       "  }\n",
       "  th {\n",
       "    text-align: left;\n",
       "  }\n",
       "</style><div class='table-result-container'><table class='table-result'><thead style='background-color: white'><tr><th>station_num</th><th>diff_rank</th></tr></thead><tbody><tr><td>12131</td><td>0.8154696791559444</td></tr><tr><td>10642</td><td>0.6005462326083979</td></tr><tr><td>70387</td><td>0.535381041391476</td></tr><tr><td>10918</td><td>0.5155404035510739</td></tr><tr><td>10171</td><td>0.4871518413529654</td></tr><tr><td>11706</td><td>0.4131485654024128</td></tr><tr><td>11809</td><td>0.41206461073214845</td></tr></tbody></table></div>"
      ]
     },
     "metadata": {
      "application/vnd.databricks.v1+output": {
       "addedWidgets": {},
       "aggData": [],
       "aggError": "",
       "aggOverflow": false,
       "aggSchema": [],
       "aggSeriesLimitReached": false,
       "aggType": "",
       "arguments": {},
       "columnCustomDisplayInfos": {},
       "data": [
        [
         12131,
         0.8154696791559444
        ],
        [
         10642,
         0.6005462326083979
        ],
        [
         70387,
         0.535381041391476
        ],
        [
         10918,
         0.5155404035510739
        ],
        [
         10171,
         0.4871518413529654
        ],
        [
         11706,
         0.4131485654024128
        ],
        [
         11809,
         0.41206461073214845
        ]
       ],
       "datasetInfos": [],
       "dbfsResultPath": null,
       "isJsonSchema": true,
       "metadata": {},
       "overflow": false,
       "plotOptions": {
        "customPlotOptions": {},
        "displayType": "table",
        "pivotAggregation": null,
        "pivotColumns": null,
        "xColumns": null,
        "yColumns": null
       },
       "removedWidgets": [],
       "schema": [
        {
         "metadata": "{}",
         "name": "station_num",
         "type": "\"integer\""
        },
        {
         "metadata": "{}",
         "name": "diff_rank",
         "type": "\"double\""
        }
       ],
       "type": "table"
      }
     },
     "output_type": "display_data"
    },
    {
     "output_type": "stream",
     "name": "stdout",
     "output_type": "stream",
     "text": [
      "===== Cluster 4 — 17ths Subset =====\n"
     ]
    },
    {
     "output_type": "display_data",
     "data": {
      "text/html": [
       "<style scoped>\n",
       "  .table-result-container {\n",
       "    max-height: 300px;\n",
       "    overflow: auto;\n",
       "  }\n",
       "  table, th, td {\n",
       "    border: 1px solid black;\n",
       "    border-collapse: collapse;\n",
       "  }\n",
       "  th, td {\n",
       "    padding: 5px;\n",
       "  }\n",
       "  th {\n",
       "    text-align: left;\n",
       "  }\n",
       "</style><div class='table-result-container'><table class='table-result'><thead style='background-color: white'><tr><th>station_num</th><th>diff_rank</th></tr></thead><tbody><tr><td>10171</td><td>1.5215415231869125</td></tr><tr><td>12131</td><td>1.1390400244551009</td></tr><tr><td>35513</td><td>0.9044530093120269</td></tr><tr><td>12729</td><td>0.8751022222134557</td></tr><tr><td>70387</td><td>0.8616330975482037</td></tr><tr><td>10918</td><td>0.7096803814268268</td></tr><tr><td>14767</td><td>0.7025128641455802</td></tr></tbody></table></div>"
      ]
     },
     "metadata": {
      "application/vnd.databricks.v1+output": {
       "addedWidgets": {},
       "aggData": [],
       "aggError": "",
       "aggOverflow": false,
       "aggSchema": [],
       "aggSeriesLimitReached": false,
       "aggType": "",
       "arguments": {},
       "columnCustomDisplayInfos": {},
       "data": [
        [
         10171,
         1.5215415231869125
        ],
        [
         12131,
         1.1390400244551009
        ],
        [
         35513,
         0.9044530093120269
        ],
        [
         12729,
         0.8751022222134557
        ],
        [
         70387,
         0.8616330975482037
        ],
        [
         10918,
         0.7096803814268268
        ],
        [
         14767,
         0.7025128641455802
        ]
       ],
       "datasetInfos": [],
       "dbfsResultPath": null,
       "isJsonSchema": true,
       "metadata": {},
       "overflow": false,
       "plotOptions": {
        "customPlotOptions": {},
        "displayType": "table",
        "pivotAggregation": null,
        "pivotColumns": null,
        "xColumns": null,
        "yColumns": null
       },
       "removedWidgets": [],
       "schema": [
        {
         "metadata": "{}",
         "name": "station_num",
         "type": "\"integer\""
        },
        {
         "metadata": "{}",
         "name": "diff_rank",
         "type": "\"double\""
        }
       ],
       "type": "table"
      }
     },
     "output_type": "display_data"
    },
    {
     "output_type": "stream",
     "name": "stdout",
     "output_type": "stream",
     "text": [
      "++++++++++++++++++++++++++++++++++++++++++++++++++ Cluster 5 ++++++++++++++++++++++++++++++++++++++++++++++++++\n===== Cluster 5 — Full Subset =====\n"
     ]
    },
    {
     "output_type": "display_data",
     "data": {
      "text/html": [
       "<style scoped>\n",
       "  .table-result-container {\n",
       "    max-height: 300px;\n",
       "    overflow: auto;\n",
       "  }\n",
       "  table, th, td {\n",
       "    border: 1px solid black;\n",
       "    border-collapse: collapse;\n",
       "  }\n",
       "  th, td {\n",
       "    padding: 5px;\n",
       "  }\n",
       "  th {\n",
       "    text-align: left;\n",
       "  }\n",
       "</style><div class='table-result-container'><table class='table-result'><thead style='background-color: white'><tr><th>station_num</th><th>diff_rank</th></tr></thead><tbody><tr><td>60179</td><td>0.17028966469247164</td></tr><tr><td>16374</td><td>0.14632688402406413</td></tr><tr><td>19606</td><td>0.10247038444002322</td></tr><tr><td>11713</td><td>0.09290124219643248</td></tr><tr><td>14771</td><td>0.08079973308788535</td></tr><tr><td>11661</td><td>0.0792271519320012</td></tr><tr><td>57708</td><td>0.06647335945716687</td></tr></tbody></table></div>"
      ]
     },
     "metadata": {
      "application/vnd.databricks.v1+output": {
       "addedWidgets": {},
       "aggData": [],
       "aggError": "",
       "aggOverflow": false,
       "aggSchema": [],
       "aggSeriesLimitReached": false,
       "aggType": "",
       "arguments": {},
       "columnCustomDisplayInfos": {},
       "data": [
        [
         60179,
         0.17028966469247164
        ],
        [
         16374,
         0.14632688402406413
        ],
        [
         19606,
         0.10247038444002322
        ],
        [
         11713,
         0.09290124219643248
        ],
        [
         14771,
         0.08079973308788535
        ],
        [
         11661,
         0.0792271519320012
        ],
        [
         57708,
         0.06647335945716687
        ]
       ],
       "datasetInfos": [],
       "dbfsResultPath": null,
       "isJsonSchema": true,
       "metadata": {},
       "overflow": false,
       "plotOptions": {
        "customPlotOptions": {},
        "displayType": "table",
        "pivotAggregation": null,
        "pivotColumns": null,
        "xColumns": null,
        "yColumns": null
       },
       "removedWidgets": [],
       "schema": [
        {
         "metadata": "{}",
         "name": "station_num",
         "type": "\"integer\""
        },
        {
         "metadata": "{}",
         "name": "diff_rank",
         "type": "\"double\""
        }
       ],
       "type": "table"
      }
     },
     "output_type": "display_data"
    },
    {
     "output_type": "stream",
     "name": "stdout",
     "output_type": "stream",
     "text": [
      "===== Cluster 5 — 3rds Subset =====\n"
     ]
    },
    {
     "output_type": "display_data",
     "data": {
      "text/html": [
       "<style scoped>\n",
       "  .table-result-container {\n",
       "    max-height: 300px;\n",
       "    overflow: auto;\n",
       "  }\n",
       "  table, th, td {\n",
       "    border: 1px solid black;\n",
       "    border-collapse: collapse;\n",
       "  }\n",
       "  th, td {\n",
       "    padding: 5px;\n",
       "  }\n",
       "  th {\n",
       "    text-align: left;\n",
       "  }\n",
       "</style><div class='table-result-container'><table class='table-result'><thead style='background-color: white'><tr><th>station_num</th><th>diff_rank</th></tr></thead><tbody><tr><td>60179</td><td>0.1437483458476545</td></tr><tr><td>19606</td><td>0.13593091470669733</td></tr><tr><td>57708</td><td>0.12315933196856826</td></tr><tr><td>11713</td><td>0.11394151835565286</td></tr><tr><td>14776</td><td>0.09620721339450289</td></tr><tr><td>56905</td><td>0.08256761081317332</td></tr><tr><td>15433</td><td>0.08220952117462982</td></tr></tbody></table></div>"
      ]
     },
     "metadata": {
      "application/vnd.databricks.v1+output": {
       "addedWidgets": {},
       "aggData": [],
       "aggError": "",
       "aggOverflow": false,
       "aggSchema": [],
       "aggSeriesLimitReached": false,
       "aggType": "",
       "arguments": {},
       "columnCustomDisplayInfos": {},
       "data": [
        [
         60179,
         0.1437483458476545
        ],
        [
         19606,
         0.13593091470669733
        ],
        [
         57708,
         0.12315933196856826
        ],
        [
         11713,
         0.11394151835565286
        ],
        [
         14776,
         0.09620721339450289
        ],
        [
         56905,
         0.08256761081317332
        ],
        [
         15433,
         0.08220952117462982
        ]
       ],
       "datasetInfos": [],
       "dbfsResultPath": null,
       "isJsonSchema": true,
       "metadata": {},
       "overflow": false,
       "plotOptions": {
        "customPlotOptions": {},
        "displayType": "table",
        "pivotAggregation": null,
        "pivotColumns": null,
        "xColumns": null,
        "yColumns": null
       },
       "removedWidgets": [],
       "schema": [
        {
         "metadata": "{}",
         "name": "station_num",
         "type": "\"integer\""
        },
        {
         "metadata": "{}",
         "name": "diff_rank",
         "type": "\"double\""
        }
       ],
       "type": "table"
      }
     },
     "output_type": "display_data"
    },
    {
     "output_type": "stream",
     "name": "stdout",
     "output_type": "stream",
     "text": [
      "===== Cluster 5 — 17ths Subset =====\n"
     ]
    },
    {
     "output_type": "display_data",
     "data": {
      "text/html": [
       "<style scoped>\n",
       "  .table-result-container {\n",
       "    max-height: 300px;\n",
       "    overflow: auto;\n",
       "  }\n",
       "  table, th, td {\n",
       "    border: 1px solid black;\n",
       "    border-collapse: collapse;\n",
       "  }\n",
       "  th, td {\n",
       "    padding: 5px;\n",
       "  }\n",
       "  th {\n",
       "    text-align: left;\n",
       "  }\n",
       "</style><div class='table-result-container'><table class='table-result'><thead style='background-color: white'><tr><th>station_num</th><th>diff_rank</th></tr></thead><tbody><tr><td>16374</td><td>0.4398887132226128</td></tr><tr><td>64312</td><td>0.3910525452732496</td></tr><tr><td>60179</td><td>0.3252874063608482</td></tr><tr><td>31046</td><td>0.21792817196868502</td></tr><tr><td>49788</td><td>0.1656759308130189</td></tr><tr><td>46811</td><td>0.15237013149199632</td></tr><tr><td>18544</td><td>0.1351602258377362</td></tr></tbody></table></div>"
      ]
     },
     "metadata": {
      "application/vnd.databricks.v1+output": {
       "addedWidgets": {},
       "aggData": [],
       "aggError": "",
       "aggOverflow": false,
       "aggSchema": [],
       "aggSeriesLimitReached": false,
       "aggType": "",
       "arguments": {},
       "columnCustomDisplayInfos": {},
       "data": [
        [
         16374,
         0.4398887132226128
        ],
        [
         64312,
         0.3910525452732496
        ],
        [
         60179,
         0.3252874063608482
        ],
        [
         31046,
         0.21792817196868502
        ],
        [
         49788,
         0.1656759308130189
        ],
        [
         46811,
         0.15237013149199632
        ],
        [
         18544,
         0.1351602258377362
        ]
       ],
       "datasetInfos": [],
       "dbfsResultPath": null,
       "isJsonSchema": true,
       "metadata": {},
       "overflow": false,
       "plotOptions": {
        "customPlotOptions": {},
        "displayType": "table",
        "pivotAggregation": null,
        "pivotColumns": null,
        "xColumns": null,
        "yColumns": null
       },
       "removedWidgets": [],
       "schema": [
        {
         "metadata": "{}",
         "name": "station_num",
         "type": "\"integer\""
        },
        {
         "metadata": "{}",
         "name": "diff_rank",
         "type": "\"double\""
        }
       ],
       "type": "table"
      }
     },
     "output_type": "display_data"
    }
   ],
   "source": [
    "\n",
    "# Calculate the general popularity of each station in the entire dataset\n",
    "df_station_count_general = viewing_static_df.groupBy(\"station_num\").agg(count(\"*\").alias(\"general_view_count\"))\n",
    "total_general_views = viewing_static_df.count() \n",
    "df_station_general_rating = df_station_count_general.withColumn(\"popularity_general\", \n",
    "                                                                   (col(\"general_view_count\") / total_general_views) * 100)\n",
    "\n",
    "\n",
    "# Join the viewing data with the subsets \n",
    "for k in range(6):\n",
    "  df_viewing_full_k = full_subsets[k].join(viewing_static_df, \"household_id\")\n",
    "  df_viewing_3rds_k = thirds_subsets[k].join(viewing_static_df, \"household_id\")\n",
    "  df_viewing_17ths_k = seventeenths_subsets[k].join(viewing_static_df, \"household_id\")\n",
    "\n",
    "  # Aggregate the view counts per station for each subset\n",
    "  df_station_count_full_k = df_viewing_full_k.groupBy(\"station_num\").agg(count(\"*\").alias(\"view_count_full_k\"))\n",
    "  df_station_count_3rds_k = df_viewing_3rds_k.groupBy(\"station_num\").agg(count(\"*\").alias(\"view_count_3rds_k\"))\n",
    "  df_station_count_17ths_k = df_viewing_17ths_k.groupBy(\"station_num\").agg(count(\"*\").alias(\"view_count_17ths_k\"))\n",
    "\n",
    "  # Calculate the total number of views for each subset\n",
    "  total_views_full_k = df_viewing_full_k.count()\n",
    "  total_views_3rds_k = df_viewing_3rds_k.count()\n",
    "  total_views_17ths_k = df_viewing_17ths_k.count()\n",
    "\n",
    "  df_rating_full_k = df_station_count_full_k.withColumn(\n",
    "    \"pop_rating\",\n",
    "    (col(\"view_count_full_k\") / total_views_full_k) * 100)\n",
    "\n",
    "  df_rating_3rds_k = df_station_count_3rds_k.withColumn(\n",
    "    \"pop_rating\",\n",
    "    (col(\"view_count_3rds_k\") / total_views_3rds_k) * 100)\n",
    "\n",
    "  df_rating_17ths_k = df_station_count_17ths_k.withColumn(\n",
    "    \"pop_rating\",\n",
    "    (col(\"view_count_17ths_k\") / total_views_17ths_k) * 100)\n",
    "  \n",
    " # Join subset-cluster with general rating and compute diff_rank\n",
    "  df_diff_rank_full_k = df_rating_full_k.join(\n",
    "        df_station_general_rating,\n",
    "        on=\"station_num\"\n",
    "    ).withColumn(\n",
    "        \"diff_rank\",\n",
    "        col(\"pop_rating\") - col(\"popularity_general\"))\n",
    "\n",
    "  df_diff_rank_3rds_k = df_rating_3rds_k.join(\n",
    "        df_station_general_rating,\n",
    "        on=\"station_num\"\n",
    "    ).withColumn(\n",
    "        \"diff_rank\",\n",
    "        col(\"pop_rating\") - col(\"popularity_general\"))\n",
    "\n",
    "  df_diff_rank_17ths_k = df_rating_17ths_k.join(\n",
    "        df_station_general_rating,\n",
    "        on=\"station_num\"\n",
    "    ).withColumn(\n",
    "        \"diff_rank\",\n",
    "        col(\"pop_rating\") - col(\"popularity_general\"))\n",
    "\n",
    "  print(f\"++++++++++++++++++++++++++++++++++++++++++++++++++ Cluster {k} ++++++++++++++++++++++++++++++++++++++++++++++++++\")\n",
    "\n",
    " # Top 7 for each subset per clusters\n",
    "  print(f\"===== Cluster {k} — Full Subset =====\")\n",
    "  display(df_diff_rank_full_k.select(\"station_num\", \"diff_rank\").orderBy(col(\"diff_rank\").desc()).limit(7))\n",
    "\n",
    "  print(f\"===== Cluster {k} — 3rds Subset =====\")\n",
    "  display(df_diff_rank_3rds_k.select(\"station_num\", \"diff_rank\").orderBy(col(\"diff_rank\").desc()).limit(7))\n",
    "\n",
    "  print(f\"===== Cluster {k} — 17ths Subset =====\")\n",
    "  display(df_diff_rank_17ths_k.select(\"station_num\", \"diff_rank\").orderBy(col(\"diff_rank\").desc()).limit(7))\n",
    "\n",
    "\n"
   ]
  },
  {
   "cell_type": "markdown",
   "metadata": {
    "application/vnd.databricks.v1+cell": {
     "cellMetadata": {
      "byteLimit": 2048000,
      "rowLimit": 10000
     },
     "inputWidgets": {},
     "nuid": "6b823221-f028-48d6-870a-090cc687665f",
     "showTitle": false,
     "tableResultSettingsMap": {},
     "title": ""
    }
   },
   "source": [
    "## Dynamic Data Analysis - Streaming (35 points)"
   ]
  },
  {
   "cell_type": "code",
   "execution_count": 0,
   "metadata": {
    "application/vnd.databricks.v1+cell": {
     "cellMetadata": {
      "byteLimit": 2048000,
      "rowLimit": 10000
     },
     "inputWidgets": {},
     "nuid": "53de1bb2-e87a-424e-b802-97bae4f31a9c",
     "showTitle": false,
     "tableResultSettingsMap": {},
     "title": ""
    }
   },
   "outputs": [],
   "source": [
    "\n",
    "# SCHEMA = \"device_id STRING, event_date INT, event_time INT, station_num STRING, prog_code STRING, household_id STRING\"\n",
    "# kafka_server = \"kafka.eastus.cloudapp.azure.com:29092\"\n",
    "# topic = \"view_data\" \n",
    "# OFFSETS_PER_TRIGGER = 50000\n",
    "\n",
    "# streaming_df = spark.readStream\\\n",
    "#                   .format(\"kafka\")\\\n",
    "#                   .option(\"kafka.bootstrap.servers\", kafka_server)\\\n",
    "#                   .option(\"subscribe\", topic)\\\n",
    "#                   .option(\"startingOffsets\", \"earliest\")\\\n",
    "#                   .option(\"failOnDataLoss\",False)\\\n",
    "#                   .option(\"maxOffsetsPerTrigger\", OFFSETS_PER_TRIGGER)\\\n",
    "#                   .load()\\\n",
    "#                   .select(from_csv(decode(\"value\", \"US-ASCII\"), schema=SCHEMA).alias(\"value\")).select(\"value.*\")\n",
    "\n",
    "\n",
    "# ########## QUERY EXAMPLE ##########\n",
    "\n",
    "# station_counts = streaming_df.groupBy(\"station_num\").count()\n",
    "\n",
    "# count_viewings_per_station_query =station_counts.writeStream\\\n",
    "# .queryName('num_viewing')\\\n",
    "# .format(\"memory\")\\\n",
    "# .outputMode(\"complete\")\\\n",
    "# .start()\n",
    "\n",
    "# time.sleep(10)\n",
    "\n",
    "# for i in range(10):\n",
    "#     print(\"Batch number: \"+str(i))\n",
    "#     print(count_viewings_per_station_query.status)\n",
    "#     spark.sql('SELECT * FROM num_viewing ORDER BY count DESC LIMIT 10').show()\n",
    "#     time.sleep(5)\n",
    "    \n",
    "# count_viewings_per_station_query.stop()\n"
   ]
  },
  {
   "cell_type": "markdown",
   "metadata": {
    "application/vnd.databricks.v1+cell": {
     "cellMetadata": {},
     "inputWidgets": {},
     "nuid": "d45f4e74-bec0-46fe-ad4d-2566526bcae3",
     "showTitle": false,
     "tableResultSettingsMap": {},
     "title": ""
    }
   },
   "source": [
    "## Streaming Cluster Analysis (3rds Subset)\n",
    "\n",
    "This code implements the final part of the project: streaming-based cluster analysis using PySpark Structured Streaming and Kafka.\n",
    "\n",
    "\n",
    "### Approach\n",
    "\n",
    "1. **Kafka Ingestion**: \n",
    "   A streaming DataFrame is created from a Kafka topic. Each batch processes up to 50,000 events using a predefined schema.\n",
    "\n",
    "2. **Accumulator Logic**:  \n",
    "   A global accumulator `accumulated_df` stores all past batch data. This allows computing cumulative popularity statistics over time, which is required to calculate global station popularity.\n",
    "\n",
    "3. **Global Popularity**:  \n",
    "   After each batch, the code computes the total station popularity across **all accumulated data**, representing the global viewing distribution.\n",
    "\n",
    "4. **Cluster-wise Popularity and Diff Rank**:\n",
    "   For each of the 6 clusters (`thirds_subsets[k]`), the code filters relevant views, calculates per-cluster station popularity, and compares it with the global popularity to compute the `diff_rank`.\n",
    "\n",
    "5. **Top-7 Selection**:  \n",
    "   The stations with the highest positive `diff_rank` in each cluster are selected and displayed.\n",
    "\n",
    "6. **Streaming Control**:\n",
    "   A batch counter ensures that **at least 3 micro-batches** are processed. Once 3 batches are received and handled, the streaming query stops.\n",
    "\n",
    "### Key Design Choices\n",
    "\n",
    "- The `diff_rank` is computed **only** using streaming data (no static data).\n",
    "- An inner join is used when comparing cluster and global popularity to ensure consistency in station sets.\n",
    "- Batch-wise accumulation guarantees a progressive and fair comparison between cluster-specific and global viewing behavior.\n",
    "\n",
    "\n"
   ]
  },
  {
   "cell_type": "code",
   "execution_count": 0,
   "metadata": {
    "application/vnd.databricks.v1+cell": {
     "cellMetadata": {
      "byteLimit": 2048000,
      "rowLimit": 10000
     },
     "inputWidgets": {},
     "nuid": "b7d2c71d-8111-48c4-ba39-0b96cba5f38e",
     "showTitle": false,
     "tableResultSettingsMap": {},
     "title": ""
    }
   },
   "outputs": [
    {
     "output_type": "stream",
     "name": "stdout",
     "output_type": "stream",
     "text": [
      "\n======================= BATCH 1 =======================\n---- Cluster 0 — Top 7 diff_rank Stations (Batch 1) ----\n+-----------+-------------------+\n|station_num|          diff_rank|\n+-----------+-------------------+\n|      32645| 0.8878130104196003|\n|      11150| 0.5635038017459868|\n|      11158|0.34131568572233173|\n|      11187|0.33263137144466337|\n|      10142|0.31499352295128136|\n|      11164|0.29547676710785686|\n|      66268| 0.2771546043368065|\n+-----------+-------------------+\n\n---- Cluster 1 — Top 7 diff_rank Stations (Batch 1) ----\n+-----------+-------------------+\n|station_num|          diff_rank|\n+-----------+-------------------+\n|      12131| 0.4247884416924663|\n|      15433|0.32959339525283793|\n|      14771| 0.2767884416924664|\n|      70522|  0.274796697626419|\n|      16300| 0.2547946336429308|\n|      18510|0.24879669762641896|\n|      11713| 0.2403859649122806|\n+-----------+-------------------+\n\n---- Cluster 2 — Top 7 diff_rank Stations (Batch 1) ----\n+-----------+------------------+\n|station_num|         diff_rank|\n+-----------+------------------+\n|      32645|1.8233231810490698|\n|      10918| 1.261661590524535|\n|      10989| 1.178842639593909|\n|      18480|1.1592521150592217|\n|      10647|1.0664331641285956|\n|      10731|1.0464331641285958|\n|      59684|0.9148426395939088|\n+-----------+------------------+\n\n---- Cluster 3 — Top 7 diff_rank Stations (Batch 1) ----\n+-----------+------------------+\n|station_num|         diff_rank|\n+-----------+------------------+\n|      10171| 2.051292517006803|\n|      10918|2.0381904761904757|\n|      10057|1.9390204081632652|\n|      35513| 1.280612244897959|\n|      10021|1.2697142857142856|\n|      11561| 1.151578231292517|\n|      11809|0.9254421768707484|\n+-----------+------------------+\n\n---- Cluster 4 — Top 7 diff_rank Stations (Batch 1) ----\n+-----------+------------------+\n|station_num|         diff_rank|\n+-----------+------------------+\n|      10918|1.8397777777777777|\n|      16300|1.4358518518518517|\n|      11221|1.3729629629629632|\n|      49788|1.3174074074074074|\n|      56905|1.0498518518518516|\n|      10162| 1.017111111111111|\n|      35513|0.8611111111111112|\n+-----------+------------------+\n\n---- Cluster 5 — Top 7 diff_rank Stations (Batch 1) ----\n+-----------+-------------------+\n|station_num|          diff_rank|\n+-----------+-------------------+\n|      11713| 0.6433033707865168|\n|      19606| 0.3972883895131086|\n|      10120|0.28249438202247196|\n|      16616| 0.2821198501872659|\n|      11661| 0.2564569288389513|\n|      31709| 0.2292883895131086|\n|      11458|0.21430711610486897|\n+-----------+-------------------+\n\n\n======================= BATCH 2 =======================\n---- Cluster 0 — Top 7 diff_rank Stations (Batch 2) ----\n+-----------+-------------------+\n|station_num|          diff_rank|\n+-----------+-------------------+\n|      32645| 0.6596133766050518|\n|      11150| 0.4780204599971778|\n|      11158|0.39194468745590505|\n|      14321|0.28938605898123326|\n|      16374|0.28781360237053755|\n|      66268|0.27417228728658105|\n|      49788|0.26281360237053764|\n+-----------+-------------------+\n\n---- Cluster 1 — Top 7 diff_rank Stations (Batch 2) ----\n+-----------+-------------------+\n|station_num|          diff_rank|\n+-----------+-------------------+\n|      16300| 0.3077888646007458|\n|      12131| 0.2832675839012473|\n|      70522| 0.2448944323003729|\n|      14771|0.20740915520123449|\n|      14902|0.20155972740131145|\n|      25544|0.18504500450045003|\n|      18480|0.18293943680082292|\n+-----------+-------------------+\n\n---- Cluster 2 — Top 7 diff_rank Stations (Batch 2) ----\n+-----------+------------------+\n|station_num|         diff_rank|\n+-----------+------------------+\n|      32645|1.5820756234915527|\n|      10918|1.3501641190667737|\n|      59684|1.0100104585679808|\n|      10989|0.9292083668543846|\n|      60150|0.7713073209975865|\n|      17927|0.7532083668543845|\n|      12131|0.7254609814963797|\n+-----------+------------------+\n\n---- Cluster 3 — Top 7 diff_rank Stations (Batch 2) ----\n+-----------+------------------+\n|station_num|         diff_rank|\n+-----------+------------------+\n|      10171|1.9321648440664236|\n|      10918|1.7296403402187122|\n|      10057|1.4701113811259616|\n|      35513|1.3370891049007696|\n|      10021|1.2951113811259618|\n|      11561|1.0740757391656541|\n|      11809|0.9895646010530579|\n+-----------+------------------+\n\n---- Cluster 4 — Top 7 diff_rank Stations (Batch 2) ----\n+-----------+------------------+\n|station_num|         diff_rank|\n+-----------+------------------+\n|      10918|1.3787042253521125|\n|      49788|1.1687323943661976|\n|      45980| 1.130394366197183|\n|      12131| 1.060647887323944|\n|      17927| 1.050507042253521|\n|      16300|0.9704507042253523|\n|      10162| 0.956338028169014|\n+-----------+------------------+\n\n---- Cluster 5 — Top 7 diff_rank Stations (Batch 2) ----\n+-----------+-------------------+\n|station_num|          diff_rank|\n+-----------+-------------------+\n|      11713| 0.5285611335415556|\n|      19606|  0.276894339910109|\n|      16616| 0.2713740382417918|\n|      14771| 0.1842440009141464|\n|      31709|0.17878052868134386|\n|      60179|0.16836596328178555|\n|      67703|  0.151300830349661|\n+-----------+-------------------+\n\n\n======================= BATCH 3 =======================\n---- Cluster 0 — Top 7 diff_rank Stations (Batch 3) ----\n+-----------+-------------------+\n|station_num|          diff_rank|\n+-----------+-------------------+\n|      32645| 0.6745626477541373|\n|      11150| 0.4414231678486997|\n|      31709|0.33837825059101656|\n|      11158| 0.3088888888888889|\n|      66268| 0.2831867612293143|\n|      14321| 0.2821182033096926|\n|      11066|0.24120094562647754|\n+-----------+-------------------+\n\n---- Cluster 1 — Top 7 diff_rank Stations (Batch 3) ----\n+-----------+-------------------+\n|station_num|          diff_rank|\n+-----------+-------------------+\n|      16300| 0.3017593265196948|\n|      11187| 0.2543580820452178|\n|      12131|0.24363898977954224|\n|      70522|0.20808638116958078|\n|      11713|0.18979181800264677|\n|      15433|0.18926615423599968|\n|      11158|0.18864600050679958|\n+-----------+-------------------+\n\n---- Cluster 2 — Top 7 diff_rank Stations (Batch 3) ----\n+-----------+------------------+\n|station_num|         diff_rank|\n+-----------+------------------+\n|      10918|1.2634186307519641|\n|      10989|  1.00613468013468|\n|      10222|0.9261010101010102|\n|      59684|0.8910347923681257|\n|      32645|0.8875196408529744|\n|      17927|0.8694680134680133|\n|      60150|0.7127676767676768|\n+-----------+------------------+\n\n---- Cluster 3 — Top 7 diff_rank Stations (Batch 3) ----\n+-----------+------------------+\n|station_num|         diff_rank|\n+-----------+------------------+\n|      10171|1.6053033832501387|\n|      10918|1.5733211314475875|\n|      35513|1.3661619523017192|\n|      10057| 1.299616195230172|\n|      11561|1.2954952856350526|\n|      10021|1.1433477537437606|\n|      11809| 1.012855241264559|\n+-----------+------------------+\n\n---- Cluster 4 — Top 7 diff_rank Stations (Batch 3) ----\n+-----------+------------------+\n|station_num|         diff_rank|\n+-----------+------------------+\n|      49788|1.0597139979859016|\n|      32645|1.0553272910372615|\n|      10918|1.0515991943605236|\n|      17927|0.9728177240684792|\n|      12131|0.9511117824773415|\n|      45980|0.9231903323262841|\n|      56905|0.8516636455186306|\n+-----------+------------------+\n\n---- Cluster 5 — Top 7 diff_rank Stations (Batch 3) ----\n+-----------+-------------------+\n|station_num|          diff_rank|\n+-----------+-------------------+\n|      11713| 0.5298964420791912|\n|      19606|0.27289774743113426|\n|      16616| 0.2589475516283429|\n|      60179|0.17199404223984982|\n|      14771| 0.1719442380426417|\n|      20288| 0.1498027914449242|\n|      11458|0.14130943535160823|\n+-----------+-------------------+\n\n\n======================= BATCH 4 =======================\n"
     ]
    }
   ],
   "source": [
    "import time\n",
    "\n",
    "SCHEMA = \"device_id STRING, event_date INT, event_time INT, station_num STRING, prog_code STRING, household_id STRING\"\n",
    "kafka_server = \"kafka.eastus.cloudapp.azure.com:29092\"\n",
    "topic = \"view_data\"\n",
    "OFFSETS_PER_TRIGGER = 50000\n",
    "\n",
    "streaming_df = spark.readStream \\\n",
    "    .format(\"kafka\") \\\n",
    "    .option(\"kafka.bootstrap.servers\", kafka_server) \\\n",
    "    .option(\"subscribe\", topic) \\\n",
    "    .option(\"startingOffsets\", \"earliest\") \\\n",
    "    .option(\"failOnDataLoss\", False) \\\n",
    "    .option(\"maxOffsetsPerTrigger\", OFFSETS_PER_TRIGGER) \\\n",
    "    .load() \\\n",
    "    .select(from_csv(decode(\"value\", \"US-ASCII\"), schema=SCHEMA).alias(\"value\")) \\\n",
    "    .select(\"value.*\")\n",
    "\n",
    "# Accumulator to store past batch data\n",
    "accumulated_df = None\n",
    "batch_counter = {\"count\": 0}\n",
    "\n",
    "def process_batch(batch_df, batch_id):\n",
    "    global accumulated_df\n",
    "\n",
    "    print(f\"\\n======================= BATCH {batch_counter['count'] + 1} =======================\")\n",
    "\n",
    "    # Accumulate batch data\n",
    "    if accumulated_df is None:\n",
    "        accumulated_df = batch_df\n",
    "    else:\n",
    "        accumulated_df = accumulated_df.union(batch_df)\n",
    "\n",
    "    # 1. Compute GLOBAL popularity (all households across all clusters so far)\n",
    "    df_station_count_global = accumulated_df.groupBy(\"station_num\").agg(count(\"*\").alias(\"view_count_global\"))\n",
    "    total_views_global = accumulated_df.count()\n",
    "\n",
    "    if total_views_global == 0:\n",
    "        print(\"No views yet in accumulated data.\")\n",
    "        return\n",
    "\n",
    "    df_global_rating = df_station_count_global.withColumn(\n",
    "        \"popularity_general\", (col(\"view_count_global\") / total_views_global) * 100\n",
    "    ).select(\"station_num\", \"popularity_general\")\n",
    "\n",
    "    # 2. Process each cluster separately\n",
    "    for k in range(6):\n",
    "        df_thirds_k = thirds_subsets[k]\n",
    "        df_viewing_k = df_thirds_k.join(accumulated_df, on=\"household_id\")\n",
    "\n",
    "        total_views_cluster = df_viewing_k.count()\n",
    "\n",
    "        if total_views_cluster == 0:\n",
    "            print(f\"Cluster {k}: no data yet.\")\n",
    "            continue\n",
    "\n",
    "        # Popularity inside cluster\n",
    "        df_station_count_k = df_viewing_k.groupBy(\"station_num\").agg(count(\"*\").alias(\"view_count_k\"))\n",
    "\n",
    "        df_rating_k = df_station_count_k.withColumn(\n",
    "            \"pop_rating\", (col(\"view_count_k\") / total_views_cluster) * 100\n",
    "        )\n",
    "\n",
    "        # Compute diff_rank: local vs global\n",
    "        df_diff_rank = df_rating_k.join(\n",
    "            df_global_rating,\n",
    "            on=\"station_num\",\n",
    "        ).withColumn(\n",
    "            \"diff_rank\", col(\"pop_rating\") - col(\"popularity_general\")\n",
    "        )\n",
    "\n",
    "        # Top 7 by diff_rank\n",
    "        top_7 = df_diff_rank.orderBy(col(\"diff_rank\").desc()).limit(7)\n",
    "\n",
    "        print(f\"---- Cluster {k} — Top 7 diff_rank Stations (Batch {batch_counter['count'] + 1}) ----\")\n",
    "        top_7.select(\"station_num\", \"diff_rank\").show()\n",
    "\n",
    "    # Update batch counter\n",
    "    batch_counter[\"count\"] += 1\n",
    "\n",
    "\n",
    "# Start the query\n",
    "query = streaming_df.writeStream \\\n",
    "    .foreachBatch(process_batch) \\\n",
    "    .outputMode(\"append\") \\\n",
    "    .start()\n",
    "\n",
    "# Wait until at least 3 batches are processed\n",
    "while batch_counter[\"count\"] < 3:\n",
    "    time.sleep(5)\n",
    "\n",
    "query.stop()\n"
   ]
  }
 ],
 "metadata": {
  "application/vnd.databricks.v1+notebook": {
   "computePreferences": null,
   "dashboards": [],
   "environmentMetadata": null,
   "inputWidgetPreferences": null,
   "language": "python",
   "notebookMetadata": {
    "pythonIndentUnit": 4
   },
   "notebookName": "PROJECT2_WET_340868488_315435214_337917843",
   "widgets": {}
  },
  "language_info": {
   "name": "python"
  }
 },
 "nbformat": 4,
 "nbformat_minor": 0
}
